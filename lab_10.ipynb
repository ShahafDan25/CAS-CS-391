{
 "cells": [
  {
   "cell_type": "markdown",
   "metadata": {
    "id": "P2orYNSVGaNp"
   },
   "source": [
    "# **Lab 10: Logistic Regression**\n",
    "# CS 391 E1: Foundations of Data Science, Spring 2021\n",
    "### Dr. Dora Erdos (Instructor), Hannah Catabia (Teaching Fellow)"
   ]
  },
  {
   "cell_type": "markdown",
   "metadata": {
    "id": "ceifzB5L5z9C"
   },
   "source": [
    "### **Sigmoid Function**\n",
    "\n",
    "The sigmoid function is a logistic function defined as:\n",
    "\n",
    "$$\\sigma(x) =  \\frac{1}{1+e^{-x}} = \\frac{e^x}{e^x + 1} = 1 - \\sigma(-x)$$\n",
    "\n",
    "Here's a plot:"
   ]
  },
  {
   "cell_type": "code",
   "execution_count": 26,
   "metadata": {
    "colab": {
     "base_uri": "https://localhost:8080/",
     "height": 265
    },
    "id": "PlTqGaMaLbuF",
    "outputId": "fa8f0690-9334-4ed5-e637-0194c95b39d5"
   },
   "outputs": [
    {
     "data": {
      "image/png": "[encoded data removed]",
      "text/plain": [
       "<Figure size 432x288 with 1 Axes>"
      ]
     },
     "metadata": {
      "needs_background": "light",
      "tags": []
     },
     "output_type": "display_data"
    }
   ],
   "source": [
    "import matplotlib.pyplot as plt\n",
    "import numpy as np\n",
    "  \n",
    "# setting the x - coordinates\n",
    "x = np.arange(-7, 2*(np.pi), 0.1)\n",
    "\n",
    "# setting the corresponding y - coordinates\n",
    "y = 1/(np.exp(-x)+1)\n",
    "\n",
    "# playing with parameters!\n",
    "c1 = 1\n",
    "c2 = 0\n",
    "z = 1/(np.exp(c1*(-x-c2))+1)\n",
    "\n",
    "\n",
    "# potting the points\n",
    "plt.plot(x, y)\n",
    "plt.plot(x,z)\n",
    "  \n",
    "# function to show the plot\n",
    "plt.show()"
   ]
  },
  {
   "cell_type": "markdown",
   "metadata": {
    "id": "lbo-cAS1MP1W"
   },
   "source": [
    "The sigmoid function is very useful for binary classification problems, as it maps the vast majority of x values to either 0 or 1!\n",
    "\n",
    "When we perform a logistic regression, we want to find a the sigmoid function that will best map our predictive features (our $X$) to either 0 or 1 (our $y$).\n",
    "\n",
    "What are the parameters of a sigmoid function?  They are $c_1$ and $c_2$.  Note that $c_1$ changes the \"steepness\" of the curve, while $c_2$ moves the intercept.  Try playing with the code above by entering your own $c_1$ and $c_2$ parameters, and see how it changes the graph!\n",
    "\n",
    "![picture](https://drive.google.com/uc?id=1xMETIxNNidJFiFSDfTZoQM884RU-5kTF)\n",
    "\n",
    "*Image credit:*  https://www.researchgate.net/figure/A-Basic-sigmoid-function-with-two-parameters-c1-and-c2-as-commonly-used-for-subitizing_fig2_325868989"
   ]
  },
  {
   "cell_type": "markdown",
   "metadata": {
    "id": "VtEXOQu2Scfl"
   },
   "source": [
    "## **Maximizing the log-likelihood function**\n",
    "\n",
    "Let's call one **sample**, or **row**, $x^{(i)}$.  The **classification**, or **label**, of this one sample is $y^{(i)}$.  Let's call our **parameters**, or **weights**, $\\theta$--in the graph above, $\\theta$ is the vector $\\begin{bmatrix} c_1\n",
    "\\\\ c_2 \\end{bmatrix}$.\n",
    "\n",
    "Each label $y$ can be thought of as a Bernoulli random variable:\n",
    "$$Y \\sim Ber(p)$$\n",
    "\n",
    "\n",
    "$$P\\left(Y=y|p \\right) = \\left(p\\right)^{y}\n",
    "\\cdot \\left[1 - p\\right]^{1-y}$$\n",
    "\n",
    "What is the probability $p$?\n",
    "$$p = \\sigma(\\theta^Tx)$$\n",
    "\n",
    "So then you calculate the Bernouli PMF with this probability:\n",
    "\n",
    "$$Y \\sim Ber\\left(\\sigma(\\theta^Tx)\\right)$$\n",
    "\n",
    "\n",
    "\n",
    "$$P\\left(Y=y|X=x\\right) = \\left(\\sigma(\\theta^Tx)\\right)^{y}\n",
    "\\cdot \\left[1 - \\sigma(\\theta^Tx)\\right]^{1-y}$$\n",
    "\n",
    "Likelihood of all the data:\n",
    "\n",
    "$$L(\\theta) =  \\prod_{i=1}^n P\\left(Y=y^{(i)}|X=x^{(i)}\\right) $$\n",
    "$$ = \\prod_{i=1}^n \\left(\\sigma(\\theta^Tx^{(i)})\\right)^{y^{(i)}}\n",
    "\\cdot \\left[1 - \\sigma(\\theta^Tx^{(i)})\\right]^{1-y^{(i)}}$$\n",
    "\n",
    "Now we can take the log of our likelihood function!  Why?\n",
    "\n",
    "$$LL(\\theta) = \\log \\left( \\prod_{i=1}^n \\left(\\sigma(\\theta^Tx^{(i)})\\right)^{y^{(i)}}\n",
    "\\cdot \\left[1 - \\sigma(\\theta^Tx^{(i)})\\right]^{1-y^{(i)}}\\right)$$\n",
    "$$  = \\sum_{i=1}^n y^{(i)} \\log \\left(\\sigma(\\theta^Tx^{(i)})\\right)\n",
    "+ (1-y^{(i)}) \\log\\left[1 - \\sigma(\\theta^Tx^{(i)})\\right]$$\n",
    "\n",
    "To perform gradient \"ascent\", we need to calculate the gradient (derivative with respect to $\\theta$).  Then we get:\n",
    "\n",
    "$$\\frac{\\partial LL(\\theta)}{\\partial \\theta_j}\n",
    "= \\sum_{i=1}^n \\left[y^{(i)} - \\left(\\sigma(\\theta^Tx^{(i)})\\right) \\right]x^{(i)}_j $$\n",
    "\n",
    "You can see all of the steps of taking the derivative here:\n",
    "https://web.stanford.edu/class/archive/cs/cs109/cs109.1178/lectureHandouts/220-logistic-regression.pdf\n",
    "\n",
    "Finally, we can estimate the optimal $\\theta$ with gradient ascent by iteratively computing:\n",
    "\n",
    "$$\\theta^{\\text{ new}}_j =\\theta^{\\text{ old}}_j + \\alpha  \\frac{\\partial LL(\\theta^{\\text{ old}}_j)}{\\partial \\theta^{\\text{ old}}_j}$$\n",
    "$$= \\theta^{\\text{ old}}_j + \\alpha  \\sum_{i=1}^n \\left[y^{(i)} - \\left(\\sigma([\\theta^{\\text{ old}}]^T x^{(i)})\\right) \\right]x^{(i)}_j $$\n",
    "\n",
    "Here, $\\alpha$ is the learning rate."
   ]
  },
  {
   "cell_type": "markdown",
   "metadata": {
    "id": "PuoZslUKEi8-"
   },
   "source": [
    "## **Some SciKit-Learn fuctions you may find helpful on your homework:**"
   ]
  },
  {
   "cell_type": "code",
   "execution_count": null,
   "metadata": {
    "id": "YC10ffnkEiFd"
   },
   "outputs": [],
   "source": [
    "from sklearn.preprocessing import LabelEncoder, OneHotEncoder\n",
    "from sklearn.model_selection import train_test_split\n",
    "from sklearn.metrics import roc_auc_score, roc_curve, plot_roc_curve\n",
    "from sklearn.linear_model import SGDClassifier\n",
    "from sklearn.metrics import confusion_matrix, plot_confusion_matrix, accuracy_score, precision_score, recall_score, f1_score\n"
   ]
  }
 ],
 "metadata": {
  "colab": {
   "name": "lab10.ipynb",
   "provenance": [],
   "toc_visible": true
  },
  "kernelspec": {
   "display_name": "Python 3",
   "language": "python",
   "name": "python3"
  },
  "language_info": {
   "codemirror_mode": {
    "name": "ipython",
    "version": 3
   },
   "file_extension": ".py",
   "mimetype": "text/x-python",
   "name": "python",
   "nbconvert_exporter": "python",
   "pygments_lexer": "ipython3",
   "version": "3.8.5"
  }
 },
 "nbformat": 4,
 "nbformat_minor": 1
}
