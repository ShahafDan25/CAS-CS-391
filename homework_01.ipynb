{
 "cells": [
  {
   "cell_type": "markdown",
   "metadata": {
    "id": "kt1JHDsr4dHs"
   },
   "source": [
    "# <center> **CS 391, Spring 2021, Homework 1**\n",
    "### <center> Due **Tuesday February 2, 11:59 pm ET (Boston time)**, viaGradescope\n",
    "\n",
    "\n"
   ]
  },
  {
   "cell_type": "markdown",
   "metadata": {
    "id": "6MSiDOUbDbuv"
   },
   "source": [
    "###**Submission guidelines** \n",
    "Please write your solutions inside of this .ipynb file, then convert it to a PDF before submitting on Gradescope:\n",
    "\n",
    "*   **In Jupyter:** File > Download as > PDF\n",
    "*   **In Google Colab:** File > Print > Destination > Save as PDF\n",
    "\n",
    "When you submit, please **be sure to match the answers on your PDF to the outline on Gradescope.** In other words, if the answer to problem 2.1 is on pages 2 and 3 of your PDF, please be sure to select those pages as the answer to problem 2.1 on Gradescope. Since it takes significantly longer to grade homework that is not properly matched, **we may deduct points** for noncompliant submissions.\n",
    "\n",
    "The lab on Wednesday 1/27 covers how to get started with the notebooks for writing problem solutions and running experiments. In case you haven't done so, please sign up to the course Gradescope, with the access code **ERV7B2**: https://www.gradescope.com/courses/232562.\n",
    "\n",
    "<div style=\"page-break-after: always;\"></div>"
   ]
  },
  {
   "cell_type": "markdown",
   "metadata": {
    "id": "dX6hIxhG53tC"
   },
   "source": [
    "## **1. Problem Solving**\n",
    "\n",
    "Akhil is a youth activist, who is going door-to-door in his neighborhood to hand out material on upcoming events around town. He only hands out flyers to households where the door is answered *and* a teenager lives there. He finds that the probability of each door being answered is $p_1$, and the probability of a teenager living at an address is $p_2$. You may assume that residents answer doors independently of the presence of teenagers. Work out the probability of the folloing events. (We may assume that the number of calls is always sufficiently large to hand out the desired number of flyers.)\n",
    "\n",
    "### **1.1**\n",
    "What is the probability that Akhil hands out his $k^{th}$ flyer at the $l^{th}$ door?\n"
   ]
  },
  {
   "cell_type": "markdown",
   "metadata": {
    "id": "aSBmL-SwGx1O"
   },
   "source": [
    "**Answer:**\n",
    "Let us consider that the probability of handing out a flyer at any door can be described as $p_1\\,\\cap\\,p_2$, which, since the two events represented by the $p_1$ and $p_2$ probability are independent, can be mathematically expressed as $p_1 \\cdot p_2$\n",
    "\n",
    "Next, since the scenario provides as with $l$ trials and only $k$ successes, we can consider it as a **binomial distribution** for the $k^{th}$ flyer and $l^{th}$ floor, such that \n",
    "\n",
    "$X$ ~ Binomial$(k, l)$, where X is a discrete random variable representing the number of successes (doors at which a flyer was handed out).\n",
    "\n",
    "Therefore,\n",
    "\n",
    "$$Pr(X = k) = \\boxed{{l \\choose k}(p_1 \\cdot p_2)^k \\cdot (1 - (p_1 \\cdot p_2))^{(l-k)}}$$\n"
   ]
  },
  {
   "cell_type": "markdown",
   "metadata": {
    "id": "3lDM9_3pH1hx"
   },
   "source": [
    "### **1.2**\n",
    "\n",
    "How many doors does it take to hand out $k$ flyers?  Calculate the expectation.\n"
   ]
  },
  {
   "cell_type": "markdown",
   "metadata": {
    "id": "ODFFBv84IOe5"
   },
   "source": [
    "**Answer:**\n",
    "\n",
    "As a follow up of the previous question, since we consider the descrbied scenario as a binomial dirtibution, we can consider the expectation as follows:\n",
    "\n",
    "$$Ex(X) = \\sum_{i=1}^n Ex(X_i) = n\\cdot p$$\n",
    "\n",
    "Which, by applying to our scenario, would be\n",
    "\n",
    "$$Ex(X) = \\boxed{l \\cdot (p_1 \\cdot p_2)}$$"
   ]
  },
  {
   "cell_type": "markdown",
   "metadata": {
    "id": "hdtcowkTIRlI"
   },
   "source": [
    "### **1.3**\n",
    "\n",
    "If Akhil hands out $k$ flyers at the first $t$ doors, what is the probability that he hands out an additional $l$ during the second $t$ calls? "
   ]
  },
  {
   "cell_type": "markdown",
   "metadata": {
    "id": "O7pUbRXyIfVS"
   },
   "source": [
    "**Answer:**\n",
    "\n",
    "Since the event of hading out a flyer is independent from door to door and floor to floor, the probability of handing out an additionl l flyers during the second t calls has nothing to do with the probability of handing out k flyers on the first t calls. Therefore, by defining E to be the event describes, we can conclude that:\n",
    "\n",
    "$$ Pr(E) = \\boxed{{t \\choose l}(p_1 \\cdot p_2)^l \\cdot (1 - (p_1 \\cdot p_2))^{(t-l)}} $$"
   ]
  },
  {
   "cell_type": "markdown",
   "metadata": {
    "id": "9TyTabehIhiU"
   },
   "source": [
    "### **1.4**\n",
    "\n",
    "Given that he has *not* given away $k$ flyers after $t$ calls, what is the probability of handing out $k+ d$ by the $k+2d^{th}$ call? "
   ]
  },
  {
   "cell_type": "markdown",
   "metadata": {
    "id": "U7AqI-S1I3_g"
   },
   "source": [
    "**Answer:**\n",
    "\n",
    "For this question, we must consider that although not all k flyers were given out in the first t calls, there was still a certain number (let it be represented by $m$, such that m is with in the range of 0 to $k - 1$) that was handed out at t doors.\n",
    "\n",
    "With that in mind, we can apply the new information to the binomial distribution as explained in previous sections, which allows to conclude:\n",
    "\n",
    "By letting event $E$ represent the event at which Akhil has not given away k flyers after t calls but but has given out $k + d$ flyers within a total number of $k + 2d$ calls, that \n",
    "\n",
    "$$Pr(E) = {k + 2d- t \\choose k + d - m} \\cdot (p_1 \\cdot p_2)^{(k + d - m)} \\cdot (1 - (p_1 \\cdot p_2))^{(k + 2d - t) - (k + d - m)}$$\n",
    "\n",
    "$$ \\boxed{ = {k + 2d- t \\choose k + d - m} \\cdot (p_1 \\cdot p_2)^{(k + d - m)} \\cdot (1 - (p_1 \\cdot p_2))^{(d -t + m)}} $$ "
   ]
  },
  {
   "cell_type": "markdown",
   "metadata": {
    "id": "wdsnTTxP6-XV"
   },
   "source": [
    "## **2. Experiments**\n",
    "\n",
    "Here is a Python program that rolls a fair die:"
   ]
  },
  {
   "cell_type": "code",
   "execution_count": 3,
   "metadata": {
    "colab": {
     "base_uri": "https://localhost:8080/"
    },
    "id": "LXXFyPuH8eDu",
    "outputId": "88ec6778-1091-46b8-a5c6-e692172c5f8f"
   },
   "outputs": [
    {
     "data": {
      "text/plain": [
       "1"
      ]
     },
     "execution_count": 3,
     "metadata": {},
     "output_type": "execute_result"
    }
   ],
   "source": [
    "import random\n",
    "die = [1, 2, 3, 4, 5, 6]\n",
    "\n",
    "def roll():\n",
    "  val = random.sample(die, 1)[0]\n",
    "  return val\n",
    "\n",
    "roll()\n"
   ]
  },
  {
   "cell_type": "markdown",
   "metadata": {
    "id": "cdS4L-qgADFT"
   },
   "source": [
    "###**2.1**\n",
    "\n",
    "What is the expected value of rolling a single die?  (Please show your calculation.)\n",
    "\n"
   ]
  },
  {
   "cell_type": "markdown",
   "metadata": {
    "id": "Ta0ua5WhAibu"
   },
   "source": [
    "**Answer:**\n",
    "\n",
    "Recall the definition of expectation:\n",
    "$$ Ex(X) = \\sum_{\\omega\\in \\Omega} X(\\omega)\\cdot Pr(\\{\\omega\\})$$\n",
    "\n",
    "Since each value of a die being rolled has an equal probability of $\\frac{1}{6}$,\n",
    "by applying this to a fair die being rolled, we can claim that the expected value of rolling a die is\n",
    "$$ (1\\cdot \\frac{1}{6}) + (2\\cdot \\frac{1}{6}) + (3\\cdot \\frac{1}{6}) + (4\\cdot \\frac{1}{6}) + (5\\cdot \\frac{1}{6}) + (6\\cdot \\frac{1}{6}) = \\frac{1 + 2 + 3 + 4 + 5 + 6}{6} = \\boxed{\\frac{7}{2}}$$"
   ]
  },
  {
   "cell_type": "markdown",
   "metadata": {
    "id": "sxt3p7xYBCOI"
   },
   "source": [
    "### **2.2**\n",
    "Perform an experiment.  What is the average of value of 10 die rolls?  How about 100, 1,000, and 10,000?  What do you notice happening as you increase the number of rolls?"
   ]
  },
  {
   "cell_type": "code",
   "execution_count": 4,
   "metadata": {
    "id": "GCU49N8mCMaP"
   },
   "outputs": [
    {
     "name": "stdout",
     "output_type": "stream",
     "text": [
      "Average value of 10 rolls is: 3.9\n",
      "Average value of 10 rolls is: 3.28\n",
      "Average value of 10 rolls is: 3.473\n",
      "Average value of 10 rolls is: 3.4914\n",
      "\n",
      "\n",
      "We notice that as we increase the number of rolls, the average value of the total rolls comes closer to the expected value.\n"
     ]
    }
   ],
   "source": [
    "# Answer:\n",
    "def avgRollVal(numRolls):\n",
    "    total = 0\n",
    "    for i in range(numRolls):\n",
    "        total += roll()\n",
    "    return total / numRolls\n",
    "\n",
    "print(\"Average value of 10 rolls is: \" + str(avgRollVal(10)))\n",
    "print(\"Average value of 10 rolls is: \" + str(avgRollVal(100)))\n",
    "print(\"Average value of 10 rolls is: \" + str(avgRollVal(1000)))\n",
    "print(\"Average value of 10 rolls is: \" + str(avgRollVal(10000)))\n",
    "print(\"\\n\\nWe notice that as we increase the number of rolls, the average value of the total rolls comes closer to the expected value.\")"
   ]
  },
  {
   "cell_type": "markdown",
   "metadata": {
    "id": "T9n2txrKCf1i"
   },
   "source": [
    "###**2.3**\n",
    "\n",
    "What is the expected value of rolling *two* dice?  (Please show your calculation.)\n",
    "\n"
   ]
  },
  {
   "cell_type": "markdown",
   "metadata": {
    "id": "XEyxjjtTCrpw"
   },
   "source": [
    "**Answer:**\n",
    "\n",
    "By the same concept of rolling only one die, we can consider that the possible outcomes are: $\\Omega = \\{ 2,3,4,5,6,7,8,9,10,11,12 \\}$ with each outcome having a different probability (considering there are 36 possible variations of outcomes by rolling two dice) as described in the following table (hash table):\n",
    "\n",
    "| Outcome | Dice Values | Probability |\n",
    "| --- | --- | --- |\n",
    "| 2 | (1,1) | 1/36 |\n",
    "| 3 | (1,2), (2,1) | 2/36 |\n",
    "| 4 | (1,3), (2,2), (3,1) | 3/36 |\n",
    "| 5 | (1,4), (4,1), (2,3), (3,2) | 4/36 |\n",
    "| 6 | (1,5), (5,1), (2,4), (4,2), (3,3) | 5/36 |\n",
    "| 7 | (1,6), (6,1), (2,5), (5,2), (3,4), (4,3) | 6/36 |\n",
    "| 8 | (2,6), (6,2), (3,5), (5,3), (4,4) | 5/36 |\n",
    "| 9 | (3,6), (6,3), (4,5), (5,4) | 4/36 |\n",
    "| 10 | (4,6), (6,4), (5,5) | 3/36 |\n",
    "| 11 | (5,6), (6,5) | 2/36 |\n",
    "| 12 | (6,6) | 1/36 |\n",
    "\n",
    "Therefore, by defining X as a discrete radom variable representing the outcome of the sum of rolling two dice, we can conclude that\n",
    "$$Ex(X) = $$\\\n",
    "$$= \\frac{(2\\cdot 1) + (3\\cdot 2) + (4\\cdot 3) + (5\\cdot 4) + (6\\cdot 5) + (7\\cdot 6) + (8 \\cdot 5) + (9\\cdot 4) + (10\\cdot 3) + (11\\cdot 2) + (12\\cdot 1)}{36} $$\\\n",
    "$$= \\frac{2 + 6 + 12 + 20 + 30 + 42 + 40 + 36 + 30 + 22 + 12}{36} = \\frac{252}{36} = \\boxed{7}$$"
   ]
  },
  {
   "cell_type": "code",
   "execution_count": null,
   "metadata": {
    "id": "8xnEtOPcJw69"
   },
   "outputs": [],
   "source": []
  },
  {
   "cell_type": "markdown",
   "metadata": {
    "id": "lIMlJjDMC4kw"
   },
   "source": [
    "### **2.4**\n",
    "Now perform the same experiment, this time rolling two dice.  What is the average of value of 10, 100, 1,000, and 10,000 dice rolls?  Again, what do you notice happening as you increase the number of rolls?"
   ]
  },
  {
   "cell_type": "code",
   "execution_count": 7,
   "metadata": {
    "id": "BIkmrFrADEZS"
   },
   "outputs": [
    {
     "name": "stdout",
     "output_type": "stream",
     "text": [
      "Average value of 10 rolls is: 7.4\n",
      "Average value of 10 rolls is: 6.96\n",
      "Average value of 10 rolls is: 6.991\n",
      "Average value of 10 rolls is: 6.9634\n"
     ]
    }
   ],
   "source": [
    "# Answer:\n",
    "\n",
    "def avgRollVal2d(numRolls):\n",
    "    total = 0\n",
    "    for i in range(numRolls):\n",
    "        total += (roll() + roll())\n",
    "    return total / numRolls\n",
    "\n",
    "print(\"Average value of 10 rolls is: \" + str(avgRollVal2d(10)))\n",
    "print(\"Average value of 10 rolls is: \" + str(avgRollVal2d(100)))\n",
    "print(\"Average value of 10 rolls is: \" + str(avgRollVal2d(1000)))\n",
    "print(\"Average value of 10 rolls is: \" + str(avgRollVal2d(10000)))"
   ]
  },
  {
   "cell_type": "code",
   "execution_count": 10,
   "metadata": {},
   "outputs": [
    {
     "name": "stdout",
     "output_type": "stream",
     "text": [
      "We notice that as we increase the number of rolls, the average value of the total rolls comes closer to the expected value.\n"
     ]
    }
   ],
   "source": [
    "print(\"We notice that as we increase the number of rolls, the average value of the total rolls comes closer to the expected value.\")\n"
   ]
  },
  {
   "cell_type": "code",
   "execution_count": null,
   "metadata": {},
   "outputs": [],
   "source": []
  }
 ],
 "metadata": {
  "colab": {
   "collapsed_sections": [],
   "name": "homework1.ipynb",
   "provenance": []
  },
  "kernelspec": {
   "display_name": "Python 3",
   "language": "python",
   "name": "python3"
  },
  "language_info": {
   "codemirror_mode": {
    "name": "ipython",
    "version": 3
   },
   "file_extension": ".py",
   "mimetype": "text/x-python",
   "name": "python",
   "nbconvert_exporter": "python",
   "pygments_lexer": "ipython3",
   "version": "3.8.3"
  }
 },
 "nbformat": 4,
 "nbformat_minor": 1
}
