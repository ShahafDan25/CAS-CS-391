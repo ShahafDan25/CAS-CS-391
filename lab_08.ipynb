{
  "nbformat": 4,
  "nbformat_minor": 0,
  "metadata": {
    "kernelspec": {
      "display_name": "Python 3",
      "language": "python",
      "name": "python3"
    },
    "language_info": {
      "codemirror_mode": {
        "name": "ipython",
        "version": 3
      },
      "file_extension": ".py",
      "mimetype": "text/x-python",
      "name": "python",
      "nbconvert_exporter": "python",
      "pygments_lexer": "ipython3",
      "version": "3.5.6"
    },
    "colab": {
      "name": "lab8.ipynb",
      "provenance": []
    }
  },
  "cells": [
    {
      "cell_type": "markdown",
      "metadata": {
        "id": "P2orYNSVGaNp"
      },
      "source": [
        "\n",
        "\n",
        "# **Lab 8**\n",
        "# CS 391 E1: Foundations of Data Science, Spring 2021\n",
        "### Dr. Dora Erdos (Instructor), Hannah Catabia (Teaching Fellow)"
      ]
    },
    {
      "cell_type": "markdown",
      "metadata": {
        "id": "nP6Oso422hEa"
      },
      "source": [
        "**This lab is based on:**\n",
        "https://towardsdatascience.com/optimization-of-supervised-learning-loss-function-under-the-hood-df1791391c82"
      ]
    },
    {
      "cell_type": "code",
      "metadata": {
        "colab": {
          "base_uri": "https://localhost:8080/",
          "height": 297
        },
        "id": "-T_jt3wMft0B",
        "outputId": "b9b1109b-5718-4f21-b7d7-c9ef9a704f45"
      },
      "source": [
        "import pandas as pd\n",
        "import numpy as np\n",
        "from numpy.linalg import svd, norm\n",
        "import matplotlib.pyplot as plt\n",
        "%matplotlib inline\n",
        "plt.style.use('ggplot')\n",
        "import seaborn as sns\n",
        "\n",
        "pd.set_option(\"display.max_rows\", None, \"display.max_columns\", None)\n",
        "pd.set_option('display.float_format', lambda x: '%.2f' % x)\n",
        "\n",
        "ames = pd.read_csv('https://raw.githubusercontent.com/catabia/cs391_spring21/main/AmesHousing.csv')\n",
        "ames = ames[['Neighborhood','Lot Area', 'Overall Cond', 'Year Built', 'Year Remod/Add', 'Gr Liv Area', 'Full Bath', 'Half Bath', 'Bedroom AbvGr', 'TotRms AbvGrd', 'SalePrice']]\n",
        "ames.columns = ['neighborhood','lot_area', 'overall_cond', 'year_built', 'year_remod', 'sqft', 'full_bath', 'half_bath', 'bedroom', 'total_rooms', 'sale_price']\n",
        "ames=ames.dropna()\n",
        "ames.describe()"
      ],
      "execution_count": 2,
      "outputs": [
        {
          "output_type": "execute_result",
          "data": {
            "text/html": [
              "<div>\n",
              "<style scoped>\n",
              "    .dataframe tbody tr th:only-of-type {\n",
              "        vertical-align: middle;\n",
              "    }\n",
              "\n",
              "    .dataframe tbody tr th {\n",
              "        vertical-align: top;\n",
              "    }\n",
              "\n",
              "    .dataframe thead th {\n",
              "        text-align: right;\n",
              "    }\n",
              "</style>\n",
              "<table border=\"1\" class=\"dataframe\">\n",
              "  <thead>\n",
              "    <tr style=\"text-align: right;\">\n",
              "      <th></th>\n",
              "      <th>lot_area</th>\n",
              "      <th>overall_cond</th>\n",
              "      <th>year_built</th>\n",
              "      <th>year_remod</th>\n",
              "      <th>sqft</th>\n",
              "      <th>full_bath</th>\n",
              "      <th>half_bath</th>\n",
              "      <th>bedroom</th>\n",
              "      <th>total_rooms</th>\n",
              "      <th>sale_price</th>\n",
              "    </tr>\n",
              "  </thead>\n",
              "  <tbody>\n",
              "    <tr>\n",
              "      <th>count</th>\n",
              "      <td>2930.00</td>\n",
              "      <td>2930.00</td>\n",
              "      <td>2930.00</td>\n",
              "      <td>2930.00</td>\n",
              "      <td>2930.00</td>\n",
              "      <td>2930.00</td>\n",
              "      <td>2930.00</td>\n",
              "      <td>2930.00</td>\n",
              "      <td>2930.00</td>\n",
              "      <td>2930.00</td>\n",
              "    </tr>\n",
              "    <tr>\n",
              "      <th>mean</th>\n",
              "      <td>10147.92</td>\n",
              "      <td>5.56</td>\n",
              "      <td>1971.36</td>\n",
              "      <td>1984.27</td>\n",
              "      <td>1499.69</td>\n",
              "      <td>1.57</td>\n",
              "      <td>0.38</td>\n",
              "      <td>2.85</td>\n",
              "      <td>6.44</td>\n",
              "      <td>180796.06</td>\n",
              "    </tr>\n",
              "    <tr>\n",
              "      <th>std</th>\n",
              "      <td>7880.02</td>\n",
              "      <td>1.11</td>\n",
              "      <td>30.25</td>\n",
              "      <td>20.86</td>\n",
              "      <td>505.51</td>\n",
              "      <td>0.55</td>\n",
              "      <td>0.50</td>\n",
              "      <td>0.83</td>\n",
              "      <td>1.57</td>\n",
              "      <td>79886.69</td>\n",
              "    </tr>\n",
              "    <tr>\n",
              "      <th>min</th>\n",
              "      <td>1300.00</td>\n",
              "      <td>1.00</td>\n",
              "      <td>1872.00</td>\n",
              "      <td>1950.00</td>\n",
              "      <td>334.00</td>\n",
              "      <td>0.00</td>\n",
              "      <td>0.00</td>\n",
              "      <td>0.00</td>\n",
              "      <td>2.00</td>\n",
              "      <td>12789.00</td>\n",
              "    </tr>\n",
              "    <tr>\n",
              "      <th>25%</th>\n",
              "      <td>7440.25</td>\n",
              "      <td>5.00</td>\n",
              "      <td>1954.00</td>\n",
              "      <td>1965.00</td>\n",
              "      <td>1126.00</td>\n",
              "      <td>1.00</td>\n",
              "      <td>0.00</td>\n",
              "      <td>2.00</td>\n",
              "      <td>5.00</td>\n",
              "      <td>129500.00</td>\n",
              "    </tr>\n",
              "    <tr>\n",
              "      <th>50%</th>\n",
              "      <td>9436.50</td>\n",
              "      <td>5.00</td>\n",
              "      <td>1973.00</td>\n",
              "      <td>1993.00</td>\n",
              "      <td>1442.00</td>\n",
              "      <td>2.00</td>\n",
              "      <td>0.00</td>\n",
              "      <td>3.00</td>\n",
              "      <td>6.00</td>\n",
              "      <td>160000.00</td>\n",
              "    </tr>\n",
              "    <tr>\n",
              "      <th>75%</th>\n",
              "      <td>11555.25</td>\n",
              "      <td>6.00</td>\n",
              "      <td>2001.00</td>\n",
              "      <td>2004.00</td>\n",
              "      <td>1742.75</td>\n",
              "      <td>2.00</td>\n",
              "      <td>1.00</td>\n",
              "      <td>3.00</td>\n",
              "      <td>7.00</td>\n",
              "      <td>213500.00</td>\n",
              "    </tr>\n",
              "    <tr>\n",
              "      <th>max</th>\n",
              "      <td>215245.00</td>\n",
              "      <td>9.00</td>\n",
              "      <td>2010.00</td>\n",
              "      <td>2010.00</td>\n",
              "      <td>5642.00</td>\n",
              "      <td>4.00</td>\n",
              "      <td>2.00</td>\n",
              "      <td>8.00</td>\n",
              "      <td>15.00</td>\n",
              "      <td>755000.00</td>\n",
              "    </tr>\n",
              "  </tbody>\n",
              "</table>\n",
              "</div>"
            ],
            "text/plain": [
              "       lot_area  overall_cond  year_built  year_remod    sqft  full_bath  \\\n",
              "count   2930.00       2930.00     2930.00     2930.00 2930.00    2930.00   \n",
              "mean   10147.92          5.56     1971.36     1984.27 1499.69       1.57   \n",
              "std     7880.02          1.11       30.25       20.86  505.51       0.55   \n",
              "min     1300.00          1.00     1872.00     1950.00  334.00       0.00   \n",
              "25%     7440.25          5.00     1954.00     1965.00 1126.00       1.00   \n",
              "50%     9436.50          5.00     1973.00     1993.00 1442.00       2.00   \n",
              "75%    11555.25          6.00     2001.00     2004.00 1742.75       2.00   \n",
              "max   215245.00          9.00     2010.00     2010.00 5642.00       4.00   \n",
              "\n",
              "       half_bath  bedroom  total_rooms  sale_price  \n",
              "count    2930.00  2930.00      2930.00     2930.00  \n",
              "mean        0.38     2.85         6.44   180796.06  \n",
              "std         0.50     0.83         1.57    79886.69  \n",
              "min         0.00     0.00         2.00    12789.00  \n",
              "25%         0.00     2.00         5.00   129500.00  \n",
              "50%         0.00     3.00         6.00   160000.00  \n",
              "75%         1.00     3.00         7.00   213500.00  \n",
              "max         2.00     8.00        15.00   755000.00  "
            ]
          },
          "metadata": {
            "tags": []
          },
          "execution_count": 2
        }
      ]
    },
    {
      "cell_type": "code",
      "metadata": {
        "colab": {
          "base_uri": "https://localhost:8080/"
        },
        "id": "2XtTuipYltVo",
        "outputId": "0574889c-6679-4f29-8140-b011baaebcc1"
      },
      "source": [
        "# normalize the data\n",
        "from sklearn.preprocessing import MinMaxScaler\n",
        "\n",
        "scaler = MinMaxScaler(feature_range=(0,1))\n",
        "\n",
        "X = scaler.fit_transform(ames.drop(['neighborhood', 'sale_price'], axis=1))\n",
        "y = scaler.fit_transform(ames.sale_price.values.reshape(ames.shape[0], 1))\n",
        "\n",
        "# add a column of 1s so we can estimte the intercept\n",
        "X = np.c_[np.ones(X.shape[0]), X]\n",
        "#print(X)\n",
        "\n",
        "# number of samples\n",
        "m = X.shape[0]\n",
        "\n",
        "# initialize weights to 1\n",
        "theta = np.ones((X.shape[1], 1))\n",
        "theta\n"
      ],
      "execution_count": 3,
      "outputs": [
        {
          "output_type": "execute_result",
          "data": {
            "text/plain": [
              "array([[1.],\n",
              "       [1.],\n",
              "       [1.],\n",
              "       [1.],\n",
              "       [1.],\n",
              "       [1.],\n",
              "       [1.],\n",
              "       [1.],\n",
              "       [1.],\n",
              "       [1.]])"
            ]
          },
          "metadata": {
            "tags": []
          },
          "execution_count": 3
        }
      ]
    },
    {
      "cell_type": "code",
      "metadata": {
        "id": "A3KGzf1fvxBl"
      },
      "source": [
        "# Instantiate a hypothesis\n",
        "\n",
        "hypothesis = X@theta - y\n",
        "\n",
        "\n",
        "# Calculate cost function\n",
        "def cost(theta, X=X, y=y, m=m):\n",
        "    cost = np.transpose((X@theta - y))@(X@theta - y)\n",
        "    cost = (1/(2*m))*cost\n",
        "    return cost\n",
        "    \n",
        "# Calculate derivative of cost function\n",
        "def cost_dev(j, theta, X=X, y=y, m=m):\n",
        "    dev = X[:, j]@(X@theta - y)\n",
        "    dev = (1/m)*dev\n",
        "    return dev"
      ],
      "execution_count": 4,
      "outputs": []
    },
    {
      "cell_type": "code",
      "metadata": {
        "id": "srxbnngvy5WS"
      },
      "source": [
        "# Assign a learning rate\n",
        "a = .01\n",
        "cost_list = []\n",
        "theta_temp = np.zeros(theta.shape)\n",
        "theta_list = []\n",
        "for i in range(100):\n",
        "    \n",
        "    for j in range(len(theta)):\n",
        "        theta_temp[j] = theta[j] - a*cost_dev(j, theta)\n",
        "    \n",
        "    theta = theta_temp        \n",
        "    \n",
        "    theta_list.append(list(theta))\n",
        "    cost_val = float(cost(theta))\n",
        "    cost_list.append(cost_val)"
      ],
      "execution_count": 5,
      "outputs": []
    },
    {
      "cell_type": "code",
      "metadata": {
        "colab": {
          "base_uri": "https://localhost:8080/",
          "height": 299
        },
        "id": "_f2yFnD1zJsX",
        "outputId": "8d802104-5584-4999-b688-ad0a068fe67e"
      },
      "source": [
        "sns.lineplot(x=np.arange(len(cost_list)), y = cost_list)\n",
        "plt.xlabel('Iteration')\n",
        "plt.ylabel('MSE')"
      ],
      "execution_count": 7,
      "outputs": [
        {
          "output_type": "execute_result",
          "data": {
            "text/plain": [
              "Text(0, 0.5, 'MSE')"
            ]
          },
          "metadata": {
            "tags": []
          },
          "execution_count": 7
        },
        {
          "output_type": "display_data",
          "data": {
            "image/png": "[encoded data removed]",
            "text/plain": [
              "<Figure size 432x288 with 1 Axes>"
            ]
          },
          "metadata": {
            "tags": []
          }
        }
      ]
    },
    {
      "cell_type": "code",
      "metadata": {
        "colab": {
          "base_uri": "https://localhost:8080/"
        },
        "id": "ZuGSvxpmcA1C",
        "outputId": "e099d590-5ed1-4e0b-ce9f-324d0c2c0dd7"
      },
      "source": [
        "cost_list[-1]"
      ],
      "execution_count": 8,
      "outputs": [
        {
          "output_type": "execute_result",
          "data": {
            "text/plain": [
              "0.06870452289252157"
            ]
          },
          "metadata": {
            "tags": []
          },
          "execution_count": 8
        }
      ]
    },
    {
      "cell_type": "code",
      "metadata": {
        "colab": {
          "base_uri": "https://localhost:8080/"
        },
        "id": "L7SeYquXDNOx",
        "outputId": "e195c1c6-7524-4819-9835-13565d05fbdb"
      },
      "source": [
        "# Stochastic Gradient Descent for linear regression using SciKit Learn\n",
        "\n",
        "from sklearn.linear_model import SGDRegressor\n",
        "\n",
        "model = SGDRegressor(alpha = 0.01, max_iter = 100)\n",
        "y=y.reshape(y.shape[0],)\n",
        "model.fit(X, y)\n",
        "\n",
        "\n",
        "mse = ((model.predict(X) - y)**2).mean()\n",
        "mse\n"
      ],
      "execution_count": 9,
      "outputs": [
        {
          "output_type": "execute_result",
          "data": {
            "text/plain": [
              "0.005756184088985424"
            ]
          },
          "metadata": {
            "tags": []
          },
          "execution_count": 9
        }
      ]
    }
  ]
}