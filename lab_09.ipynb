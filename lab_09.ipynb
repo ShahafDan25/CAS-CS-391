{
 "cells": [
  {
   "cell_type": "markdown",
   "metadata": {
    "id": "P2orYNSVGaNp"
   },
   "source": [
    "\n",
    "\n",
    "# **Lab 9**\n",
    "# CS 391 E1: Foundations of Data Science, Spring 2021\n",
    "### Dr. Dora Erdos (Instructor), Hannah Catabia (Teaching Fellow)"
   ]
  },
  {
   "cell_type": "markdown",
   "metadata": {
    "id": "IZYYriX1poDL"
   },
   "source": [
    "## **Question 3 from the Friday midterm:**\n",
    "\n",
    "There are three families living on a street. One family has two boys, one family has one boy and one girl, the third family has two girls and one boy. You knock on the door of one of the families at random and a boy answers the door.\n",
    "\n",
    "**3.1** What is the probability that there is a girl living in that house too? Write the number (as a fraction is fine)."
   ]
  },
  {
   "cell_type": "code",
   "execution_count": 4,
   "metadata": {
    "colab": {
     "base_uri": "https://localhost:8080/"
    },
    "id": "bRj7eV2NrLxG",
    "outputId": "76dc17e0-398c-45f1-92d2-a1d95d764390"
   },
   "outputs": [
    {
     "name": "stdout",
     "output_type": "stream",
     "text": [
      "Number of trials: 1000\n",
      "Number of times a girl lives in the house: 680\n",
      "Number of times a boy answers the door: 607\n",
      "Number of times a boy answers AND a girl lives in the house: 287\n",
      "\n",
      "Probability a girl lives in the house: 0.68\n",
      "Probability a boy answers AND a girl lives in the house: 0.607\n",
      "Given that a boy answers the door, the probability that a girl lives in the house: 0.4728171334431631\n"
     ]
    }
   ],
   "source": [
    "import random\n",
    "\n",
    "houses = [['b', 'b'], ['g','b'], ['g','g','b']]\n",
    "\n",
    "#number of trials\n",
    "n = 1000\n",
    "\n",
    "# the number of times we choose a house with a girl in it\n",
    "counter1 = 0\n",
    "\n",
    "# the number of times a boy answers\n",
    "counter2 =0\n",
    "\n",
    "# the number of times a boy answers AND we choose a house with a girl in it\n",
    "counter3 =0\n",
    "\n",
    "for i in range(n):\n",
    "  #randomly choose a house\n",
    "  house = random.choice(houses)\n",
    "  # is there a girl in the house?\n",
    "  if 'g' in house:\n",
    "    counter1 +=1\n",
    "  #a random person answers\n",
    "  person = random.choice(house)\n",
    "  # is there person who answered a boy?\n",
    "  if person=='b':\n",
    "    counter2 +=1\n",
    "    # has a boy answered AND is there a girl in the house?\n",
    "    if 'g' in house:\n",
    "      counter3 +=1\n",
    "\n",
    "\n",
    "print('Number of trials:', n)\n",
    "print('Number of times a girl lives in the house:', counter1)\n",
    "print('Number of times a boy answers the door:', counter2)\n",
    "print('Number of times a boy answers AND a girl lives in the house:', counter3)\n",
    "print()\n",
    "print('PROBABILITY ESTIMATES BASED ON OUR EXPERIMENTS:')\n",
    "print('Probability a girl lives in the house:')\n",
    "print('Probability a boy answers AND a girl lives in the house:')\n",
    "print('Given that a boy answers the door, the probability that a girl lives in the house:')\n",
    "\n"
   ]
  },
  {
   "cell_type": "markdown",
   "metadata": {
    "id": "RqYmvZ5trEvR"
   },
   "source": [
    "**3.2** What is the probability that there are two kids in this household? Write a formula (with numbers)."
   ]
  },
  {
   "cell_type": "code",
   "execution_count": 8,
   "metadata": {
    "colab": {
     "base_uri": "https://localhost:8080/"
    },
    "id": "olC18BOQSf3e",
    "outputId": "0624bcbf-7eee-4a65-f2b1-20db00dc8c97"
   },
   "outputs": [
    {
     "name": "stdout",
     "output_type": "stream",
     "text": [
      "Number of trials: 1000\n",
      "Number of times we choose a two-child household: 679\n",
      "Number of times a boy answers the door: 620\n",
      "Number of times a boy answers AND we choose a two-child household: 525\n",
      "\n",
      "PROBABILITY ESTIMATES BASED ON OUR EXPERIMENTS:\n",
      "Probability we choose a two-child household:\n",
      "Probability a boy answers AND it's a two-child household:\n",
      "Given that a boy answers the door, the probability it's a two-child household:\n"
     ]
    }
   ],
   "source": [
    "houses = [['b', 'b'], ['g','b'], ['g','g','b']]\n",
    "\n",
    "#number of trials\n",
    "n = 1000\n",
    "\n",
    "# the number of times we choose a two-child household\n",
    "counter1 = 0\n",
    "\n",
    "# the number of times a boy answers\n",
    "counter2 =0\n",
    "\n",
    "# the number of times a boy answers AND we choose a two-child household\n",
    "counter3 =0\n",
    "\n",
    "for i in range(n):\n",
    "  #randomly choose a house\n",
    "  house = random.choice(houses)\n",
    "  # is it a two-child household?\n",
    "  if len(house)==2:\n",
    "    counter1 +=1\n",
    "  #a random person answers\n",
    "  person = random.choice(house)\n",
    "  # is there person who answered a boy?\n",
    "  if person=='b':\n",
    "    counter2 +=1\n",
    "    # has a boy answered AND is it a two-child household?\n",
    "    if len(house)==2:\n",
    "      counter3 +=1\n",
    "\n",
    "\n",
    "print('Number of trials:', n)\n",
    "print('Number of times we choose a two-child household:', counter1)\n",
    "print('Number of times a boy answers the door:', counter2)\n",
    "print('Number of times a boy answers AND we choose a two-child household:', counter3)\n",
    "print()\n",
    "print('PROBABILITY ESTIMATES BASED ON OUR EXPERIMENTS:')\n",
    "print('Probability we choose a two-child household:')\n",
    "print(\"Probability a boy answers AND it's a two-child household:\")\n",
    "print(\"Given that a boy answers the door, the probability it's a two-child household:\")"
   ]
  },
  {
   "cell_type": "markdown",
   "metadata": {
    "id": "Ai1TBp-9UCnS"
   },
   "source": [
    "Yes, the solutions to these problems are very counterintuitive (to humans, anyway)!  They are similar in spirit to the **Monty Hall Problem**, which you probably learned about in CS 237.  To quote Wikipedia:\n",
    "\n",
    "When first presented with the Monty Hall problem, an overwhelming majority of people assume that each door has an equal probability and conclude that switching does not matter.[9] Out of 228 subjects in one study, only 13% chose to switch.[20] In her book The Power of Logical Thinking,[21] quotes cognitive psychologist Massimo Piattelli Palmarini [it]: \"No other statistical puzzle comes so close to fooling all the people all the time [and] even Nobel physicists systematically give the wrong answer, and that they insist on it, and they are ready to berate in print those who propose the right answer.\" Pigeons repeatedly exposed to the problem show that they rapidly learn to always switch, unlike humans.[22]\n",
    "\n",
    "https://en.wikipedia.org/wiki/Monty_Hall_problem#Confusion_and_criticism"
   ]
  },
  {
   "cell_type": "markdown",
   "metadata": {
    "id": "ksGEjptYrrTL"
   },
   "source": [
    "## **Gradient descent as a \"tool\"**"
   ]
  }
 ],
 "metadata": {
  "colab": {
   "name": "lab9.ipynb",
   "provenance": []
  },
  "kernelspec": {
   "display_name": "Python 3",
   "language": "python",
   "name": "python3"
  },
  "language_info": {
   "codemirror_mode": {
    "name": "ipython",
    "version": 3
   },
   "file_extension": ".py",
   "mimetype": "text/x-python",
   "name": "python",
   "nbconvert_exporter": "python",
   "pygments_lexer": "ipython3",
   "version": "3.8.5"
  }
 },
 "nbformat": 4,
 "nbformat_minor": 1
}
