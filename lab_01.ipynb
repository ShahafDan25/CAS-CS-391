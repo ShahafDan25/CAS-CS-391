{
 "cells": [
  {
   "cell_type": "markdown",
   "metadata": {},
   "source": [
    "# <center> **CS 391, Spring 2021, Lab 1**\n",
    "## <center> Topic: Using Jupyter Notebooks"
   ]
  },
  {
   "cell_type": "markdown",
   "metadata": {},
   "source": [
    "## 0. Introduction\n",
    "\n",
    "In this lab, we will go over how to use Jupyter notebooks (.ipynb files).  If you have not already installed Jupyter or Python 3, I recommend doing so by installing Anaconda:\n",
    "\n",
    "https://docs.anaconda.com/anaconda/install/"
   ]
  },
  {
   "cell_type": "markdown",
   "metadata": {},
   "source": [
    "## 1. Cells\n",
    "\n",
    "A Jupyter notebook is composed of cells.  You can add new cells by clicking the **+** icon on the toolbar above (next to the save icon).\n",
    "\n",
    "When you click on a cell once, it will be highlighted in **<font color='blue'>blue</font>**.  This means the cell is in **command** mode.  You can do things like copy, paste, run, and delete an entire cell when it is in command mode.\n",
    "\n",
    "When you double click on a cell, it will be highlighted in **<font color='green'>green</font>**.  This means the cell is in **edit** mode.  You can type inside of the cell in edit mode.\n",
    "\n",
    "When you are done editing, you can **run** the cell by clicking **Run** in the toolbar or pressing **Ctrl + Enter** on your keyboard.  If you press **Alt + Enter**, you will run the cell you are currently editing *and* insert a new cell below it.\n",
    "\n",
    "There are four types of cells in Jupyter notebooks, but we will only be discussing two in depth:  **markdown cells** and **code cells**.  You can change the mode of a cell by selecting either **Markdown** or **Code** from the dropdown menu in the toolbar above."
   ]
  },
  {
   "cell_type": "markdown",
   "metadata": {},
   "source": [
    "## 2.  Markdown cells\n",
    "\n",
    "Markdown cells are for writing text, such as explanations of your code or answers to homework problems.  You can do a lot of fancy things in markdown cells.  For instance, double-click this cell to enter edit mode and see the mark-up language for the following:\n",
    "\n",
    "You can write in **bold** and *italics* using asterisks.\n",
    "\n",
    "# You\n",
    "\n",
    "## can \n",
    "\n",
    "### make \n",
    "\n",
    "#### differently-sized headers using hash tags.\n",
    "\n",
    "<center>You can center align and <font color='orange'>color</font> text using simple HTML tags.\n",
    "    \n",
    "When you're done inspecting mark-up in edit mode, press **Ctrl + Enter** to run the cell and see how it renders!"
   ]
  },
  {
   "cell_type": "markdown",
   "metadata": {},
   "source": [
    "## 3. LaTeX math mode in markdown cells"
   ]
  },
  {
   "cell_type": "markdown",
   "metadata": {},
   "source": [
    "One *very* cool thing you can do in markdown cells is write math equations using a mark-up language called **LaTeX** (pronounced \"lay-tek\", though it is often called TeX, or \"tek\", for short).  Enter LaTeX code between dollar signs.  Use one dollar sign if you want to write an equation on the same line as your text, like this: $2^2 = 4$.  Use two dollar signs if you want your equation to be on a new line and centered, like this: $$2^2=4$$\n",
    "\n",
    "LaTeX makes it easy to type beautiful mathematical symbols.  Here is the TeX code for some common math symbols you may find useful:\n",
    "\n",
    "**Exponents:** $x^2, X^{a+b}$\n",
    "\n",
    "**Subscripts:**  $x_1, x_{cost}$\n",
    "\n",
    "**Infinity:** $\\infty$\n",
    "\n",
    "**Greater-than-or-equal-to:**  $a \\geq b$\n",
    "\n",
    "**L ess-than-or-equal-to:** $b \\leq c$\n",
    "\n",
    "**Logarithms:** $\\log_{2}(16) = 4$\n",
    "\n",
    "**Fractions:**  $$\\frac{a+b+c}{d-e}, \\frac{x+y}{x + \\frac{1}{2}}$$\n",
    "\n",
    "**Big parenteses:** $$\\left( \\frac{1}{2} \\right)$$\n",
    "\n",
    "**Big brackets:**  $$\\left[ \\frac{1}{2} \\right]$$\n",
    "\n",
    "**Big absolute values:** $$\\left| - \\frac{1}{2} \\right|$$\n",
    "\n",
    "**Summations:**  $$\\sum_{i=0}^\\infty  \\left( \\frac{1}{2} \\right)^i = 2 $$\n",
    "\n",
    "**N choose k:**  $${10 \\choose 4} = \\frac{10!}{4! \\cdot 6!} = 210$$\n",
    "\n",
    "**Integrals:**  $$\\int_{a}^{b} x^2 \\, dx$$\n",
    "\n",
    "**Matrices:**  $$\\begin{bmatrix} 2 & 3 & 6 & 5 \\\\ 9 & 3 & 2 & 2 \\\\ 5 & 6 & -1 & -5 \\end{bmatrix}$$\n",
    "\n",
    "\n",
    "You can beautifully code virtually any math symbol with LaTeX.  If you want to code a TeX symbol not shown here, you can probably figure it out via quick Google search.  Also, **Detexify** is a fantastic resource for learning new TeX markdown: https://detexify.kirelabs.org/classify.html"
   ]
  },
  {
   "cell_type": "markdown",
   "metadata": {},
   "source": [
    "## 4. Inserting pictures into markdown cells\n",
    "\n",
    "You can insert PNG and JPEG images into markdown cells.  First, save the image to the same directory as your .ipynb file.  Then, use the following code, replacing *a_picture.jpg* with the name of your image file:\n",
    "\n",
    "![](a_picture.jpg)\n",
    "\n",
    "This can be particularly useful if you draw a diagram for a homework problem, and you want to take a picture of it and include it in your submission.  Please just be sure that the picture of your diagram is legible!"
   ]
  },
  {
   "cell_type": "markdown",
   "metadata": {},
   "source": [
    "## 5. Code cells\n",
    "\n",
    "Code cells are just what they sound like:  cells where you can write, edit, and run Python code.  For the most part, code cells work just like a typical Python IDE:"
   ]
  },
  {
   "cell_type": "code",
   "execution_count": 1,
   "metadata": {},
   "outputs": [
    {
     "name": "stdout",
     "output_type": "stream",
     "text": [
      "Hello, world!\n",
      "Welcome to CS 391\n"
     ]
    }
   ],
   "source": [
    "# comments!\n",
    "print(\"Hello, world!\")\n",
    "import random\n",
    "print(\"Welcome to CS 391\")"
   ]
  },
  {
   "cell_type": "markdown",
   "metadata": {},
   "source": [
    "Part of the beauty of iPython is that you can run you code one cell at a time, instead of re-running everything from beginning of the program every time you make an edit.  Let's say you save a variable and define a funtion in one cell, and then run it:"
   ]
  },
  {
   "cell_type": "code",
   "execution_count": 2,
   "metadata": {},
   "outputs": [],
   "source": [
    "# run this cell!\n",
    "a = 4\n",
    "\n",
    "def add3(x):\n",
    "    return x + 3"
   ]
  },
  {
   "cell_type": "markdown",
   "metadata": {},
   "source": [
    "These functions and variables will now be available for use in other cells:"
   ]
  },
  {
   "cell_type": "code",
   "execution_count": 3,
   "metadata": {},
   "outputs": [
    {
     "name": "stdout",
     "output_type": "stream",
     "text": [
      "I still have this value saved in a: 4\n",
      "And now my function call will return in the output line:\n"
     ]
    },
    {
     "data": {
      "text/plain": [
       "7"
      ]
     },
     "execution_count": 3,
     "metadata": {},
     "output_type": "execute_result"
    }
   ],
   "source": [
    "# now run this cell!\n",
    "\n",
    "print('I still have this value saved in a:',a)\n",
    "\n",
    "print('And now my function call will return in the output line:')\n",
    "\n",
    "add3(a)"
   ]
  },
  {
   "cell_type": "markdown",
   "metadata": {},
   "source": [
    "This is very convenient, but **BE CAREFUL!!**  Since you can run one cell at a time, your program may not progress linearly through the code in your Jupyter file.  **Variables and functions are saved from the last cell you RAN, which might NOT necessarily be the last cell you WROTE**.  For instance, try running the following cells out of order:"
   ]
  },
  {
   "cell_type": "code",
   "execution_count": 4,
   "metadata": {},
   "outputs": [
    {
     "name": "stdout",
     "output_type": "stream",
     "text": [
      "x = 0\n"
     ]
    }
   ],
   "source": [
    "# CELL 1:  RUN THIS CELL FIRST\n",
    "\n",
    "x=0\n",
    "\n",
    "print('x =', x)"
   ]
  },
  {
   "cell_type": "code",
   "execution_count": 6,
   "metadata": {},
   "outputs": [
    {
     "name": "stdout",
     "output_type": "stream",
     "text": [
      "x = 1\n"
     ]
    }
   ],
   "source": [
    "# CELL 2:  RUN THIS CELL LAST\n",
    "\n",
    "x = 1\n",
    "\n",
    "print('x =', x)"
   ]
  },
  {
   "cell_type": "code",
   "execution_count": 5,
   "metadata": {},
   "outputs": [
    {
     "name": "stdout",
     "output_type": "stream",
     "text": [
      "x = 0\n"
     ]
    }
   ],
   "source": [
    "# CELL 3: RUN THIS CELL SECOND\n",
    "\n",
    "print('x =', x)"
   ]
  },
  {
   "cell_type": "markdown",
   "metadata": {},
   "source": [
    "What happened?  We set the value of $x$ to 0 in cell 1.  The value of $x$ was still 0 when we ran cell 3 because *we had not yet run cell 2,* where it is reassigned.  This iPython attribute can cause lots of bugs, particularly when you go back and start editing code, but then forget to re-run the subsequent cells that use its values!  So please be careful.  And if you'd like to reset everything in your Jupyter notebook and start running your code cells from the beginning, you can choose **Kernel > Restart** from the menu above."
   ]
  },
  {
   "cell_type": "markdown",
   "metadata": {},
   "source": [
    "## 6. Saving your .ipynb as a PDF for submission\n",
    "\n",
    "Homework submissions are on Gradescope, which only accepts PDFs.  To convert your .ipynb file to a PDF, select **File > Download as > PDF via LaTeX (.pdf)** from the menu above.  When you do this, Jupyter will create a PDF with everything in your notebook **exactly** as you see it in your screen when you click the button.  So, before you convert to a PDF, **make sure to run all of your code cells, and that they are showing the output you expect them to.**  The graders can only read your code in the PDF, they cannot run it, so they will base much of their grade on the output shown in your Jupyter notebook.  **If you forget to run a code cell, and therefore you don't show any output, you may loose points even if your code is correct.**\n",
    "\n",
    "When you submit, please **be sure to match the answers on your PDF to the outline on Gradescope.** In other words, if the answer to problem 2.1 is on pages 2 and 3 of your PDF, please be sure to select those pages as the answer to problem 2.1 on Gradescope. Since it takes significantly longer to grade homework that is not properly matched, **we may deduct points** for noncompliant submissions."
   ]
  },
  {
   "cell_type": "markdown",
   "metadata": {},
   "source": [
    "## 7. Shortcut cheat sheet\n",
    "\n",
    "There are many useful keyboard shortcuts in Jupyter!  Here is a great cheat sheet for people who want to become Jupyter ninjas:\n",
    "\n",
    "https://cheatography.com/weidadeyue/cheat-sheets/jupyter-notebook/pdf_bw/"
   ]
  },
  {
   "cell_type": "markdown",
   "metadata": {},
   "source": [
    "## 8. Google Colab\n",
    "\n",
    "Google recently rolled out a new service called Google Colaboratory, which hosts iPython notebooks on the cloud.  It essentially functions like Google Docs, but for .ipynb files.  Editing an .ipynb file on Google Colab is very similar to editing one on your local machine, though the buttons and menus are a little bit different.  You can read more about Google Colab here:  https://colab.research.google.com/notebooks/intro.ipynb\n",
    "\n",
    "You are welcome to complete homework using Google Colab if you prefer.  However, please be aware that not *every* Python library is available on Google Colab, and there may be homework where you will need to run Jupyter on your local machine these resources.  Also, as the name suggests, it is easy to collaborate using Google Colab.  Please be sure that your use of Google Colab does not violate the academic honesty policy explained in the course syllabus.  To refresh your memory, I am reprinting it here:\n",
    "\n",
    "**studying together and collaboration on homework:** You are encouraged to form study groups and\n",
    "discuss course content with your peers. You may discuss homework assignments with classmates, but first\n",
    "you must give it at least 45 minutes of thought by yourself. However, the homework submission has to be\n",
    "your **individual work.** You have to write down the solutions or write code on your own, without consulting\n",
    "others. The teaching staff can ask you at any point to explain your solution to them.\n",
    "\n",
    "You are explicitly **forbidden to commit plagiarism** of any form. This includes copying parts of a\n",
    "classmate’s assignment, plagiarism from books or online resources or old posted solutions."
   ]
  }
 ],
 "metadata": {
  "kernelspec": {
   "display_name": "Python 3",
   "language": "python",
   "name": "python3"
  },
  "language_info": {
   "codemirror_mode": {
    "name": "ipython",
    "version": 3
   },
   "file_extension": ".py",
   "mimetype": "text/x-python",
   "name": "python",
   "nbconvert_exporter": "python",
   "pygments_lexer": "ipython3",
   "version": "3.5.6"
  }
 },
 "nbformat": 4,
 "nbformat_minor": 2
}
