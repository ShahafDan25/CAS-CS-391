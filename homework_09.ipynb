{
 "cells": [
  {
   "cell_type": "markdown",
   "metadata": {
    "id": "kt1JHDsr4dHs"
   },
   "source": [
    "# <center> **CS 391, Spring 2021, Homework 9**\n",
    "### <center> Due **Tuesday, April 13, 11:59 pm ET (Boston time)**, via Gradescope\n",
    "\n",
    "\n"
   ]
  },
  {
   "cell_type": "markdown",
   "metadata": {
    "id": "6MSiDOUbDbuv"
   },
   "source": [
    "###**Submission guidelines** \n",
    "Please write your solutions inside of this .ipynb file, then convert it to a PDF before submitting on Gradescope:\n",
    "\n",
    "*   **In Jupyter:** File > Download as > PDF\n",
    "*   **In Google Colab:** File > Print > Destination > Save as PDF\n",
    "\n",
    "When you submit, please **be sure to match the answers on your PDF to the outline on Gradescope.** In other words, if the answer to problem 2.1 is on pages 2 and 3 of your PDF, please be sure to select those pages as the answer to problem 2.1 on Gradescope. Since it takes significantly longer to grade homework that is not properly matched, **we may deduct points** for noncompliant submissions.\n",
    "\n",
    "The lab on Wednesday 1/27 covers how to get started with the notebooks for writing problem solutions and running experiments. In case you haven't done so, please sign up to the course Gradescope, with the access code **ERV7B2**: https://www.gradescope.com/courses/232562.\n",
    "\n",
    "<div style=\"page-break-after: always;\"></div>"
   ]
  },
  {
   "cell_type": "markdown",
   "metadata": {
    "id": "g1v4wg56v0hW"
   },
   "source": [
    "###**1. Data Analysis**\n",
    "\n",
    "This week, we'll be looking at the famous Titanic dataset, which contains information about XXXX passengers aboard the ill-fated 1912 maiden voyage of the RMS *Titanic*.  The dataset has the following features:\n",
    "\n",
    "![picture](https://drive.google.com/uc?id=1cwD2KjEFhXvvrp6PwCzZ_a5AlSeujbOR)\n",
    "\n",
    "We will use a few different methods to "
   ]
  },
  {
   "cell_type": "code",
   "execution_count": 11,
   "metadata": {
    "colab": {
     "base_uri": "https://localhost:8080/",
     "height": 1000
    },
    "id": "tAMqDgt4NsE9",
    "outputId": "38ba8c7c-3aaf-4c7f-fe52-8584b9444955",
    "scrolled": false
   },
   "outputs": [],
   "source": [
    "import pandas as pd\n",
    "import numpy as np\n",
    "np.set_printoptions(suppress=True)\n",
    "from numpy.linalg import svd, norm\n",
    "import matplotlib.pyplot as plt\n",
    "%matplotlib inline\n",
    "plt.style.use('ggplot')\n",
    "import seaborn as sns\n",
    "\n",
    "pd.set_option(\"display.max_rows\", None, \"display.max_columns\", None)\n",
    "pd.set_option('display.float_format', lambda x: '%.2f' % x)\n",
    "\n",
    "titanic = pd.read_csv('https://raw.githubusercontent.com/catabia/cs391_spring21/main/titanic.csv')\n",
    "titanic = titanic.replace('?', np.NaN)\n",
    "# titanic"
   ]
  },
  {
   "cell_type": "markdown",
   "metadata": {
    "id": "FjLZUIXtBx56"
   },
   "source": [
    "** **bold text**Part 1.0** \n",
    "\n",
    "**You do not have to do anything for this problem.  However, you should understand how all of this code works and why it's being done.**\n",
    "\n",
    "We will use each sample's passenger class, sex, age, sibsp, parch, fare, and embarkment point to predict whether the passenger survived. But first, let's start by cleaning up our data:\n",
    "\n",
    "1. Select the only columns you need out of the dataset, and then drop all rows that have one or more NaN values.  Note many samples you lose by doing this.\n",
    "\n",
    "2. We can't perform SVM or logistic regression on categorical variables, so encode the \"sex\" feature as 1 for male, 0 for female.\n",
    "\n",
    "3. We must also convert the \"embarked\" feature into numerical data.  However, since there are three categories, we change \"embarked\" into three one-hot columns: one each for Cherbourg, Queenstown, and Southampton.\n",
    "\n",
    "4. Finally, randomly select 75% of you $X$ and $y$ values for training, and reserve the remaining 25% for testing. **NOTE:** *Every time you re-run SciKit Learn's* train_test_split, *it will randomly select a new testing set.  To keep your results consisent every time you run the code, I have set the parameter* **random_state = 1234**."
   ]
  },
  {
   "cell_type": "code",
   "execution_count": 3,
   "metadata": {
    "colab": {
     "base_uri": "https://localhost:8080/"
    },
    "id": "ui_qajkdOsLr",
    "outputId": "9e6fedba-6983-413a-9106-7512dc2c2093"
   },
   "outputs": [
    {
     "name": "stdout",
     "output_type": "stream",
     "text": [
      "By dropping NaN values, we lose 266 samples.\n"
     ]
    }
   ],
   "source": [
    "# Answer:\n",
    "\n",
    "from sklearn.preprocessing import LabelEncoder, OneHotEncoder\n",
    "from sklearn.model_selection import train_test_split\n",
    "\n",
    "# choose only the columns you want, and drop NaNs\n",
    "df = titanic[['pclass', 'sex','age', 'sibsp', 'parch', 'fare', 'embarked', 'survived']]\n",
    "a = df.shape[0]\n",
    "df = df.dropna()\n",
    "b = df.shape[0]\n",
    "print(\"By dropping NaN values, we lose\", a-b, \"samples.\")\n",
    "\n",
    "# encode female as 0 and male as 1\n",
    "df['male'] = LabelEncoder().fit_transform(df.sex)\n",
    "\n",
    "# one-hot encode embark\n",
    "df = pd.concat([df,pd.get_dummies(df['embarked'], prefix='embarked')],axis=1)\n",
    "\n",
    "#drop original categorical columns\n",
    "df = df.drop(['sex', 'embarked'], axis=1)\n",
    "\n",
    "y = df.survived\n",
    "X = df.drop(['survived'], axis=1)\n",
    "\n",
    "X_train, X_test, y_train, y_test = train_test_split(X, y, test_size=.25, random_state=1234)\n",
    "\n",
    "y_train = np.array(y_train).reshape(-1,1)\n",
    "y_test = np.array(y_test).reshape(-1,1)"
   ]
  },
  {
   "cell_type": "markdown",
   "metadata": {
    "id": "E0O8TsIQiI6q"
   },
   "source": [
    "**Part 1.1**\n",
    "\n",
    "First, let's train a Logistic Regression to classify our data.  Do this with SciKit Learn's SGDClassifier, with the **loss** parameter set to the appropriate loss function for SVMs. Please set **random_state=1234** for replicability.  You can read more about SGDClassifier in the documentation here:\n",
    "\n",
    "https://scikit-learn.org/stable/modules/generated/sklearn.linear_model.SGDClassifier.html\n",
    "\n",
    "We can set a parameter for SGDClassifier called **max_iter**, which limits the number of gradient descent iterations that will be used to find the optimal classifier.  Please create classifiers using 4,6,8, 10 iterations, and plot ROC curve and AUC score for each.\n",
    "\n",
    "**NOTE:** *When you predict on* **X_test**, *use the method* **predict_proba()** instead of **predict()**.  *This will give you a probability that each point is classified as 1, as opposed to a prediction of either 0 or 1.*"
   ]
  },
  {
   "cell_type": "code",
   "execution_count": 7,
   "metadata": {
    "id": "o6oGMtOQjlO5"
   },
   "outputs": [
    {
     "name": "stderr",
     "output_type": "stream",
     "text": [
      "/Users/shahafdan/opt/miniconda3/lib/python3.8/site-packages/sklearn/utils/validation.py:63: DataConversionWarning: A column-vector y was passed when a 1d array was expected. Please change the shape of y to (n_samples, ), for example using ravel().\n",
      "  return f(*args, **kwargs)\n",
      "/Users/shahafdan/opt/miniconda3/lib/python3.8/site-packages/sklearn/linear_model/_stochastic_gradient.py:574: ConvergenceWarning: Maximum number of iteration reached before convergence. Consider increasing max_iter to improve the fit.\n",
      "  warnings.warn(\"Maximum number of iteration reached before \"\n",
      "/Users/shahafdan/opt/miniconda3/lib/python3.8/site-packages/sklearn/utils/validation.py:63: DataConversionWarning: A column-vector y was passed when a 1d array was expected. Please change the shape of y to (n_samples, ), for example using ravel().\n",
      "  return f(*args, **kwargs)\n",
      "/Users/shahafdan/opt/miniconda3/lib/python3.8/site-packages/sklearn/linear_model/_stochastic_gradient.py:574: ConvergenceWarning: Maximum number of iteration reached before convergence. Consider increasing max_iter to improve the fit.\n",
      "  warnings.warn(\"Maximum number of iteration reached before \"\n",
      "/Users/shahafdan/opt/miniconda3/lib/python3.8/site-packages/sklearn/utils/validation.py:63: DataConversionWarning: A column-vector y was passed when a 1d array was expected. Please change the shape of y to (n_samples, ), for example using ravel().\n",
      "  return f(*args, **kwargs)\n",
      "/Users/shahafdan/opt/miniconda3/lib/python3.8/site-packages/sklearn/linear_model/_stochastic_gradient.py:574: ConvergenceWarning: Maximum number of iteration reached before convergence. Consider increasing max_iter to improve the fit.\n",
      "  warnings.warn(\"Maximum number of iteration reached before \"\n",
      "/Users/shahafdan/opt/miniconda3/lib/python3.8/site-packages/sklearn/utils/validation.py:63: DataConversionWarning: A column-vector y was passed when a 1d array was expected. Please change the shape of y to (n_samples, ), for example using ravel().\n",
      "  return f(*args, **kwargs)\n",
      "/Users/shahafdan/opt/miniconda3/lib/python3.8/site-packages/sklearn/linear_model/_stochastic_gradient.py:574: ConvergenceWarning: Maximum number of iteration reached before convergence. Consider increasing max_iter to improve the fit.\n",
      "  warnings.warn(\"Maximum number of iteration reached before \"\n",
      "/Users/shahafdan/opt/miniconda3/lib/python3.8/site-packages/seaborn/_decorators.py:36: FutureWarning: Pass the following variables as keyword args: x, y. From version 0.12, the only valid positional argument will be `data`, and passing other arguments without an explicit keyword will result in an error or misinterpretation.\n",
      "  warnings.warn(\n",
      "/Users/shahafdan/opt/miniconda3/lib/python3.8/site-packages/seaborn/_decorators.py:36: FutureWarning: Pass the following variables as keyword args: x, y. From version 0.12, the only valid positional argument will be `data`, and passing other arguments without an explicit keyword will result in an error or misinterpretation.\n",
      "  warnings.warn(\n",
      "/Users/shahafdan/opt/miniconda3/lib/python3.8/site-packages/seaborn/_decorators.py:36: FutureWarning: Pass the following variables as keyword args: x, y. From version 0.12, the only valid positional argument will be `data`, and passing other arguments without an explicit keyword will result in an error or misinterpretation.\n",
      "  warnings.warn(\n",
      "/Users/shahafdan/opt/miniconda3/lib/python3.8/site-packages/seaborn/_decorators.py:36: FutureWarning: Pass the following variables as keyword args: x, y. From version 0.12, the only valid positional argument will be `data`, and passing other arguments without an explicit keyword will result in an error or misinterpretation.\n",
      "  warnings.warn(\n"
     ]
    },
    {
     "data": {
      "text/plain": [
       "<AxesSubplot:>"
      ]
     },
     "execution_count": 7,
     "metadata": {},
     "output_type": "execute_result"
    },
    {
     "data": {
      "image/png": "[encoded data removed]",
      "text/plain": [
       "<Figure size 432x288 with 1 Axes>"
      ]
     },
     "metadata": {},
     "output_type": "display_data"
    }
   ],
   "source": [
    "# Answer:\n",
    "from sklearn.metrics import roc_auc_score, roc_curve, plot_roc_curve\n",
    "from sklearn.linear_model import SGDClassifier\n",
    "SGD_w4 = SGDClassifier(random_state = 1234, loss = 'log', max_iter = 4)\n",
    "SGD_w4.fit(X_train, y_train)\n",
    "x_w4_fin = SGD_w4.predict_proba(X_test)[::,1]\n",
    "SGD_w6 = SGDClassifier(random_state = 1234, loss = 'log', max_iter = 6)\n",
    "SGD_w6.fit(X_train, y_train)\n",
    "x_w6_fin = SGD_w6.predict_proba(X_test)[::,1]\n",
    "SGD_w8 = SGDClassifier(random_state = 1234, loss = 'log', max_iter = 8)\n",
    "SGD_w8.fit(X_train, y_train)\n",
    "x_w8_fin = SGD_w8.predict_proba(X_test)[::,1]\n",
    "SGD_w10 = SGDClassifier(random_state = 1234, loss = 'log', max_iter = 10)\n",
    "SGD_w10.fit(X_train, y_train)\n",
    "x_w10_fin = SGD_w10.predict_proba(X_test)[::,1]\n",
    "\n",
    "\n",
    "f, t, _ = roc_curve(y_test, x_w4_fin)\n",
    "sns.lineplot(f, t)\n",
    "f, t, _ = roc_curve(y_test, x_w6_fin)\n",
    "sns.lineplot(f, t)\n",
    "f, t, _ = roc_curve(y_test, x_w8_fin)\n",
    "sns.lineplot(f, t)\n",
    "f, t, _ = roc_curve(y_test, x_w10_fin)\n",
    "sns.lineplot(f, t)\n",
    "\n",
    "\n",
    "\n",
    "\n",
    "    "
   ]
  },
  {
   "cell_type": "markdown",
   "metadata": {
    "id": "R7apqds6Jk5t"
   },
   "source": [
    "**Part 1.2**\n",
    "\n",
    "Now, let's train a logistic regression without a maximum number of iterations!  (In the default case, the algorithm will max out at 1000 iterations, which should be more than enough.) Keep **random_state=1234** for replicability.  Plot the confusion matrix, and compute the accuracy, precision, recall, and F1-score of your model."
   ]
  },
  {
   "cell_type": "code",
   "execution_count": 9,
   "metadata": {
    "id": "lyJGso1OKzlU"
   },
   "outputs": [
    {
     "name": "stderr",
     "output_type": "stream",
     "text": [
      "/Users/shahafdan/opt/miniconda3/lib/python3.8/site-packages/sklearn/utils/validation.py:63: DataConversionWarning: A column-vector y was passed when a 1d array was expected. Please change the shape of y to (n_samples, ), for example using ravel().\n",
      "  return f(*args, **kwargs)\n"
     ]
    },
    {
     "data": {
      "text/plain": [
       "<sklearn.metrics._plot.confusion_matrix.ConfusionMatrixDisplay at 0x7fc308016580>"
      ]
     },
     "execution_count": 9,
     "metadata": {},
     "output_type": "execute_result"
    },
    {
     "data": {
      "image/png": "[encoded data removed]",
      "text/plain": [
       "<Figure size 432x288 with 2 Axes>"
      ]
     },
     "metadata": {},
     "output_type": "display_data"
    }
   ],
   "source": [
    "# Answer:\n",
    "from sklearn.metrics import confusion_matrix, plot_confusion_matrix, accuracy_score, precision_score, recall_score, f1_score\n",
    "SGD_wNone = SGDClassifier(random_state = 1234, loss = 'log')\n",
    "e = SGD_wNone.fit(X_train, y_train)\n",
    "plot_confusion_matrix(e, X = X_test, y_true = y_test)\n",
    "\n"
   ]
  },
  {
   "cell_type": "markdown",
   "metadata": {
    "id": "lV_AOGoCROSs"
   },
   "source": [
    "Next, let's calculate the accuracy, recall, precision, and F1-Score of this resulted confusion matrix:\n",
    "\n",
    "Accuracy = $\\frac{TP + TN}{TP + TN + FP + FN} = \\frac{86 + 32}{32 + 114 + 29 + 86} = \\boxed{\\frac{118}{261}}$\n",
    "\n",
    "Recall = $\\frac{TP}{TP + FN} = \\frac{86}{86 + 29} = \\boxed{\\frac{86}{115}}$\n",
    "\n",
    "Precision = $\\frac{TP}{TP + FP} = \\frac{86}{86 + 114} = \\frac{86}{200} = \\boxed{\\frac{43}{100}}$\n",
    "\n",
    "$$F_1 Score = 2 \\cdot \\frac{Precision \\cdot Recall}{Precision + Recall} = 2\\cdot \\frac{\\frac{43}{100} \\cdot \\frac{86}{115}}{\\frac{43}{100} + \\frac{86}{115}} = \\frac{\\frac{3698}{5750}}{\\frac{2709}{2300}} = \\boxed{\\frac{172}{315}}$$\n"
   ]
  },
  {
   "cell_type": "code",
   "execution_count": null,
   "metadata": {},
   "outputs": [],
   "source": []
  },
  {
   "cell_type": "markdown",
   "metadata": {
    "id": "5JohIs6r65MN"
   },
   "source": [
    "**Part 1.3**\n",
    "\n",
    "Now let's train a SVM to classify our data.  We may also do this with SciKit Learn's SGDClassifier, but now with the **loss** parameter set to the appropriate loss function for SVMs. Again, please set **random_state=1234** for replicability.  Plot the confusion matrix, and compute the accuracy, precision, recall, and F1-score of your model."
   ]
  },
  {
   "cell_type": "code",
   "execution_count": 10,
   "metadata": {
    "id": "1T-ctOI-GnWR"
   },
   "outputs": [
    {
     "name": "stderr",
     "output_type": "stream",
     "text": [
      "/Users/shahafdan/opt/miniconda3/lib/python3.8/site-packages/sklearn/utils/validation.py:63: DataConversionWarning: A column-vector y was passed when a 1d array was expected. Please change the shape of y to (n_samples, ), for example using ravel().\n",
      "  return f(*args, **kwargs)\n"
     ]
    },
    {
     "data": {
      "text/plain": [
       "<sklearn.metrics._plot.confusion_matrix.ConfusionMatrixDisplay at 0x7fc348393f70>"
      ]
     },
     "execution_count": 10,
     "metadata": {},
     "output_type": "execute_result"
    },
    {
     "data": {
      "image/png": "[encoded data removed]",
      "text/plain": [
       "<Figure size 432x288 with 2 Axes>"
      ]
     },
     "metadata": {},
     "output_type": "display_data"
    }
   ],
   "source": [
    "# Answer:\n",
    "dm = SGDClassifier(random_state = 1234)\n",
    "e = dm.fit(X_train, y_train)\n",
    "plot_confusion_matrix(e, X = X_test, y_true = y_test)\n"
   ]
  },
  {
   "cell_type": "markdown",
   "metadata": {},
   "source": [
    "Next, let's calculate the accuracy, recall, precision, and F1-Score of this resulted confusion matrix:\n",
    "\n",
    "Accuracy = $\\frac{TP + TN}{TP + TN + FP + FN} = \\frac{117 + 79}{117 + 79 + 29 + 36} = \\boxed{\\frac{196}{261}}$\n",
    "\n",
    "Recall = $\\frac{TP}{TP + FN} = \\frac{79}{79 + 36} = \\boxed{\\frac{79}{115}}$\n",
    "\n",
    "Precision = $\\frac{TP}{TP + FP} = \\frac{79}{79 + 29} = \\boxed{\\frac{79}{108}}$\n",
    "\n",
    "$$F_1 Score = 2 \\cdot \\frac{Precision \\cdot Recall}{Precision + Recall} = 2\\cdot \\frac{\\frac{79}{108} \\cdot \\frac{79}{115}}{\\frac{79}{108} + \\frac{79}{115}} = 2 \\cdot \\frac{0.5025}{1.418} = \\boxed{0.7087}$$\n"
   ]
  },
  {
   "cell_type": "markdown",
   "metadata": {
    "id": "ej-fhL2mPTZQ"
   },
   "source": [
    "**Part 1.4**\n",
    "\n",
    "Which model would you choose as the better classifier for this data set: logistic regression or SVM?  Why?"
   ]
  },
  {
   "cell_type": "markdown",
   "metadata": {
    "id": "zUdAaAG4XjKv"
   },
   "source": [
    "**Answer:**\n",
    "As seen from our answers above, when we use logistic regression as a data model classifier, we get a lower values for the accuracy, precision, and F1 Score than when we use SVMs. Therefore, I would rather and prefer using SVM."
   ]
  },
  {
   "cell_type": "code",
   "execution_count": null,
   "metadata": {},
   "outputs": [],
   "source": []
  }
 ],
 "metadata": {
  "colab": {
   "collapsed_sections": [],
   "name": "homework9.ipynb",
   "provenance": [],
   "toc_visible": true
  },
  "kernelspec": {
   "display_name": "Python 3",
   "language": "python",
   "name": "python3"
  },
  "language_info": {
   "codemirror_mode": {
    "name": "ipython",
    "version": 3
   },
   "file_extension": ".py",
   "mimetype": "text/x-python",
   "name": "python",
   "nbconvert_exporter": "python",
   "pygments_lexer": "ipython3",
   "version": "3.8.5"
  }
 },
 "nbformat": 4,
 "nbformat_minor": 1
}
