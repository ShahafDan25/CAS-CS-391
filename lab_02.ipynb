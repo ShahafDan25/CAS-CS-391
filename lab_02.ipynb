{
  "nbformat": 4,
  "nbformat_minor": 0,
  "metadata": {
    "kernelspec": {
      "display_name": "Python 3",
      "language": "python",
      "name": "python3"
    },
    "language_info": {
      "codemirror_mode": {
        "name": "ipython",
        "version": 3
      },
      "file_extension": ".py",
      "mimetype": "text/x-python",
      "name": "python",
      "nbconvert_exporter": "python",
      "pygments_lexer": "ipython3",
      "version": "3.5.6"
    },
    "colab": {
      "name": "lab2.ipynb",
      "provenance": [],
      "toc_visible": true
    }
  },
  "cells": [
    {
      "cell_type": "markdown",
      "metadata": {
        "id": "f7T5DyxwZCXb"
      },
      "source": [
        "# <center> **CS 391, Spring 2021, Lab 2**\n",
        "## <center> Topic: Introduction to pandas, matplotlib, and SciPy"
      ]
    },
    {
      "cell_type": "markdown",
      "metadata": {
        "id": "4SmIusvEZCXi"
      },
      "source": [
        "## 1. **pandas**\n",
        "\n",
        "**pandas** is a Python library that makes many data analysis operations fast and easy.  You will use it frequently in this class.  Let's see how it works.  We can start by importing it and using it to open a CSV file saved on my GitHub.  It contains worldwide data about shark attacks that occured in the past 10 years, which I got from the International Shark Attack File at the Florida Museum:  https://www.floridamuseum.ufl.edu/shark-attacks/trends/location/world/\n"
      ]
    },
    {
      "cell_type": "code",
      "metadata": {
        "colab": {
          "base_uri": "https://localhost:8080/",
          "height": 359
        },
        "id": "kyFRw622c30R",
        "outputId": "0c475704-53ff-45eb-961f-2ebac0d855bb"
      },
      "source": [
        "import pandas as pd\n",
        "\n",
        "data = pd.read_csv(\"https://raw.githubusercontent.com/catabia/cs391_spring21/main/sharks.csv\")\n",
        "data"
      ],
      "execution_count": 2,
      "outputs": [
        {
          "output_type": "execute_result",
          "data": {
            "text/html": [
              "<div>\n",
              "<style scoped>\n",
              "    .dataframe tbody tr th:only-of-type {\n",
              "        vertical-align: middle;\n",
              "    }\n",
              "\n",
              "    .dataframe tbody tr th {\n",
              "        vertical-align: top;\n",
              "    }\n",
              "\n",
              "    .dataframe thead th {\n",
              "        text-align: right;\n",
              "    }\n",
              "</style>\n",
              "<table border=\"1\" class=\"dataframe\">\n",
              "  <thead>\n",
              "    <tr style=\"text-align: right;\">\n",
              "      <th></th>\n",
              "      <th>year</th>\n",
              "      <th>total</th>\n",
              "      <th>fatal</th>\n",
              "      <th>nonfatal</th>\n",
              "    </tr>\n",
              "  </thead>\n",
              "  <tbody>\n",
              "    <tr>\n",
              "      <th>0</th>\n",
              "      <td>2011</td>\n",
              "      <td>79</td>\n",
              "      <td>13</td>\n",
              "      <td>66</td>\n",
              "    </tr>\n",
              "    <tr>\n",
              "      <th>1</th>\n",
              "      <td>2012</td>\n",
              "      <td>83</td>\n",
              "      <td>7</td>\n",
              "      <td>76</td>\n",
              "    </tr>\n",
              "    <tr>\n",
              "      <th>2</th>\n",
              "      <td>2013</td>\n",
              "      <td>77</td>\n",
              "      <td>10</td>\n",
              "      <td>67</td>\n",
              "    </tr>\n",
              "    <tr>\n",
              "      <th>3</th>\n",
              "      <td>2014</td>\n",
              "      <td>73</td>\n",
              "      <td>3</td>\n",
              "      <td>70</td>\n",
              "    </tr>\n",
              "    <tr>\n",
              "      <th>4</th>\n",
              "      <td>2015</td>\n",
              "      <td>98</td>\n",
              "      <td>6</td>\n",
              "      <td>92</td>\n",
              "    </tr>\n",
              "    <tr>\n",
              "      <th>5</th>\n",
              "      <td>2016</td>\n",
              "      <td>81</td>\n",
              "      <td>4</td>\n",
              "      <td>77</td>\n",
              "    </tr>\n",
              "    <tr>\n",
              "      <th>6</th>\n",
              "      <td>2017</td>\n",
              "      <td>89</td>\n",
              "      <td>5</td>\n",
              "      <td>84</td>\n",
              "    </tr>\n",
              "    <tr>\n",
              "      <th>7</th>\n",
              "      <td>2018</td>\n",
              "      <td>68</td>\n",
              "      <td>4</td>\n",
              "      <td>64</td>\n",
              "    </tr>\n",
              "    <tr>\n",
              "      <th>8</th>\n",
              "      <td>2019</td>\n",
              "      <td>64</td>\n",
              "      <td>2</td>\n",
              "      <td>62</td>\n",
              "    </tr>\n",
              "    <tr>\n",
              "      <th>9</th>\n",
              "      <td>2020</td>\n",
              "      <td>57</td>\n",
              "      <td>10</td>\n",
              "      <td>47</td>\n",
              "    </tr>\n",
              "  </tbody>\n",
              "</table>\n",
              "</div>"
            ],
            "text/plain": [
              "   year  total  fatal  nonfatal\n",
              "0  2011     79     13        66\n",
              "1  2012     83      7        76\n",
              "2  2013     77     10        67\n",
              "3  2014     73      3        70\n",
              "4  2015     98      6        92\n",
              "5  2016     81      4        77\n",
              "6  2017     89      5        84\n",
              "7  2018     68      4        64\n",
              "8  2019     64      2        62\n",
              "9  2020     57     10        47"
            ]
          },
          "metadata": {
            "tags": []
          },
          "execution_count": 2
        }
      ]
    },
    {
      "cell_type": "markdown",
      "metadata": {
        "id": "HOUXO-T_fQPt"
      },
      "source": [
        "pandas imports CSV files into a **DataFrame**.  DataFrames are composed of rows, which are indexed starting at 0, and columns, each of which is a **Series** object in pandas.  Look at the table above to note the rows and Series in our DataFrame, which we have stored in the variable *data*.  Here's how you can look at the names of the Series:"
      ]
    },
    {
      "cell_type": "code",
      "metadata": {
        "colab": {
          "base_uri": "https://localhost:8080/"
        },
        "id": "CxKk39NKgZUz",
        "outputId": "9af855b6-cada-40d3-81e9-58caeafb5472"
      },
      "source": [
        "list(data.columns)"
      ],
      "execution_count": 3,
      "outputs": [
        {
          "output_type": "execute_result",
          "data": {
            "text/plain": [
              "['year', 'total', 'fatal', 'nonfatal']"
            ]
          },
          "metadata": {
            "tags": []
          },
          "execution_count": 3
        }
      ]
    },
    {
      "cell_type": "markdown",
      "metadata": {
        "id": "hXMseaFrvHwo"
      },
      "source": [
        "If you want to know how many rows and columns are in your DataFrame, you can try this:"
      ]
    },
    {
      "cell_type": "code",
      "metadata": {
        "colab": {
          "base_uri": "https://localhost:8080/"
        },
        "id": "ZeAgDAoJvGLX",
        "outputId": "f440b347-9f1b-4a5c-bade-ffe10981cf58"
      },
      "source": [
        "# (number of rows, number of columns)\n",
        "data.shape"
      ],
      "execution_count": 4,
      "outputs": [
        {
          "output_type": "execute_result",
          "data": {
            "text/plain": [
              "(10, 4)"
            ]
          },
          "metadata": {
            "tags": []
          },
          "execution_count": 4
        }
      ]
    },
    {
      "cell_type": "markdown",
      "metadata": {
        "id": "XoTgNQG9gv2E"
      },
      "source": [
        "Let's say you are interested in selecting just the \"fatal\" Series (column) in your FataFrame.  You can call it like this:"
      ]
    },
    {
      "cell_type": "code",
      "metadata": {
        "colab": {
          "base_uri": "https://localhost:8080/"
        },
        "id": "BzMHVjrag8fR",
        "outputId": "29bb7835-be3c-4a92-cd58-15991c9f1634"
      },
      "source": [
        "data.fatal"
      ],
      "execution_count": 5,
      "outputs": [
        {
          "output_type": "execute_result",
          "data": {
            "text/plain": [
              "0    13\n",
              "1     7\n",
              "2    10\n",
              "3     3\n",
              "4     6\n",
              "5     4\n",
              "6     5\n",
              "7     4\n",
              "8     2\n",
              "9    10\n",
              "Name: fatal, dtype: int64"
            ]
          },
          "metadata": {
            "tags": []
          },
          "execution_count": 5
        }
      ]
    },
    {
      "cell_type": "markdown",
      "metadata": {
        "id": "aKHy-K2niG7g"
      },
      "source": [
        "If you are interested in selecting several columns at once, you can do it like this:"
      ]
    },
    {
      "cell_type": "code",
      "metadata": {
        "colab": {
          "base_uri": "https://localhost:8080/",
          "height": 359
        },
        "id": "a7jLeLxdiOqe",
        "outputId": "0cf77f9c-0704-4a5e-c305-804d9da81702"
      },
      "source": [
        "data[['year', 'total']]"
      ],
      "execution_count": 6,
      "outputs": [
        {
          "output_type": "execute_result",
          "data": {
            "text/html": [
              "<div>\n",
              "<style scoped>\n",
              "    .dataframe tbody tr th:only-of-type {\n",
              "        vertical-align: middle;\n",
              "    }\n",
              "\n",
              "    .dataframe tbody tr th {\n",
              "        vertical-align: top;\n",
              "    }\n",
              "\n",
              "    .dataframe thead th {\n",
              "        text-align: right;\n",
              "    }\n",
              "</style>\n",
              "<table border=\"1\" class=\"dataframe\">\n",
              "  <thead>\n",
              "    <tr style=\"text-align: right;\">\n",
              "      <th></th>\n",
              "      <th>year</th>\n",
              "      <th>total</th>\n",
              "    </tr>\n",
              "  </thead>\n",
              "  <tbody>\n",
              "    <tr>\n",
              "      <th>0</th>\n",
              "      <td>2011</td>\n",
              "      <td>79</td>\n",
              "    </tr>\n",
              "    <tr>\n",
              "      <th>1</th>\n",
              "      <td>2012</td>\n",
              "      <td>83</td>\n",
              "    </tr>\n",
              "    <tr>\n",
              "      <th>2</th>\n",
              "      <td>2013</td>\n",
              "      <td>77</td>\n",
              "    </tr>\n",
              "    <tr>\n",
              "      <th>3</th>\n",
              "      <td>2014</td>\n",
              "      <td>73</td>\n",
              "    </tr>\n",
              "    <tr>\n",
              "      <th>4</th>\n",
              "      <td>2015</td>\n",
              "      <td>98</td>\n",
              "    </tr>\n",
              "    <tr>\n",
              "      <th>5</th>\n",
              "      <td>2016</td>\n",
              "      <td>81</td>\n",
              "    </tr>\n",
              "    <tr>\n",
              "      <th>6</th>\n",
              "      <td>2017</td>\n",
              "      <td>89</td>\n",
              "    </tr>\n",
              "    <tr>\n",
              "      <th>7</th>\n",
              "      <td>2018</td>\n",
              "      <td>68</td>\n",
              "    </tr>\n",
              "    <tr>\n",
              "      <th>8</th>\n",
              "      <td>2019</td>\n",
              "      <td>64</td>\n",
              "    </tr>\n",
              "    <tr>\n",
              "      <th>9</th>\n",
              "      <td>2020</td>\n",
              "      <td>57</td>\n",
              "    </tr>\n",
              "  </tbody>\n",
              "</table>\n",
              "</div>"
            ],
            "text/plain": [
              "   year  total\n",
              "0  2011     79\n",
              "1  2012     83\n",
              "2  2013     77\n",
              "3  2014     73\n",
              "4  2015     98\n",
              "5  2016     81\n",
              "6  2017     89\n",
              "7  2018     68\n",
              "8  2019     64\n",
              "9  2020     57"
            ]
          },
          "metadata": {
            "tags": []
          },
          "execution_count": 6
        }
      ]
    },
    {
      "cell_type": "markdown",
      "metadata": {
        "id": "Ql-tI2onipqD"
      },
      "source": [
        "You can quickly calculate several summary statstics about one or several columns at once.  Here are a few:"
      ]
    },
    {
      "cell_type": "code",
      "metadata": {
        "colab": {
          "base_uri": "https://localhost:8080/"
        },
        "id": "hhBnZb-qi1jV",
        "outputId": "232dc169-13db-404d-bfd7-6982d2a84bc5"
      },
      "source": [
        "# maximum\n",
        "data.total.max()"
      ],
      "execution_count": 7,
      "outputs": [
        {
          "output_type": "execute_result",
          "data": {
            "text/plain": [
              "98"
            ]
          },
          "metadata": {
            "tags": []
          },
          "execution_count": 7
        }
      ]
    },
    {
      "cell_type": "code",
      "metadata": {
        "colab": {
          "base_uri": "https://localhost:8080/"
        },
        "id": "oOJTgV7xjSBL",
        "outputId": "da91c784-e26d-4206-d1ec-3fca50be87d9"
      },
      "source": [
        "# minimum\n",
        "data[['fatal', 'nonfatal']].min()"
      ],
      "execution_count": 8,
      "outputs": [
        {
          "output_type": "execute_result",
          "data": {
            "text/plain": [
              "fatal        2\n",
              "nonfatal    47\n",
              "dtype: int64"
            ]
          },
          "metadata": {
            "tags": []
          },
          "execution_count": 8
        }
      ]
    },
    {
      "cell_type": "code",
      "metadata": {
        "colab": {
          "base_uri": "https://localhost:8080/"
        },
        "id": "5BX0CyTujTDk",
        "outputId": "4a6b7fe1-3891-479a-e61a-311fc85beb4b"
      },
      "source": [
        "# mean\n",
        "data[['fatal', 'nonfatal', 'total']].mean()"
      ],
      "execution_count": 9,
      "outputs": [
        {
          "output_type": "execute_result",
          "data": {
            "text/plain": [
              "fatal        6.4\n",
              "nonfatal    70.5\n",
              "total       76.9\n",
              "dtype: float64"
            ]
          },
          "metadata": {
            "tags": []
          },
          "execution_count": 9
        }
      ]
    },
    {
      "cell_type": "code",
      "metadata": {
        "colab": {
          "base_uri": "https://localhost:8080/"
        },
        "id": "Zz57CMXdkW3h",
        "outputId": "6a1f8cee-721d-4115-9601-6c45c647ab25"
      },
      "source": [
        "# variance\n",
        "data[['fatal', 'nonfatal', 'total']].var()"
      ],
      "execution_count": 10,
      "outputs": [
        {
          "output_type": "execute_result",
          "data": {
            "text/plain": [
              "fatal        12.711111\n",
              "nonfatal    157.388889\n",
              "total       145.211111\n",
              "dtype: float64"
            ]
          },
          "metadata": {
            "tags": []
          },
          "execution_count": 10
        }
      ]
    },
    {
      "cell_type": "code",
      "metadata": {
        "colab": {
          "base_uri": "https://localhost:8080/"
        },
        "id": "t6PnP8pekdzc",
        "outputId": "80553938-2579-4ce1-c830-d6e9cc35b219"
      },
      "source": [
        "# standard deviation\n",
        "data[['fatal', 'nonfatal', 'total']].std()"
      ],
      "execution_count": 11,
      "outputs": [
        {
          "output_type": "execute_result",
          "data": {
            "text/plain": [
              "fatal        3.565265\n",
              "nonfatal    12.545473\n",
              "total       12.050357\n",
              "dtype: float64"
            ]
          },
          "metadata": {
            "tags": []
          },
          "execution_count": 11
        }
      ]
    },
    {
      "cell_type": "code",
      "metadata": {
        "colab": {
          "base_uri": "https://localhost:8080/"
        },
        "id": "JjKxIus5krC4",
        "outputId": "4c726cc6-be18-4e13-c32a-0b09e1794f7c"
      },
      "source": [
        "# median\n",
        "data[['fatal', 'nonfatal', 'total']].median()"
      ],
      "execution_count": 12,
      "outputs": [
        {
          "output_type": "execute_result",
          "data": {
            "text/plain": [
              "fatal        5.5\n",
              "nonfatal    68.5\n",
              "total       78.0\n",
              "dtype: float64"
            ]
          },
          "metadata": {
            "tags": []
          },
          "execution_count": 12
        }
      ]
    },
    {
      "cell_type": "code",
      "metadata": {
        "colab": {
          "base_uri": "https://localhost:8080/"
        },
        "id": "Wv3DPedHk2DB",
        "outputId": "a7f211d4-f13f-4ed0-bdc2-0e4e1876bd17"
      },
      "source": [
        "# sum of everything in the column\n",
        "data.fatal.sum()"
      ],
      "execution_count": 13,
      "outputs": [
        {
          "output_type": "execute_result",
          "data": {
            "text/plain": [
              "64"
            ]
          },
          "metadata": {
            "tags": []
          },
          "execution_count": 13
        }
      ]
    },
    {
      "cell_type": "code",
      "metadata": {
        "colab": {
          "base_uri": "https://localhost:8080/",
          "height": 297
        },
        "id": "w-iCZJLTqD1P",
        "outputId": "45c226c7-2ffc-494d-abc4-dae9fc1886a5"
      },
      "source": [
        "# a bunch of summary statistics at once!\n",
        "data.describe()"
      ],
      "execution_count": 14,
      "outputs": [
        {
          "output_type": "execute_result",
          "data": {
            "text/html": [
              "<div>\n",
              "<style scoped>\n",
              "    .dataframe tbody tr th:only-of-type {\n",
              "        vertical-align: middle;\n",
              "    }\n",
              "\n",
              "    .dataframe tbody tr th {\n",
              "        vertical-align: top;\n",
              "    }\n",
              "\n",
              "    .dataframe thead th {\n",
              "        text-align: right;\n",
              "    }\n",
              "</style>\n",
              "<table border=\"1\" class=\"dataframe\">\n",
              "  <thead>\n",
              "    <tr style=\"text-align: right;\">\n",
              "      <th></th>\n",
              "      <th>year</th>\n",
              "      <th>total</th>\n",
              "      <th>fatal</th>\n",
              "      <th>nonfatal</th>\n",
              "    </tr>\n",
              "  </thead>\n",
              "  <tbody>\n",
              "    <tr>\n",
              "      <th>count</th>\n",
              "      <td>10.00000</td>\n",
              "      <td>10.000000</td>\n",
              "      <td>10.000000</td>\n",
              "      <td>10.000000</td>\n",
              "    </tr>\n",
              "    <tr>\n",
              "      <th>mean</th>\n",
              "      <td>2015.50000</td>\n",
              "      <td>76.900000</td>\n",
              "      <td>6.400000</td>\n",
              "      <td>70.500000</td>\n",
              "    </tr>\n",
              "    <tr>\n",
              "      <th>std</th>\n",
              "      <td>3.02765</td>\n",
              "      <td>12.050357</td>\n",
              "      <td>3.565265</td>\n",
              "      <td>12.545473</td>\n",
              "    </tr>\n",
              "    <tr>\n",
              "      <th>min</th>\n",
              "      <td>2011.00000</td>\n",
              "      <td>57.000000</td>\n",
              "      <td>2.000000</td>\n",
              "      <td>47.000000</td>\n",
              "    </tr>\n",
              "    <tr>\n",
              "      <th>25%</th>\n",
              "      <td>2013.25000</td>\n",
              "      <td>69.250000</td>\n",
              "      <td>4.000000</td>\n",
              "      <td>64.500000</td>\n",
              "    </tr>\n",
              "    <tr>\n",
              "      <th>50%</th>\n",
              "      <td>2015.50000</td>\n",
              "      <td>78.000000</td>\n",
              "      <td>5.500000</td>\n",
              "      <td>68.500000</td>\n",
              "    </tr>\n",
              "    <tr>\n",
              "      <th>75%</th>\n",
              "      <td>2017.75000</td>\n",
              "      <td>82.500000</td>\n",
              "      <td>9.250000</td>\n",
              "      <td>76.750000</td>\n",
              "    </tr>\n",
              "    <tr>\n",
              "      <th>max</th>\n",
              "      <td>2020.00000</td>\n",
              "      <td>98.000000</td>\n",
              "      <td>13.000000</td>\n",
              "      <td>92.000000</td>\n",
              "    </tr>\n",
              "  </tbody>\n",
              "</table>\n",
              "</div>"
            ],
            "text/plain": [
              "             year      total      fatal   nonfatal\n",
              "count    10.00000  10.000000  10.000000  10.000000\n",
              "mean   2015.50000  76.900000   6.400000  70.500000\n",
              "std       3.02765  12.050357   3.565265  12.545473\n",
              "min    2011.00000  57.000000   2.000000  47.000000\n",
              "25%    2013.25000  69.250000   4.000000  64.500000\n",
              "50%    2015.50000  78.000000   5.500000  68.500000\n",
              "75%    2017.75000  82.500000   9.250000  76.750000\n",
              "max    2020.00000  98.000000  13.000000  92.000000"
            ]
          },
          "metadata": {
            "tags": []
          },
          "execution_count": 14
        }
      ]
    },
    {
      "cell_type": "markdown",
      "metadata": {
        "id": "RK-tIshyvuvc"
      },
      "source": [
        "Say I want to know which years had more than 7 fatal shark attacks.  First, I could generate a column of Booleans (True or False) to answer the question for each year:"
      ]
    },
    {
      "cell_type": "code",
      "metadata": {
        "colab": {
          "base_uri": "https://localhost:8080/"
        },
        "id": "C_edHR1bwKSA",
        "outputId": "7aaf3c03-f78e-483e-9e45-0f1844b91106"
      },
      "source": [
        "# entry will read True if the entry in data.fatal of that row is >7, and False otherwise\n",
        "data.fatal > 7"
      ],
      "execution_count": 15,
      "outputs": [
        {
          "output_type": "execute_result",
          "data": {
            "text/plain": [
              "0     True\n",
              "1    False\n",
              "2     True\n",
              "3    False\n",
              "4    False\n",
              "5    False\n",
              "6    False\n",
              "7    False\n",
              "8    False\n",
              "9     True\n",
              "Name: fatal, dtype: bool"
            ]
          },
          "metadata": {
            "tags": []
          },
          "execution_count": 15
        }
      ]
    },
    {
      "cell_type": "markdown",
      "metadata": {
        "id": "NxkdhX0Uw9bD"
      },
      "source": [
        "I can use that column of Booleans to select only the rows in the DataFrame where fatal >7:"
      ]
    },
    {
      "cell_type": "code",
      "metadata": {
        "colab": {
          "base_uri": "https://localhost:8080/",
          "height": 142
        },
        "id": "KSTWm0sVxaoh",
        "outputId": "bda0d096-c96f-4cfc-aac2-8ac798e25eeb"
      },
      "source": [
        "data[data.fatal>7]"
      ],
      "execution_count": 16,
      "outputs": [
        {
          "output_type": "execute_result",
          "data": {
            "text/html": [
              "<div>\n",
              "<style scoped>\n",
              "    .dataframe tbody tr th:only-of-type {\n",
              "        vertical-align: middle;\n",
              "    }\n",
              "\n",
              "    .dataframe tbody tr th {\n",
              "        vertical-align: top;\n",
              "    }\n",
              "\n",
              "    .dataframe thead th {\n",
              "        text-align: right;\n",
              "    }\n",
              "</style>\n",
              "<table border=\"1\" class=\"dataframe\">\n",
              "  <thead>\n",
              "    <tr style=\"text-align: right;\">\n",
              "      <th></th>\n",
              "      <th>year</th>\n",
              "      <th>total</th>\n",
              "      <th>fatal</th>\n",
              "      <th>nonfatal</th>\n",
              "    </tr>\n",
              "  </thead>\n",
              "  <tbody>\n",
              "    <tr>\n",
              "      <th>0</th>\n",
              "      <td>2011</td>\n",
              "      <td>79</td>\n",
              "      <td>13</td>\n",
              "      <td>66</td>\n",
              "    </tr>\n",
              "    <tr>\n",
              "      <th>2</th>\n",
              "      <td>2013</td>\n",
              "      <td>77</td>\n",
              "      <td>10</td>\n",
              "      <td>67</td>\n",
              "    </tr>\n",
              "    <tr>\n",
              "      <th>9</th>\n",
              "      <td>2020</td>\n",
              "      <td>57</td>\n",
              "      <td>10</td>\n",
              "      <td>47</td>\n",
              "    </tr>\n",
              "  </tbody>\n",
              "</table>\n",
              "</div>"
            ],
            "text/plain": [
              "   year  total  fatal  nonfatal\n",
              "0  2011     79     13        66\n",
              "2  2013     77     10        67\n",
              "9  2020     57     10        47"
            ]
          },
          "metadata": {
            "tags": []
          },
          "execution_count": 16
        }
      ]
    },
    {
      "cell_type": "markdown",
      "metadata": {
        "id": "v6KGIrVF2VHO"
      },
      "source": [
        "Now, let's say you want to know how years there were x number of fatal shark attacks (ie: How many years were there 4 fatal shark attacks? In this dataset, that number is two: 2016 and 2018).  You can group the data by number of fatal attacks, and then count the instances with the .size() method:"
      ]
    },
    {
      "cell_type": "code",
      "metadata": {
        "colab": {
          "base_uri": "https://localhost:8080/"
        },
        "id": "HJyPTPsRyxS3",
        "outputId": "44d5a7ef-00da-44b8-93a0-c04f97699cc1"
      },
      "source": [
        "by_num_fatal_attacks = data.groupby('fatal').size()\n",
        "by_num_fatal_attacks"
      ],
      "execution_count": 17,
      "outputs": [
        {
          "output_type": "execute_result",
          "data": {
            "text/plain": [
              "fatal\n",
              "2     1\n",
              "3     1\n",
              "4     2\n",
              "5     1\n",
              "6     1\n",
              "7     1\n",
              "10    2\n",
              "13    1\n",
              "dtype: int64"
            ]
          },
          "metadata": {
            "tags": []
          },
          "execution_count": 17
        }
      ]
    },
    {
      "cell_type": "markdown",
      "metadata": {
        "id": "201lVu0j-Hk2"
      },
      "source": [
        "Note that this method returns a pandas Series.  If you would prefer to return a new DataFrame, do this:"
      ]
    },
    {
      "cell_type": "code",
      "metadata": {
        "colab": {
          "base_uri": "https://localhost:8080/"
        },
        "id": "XyubzyTT-Qex",
        "outputId": "c338b8a5-69a3-44c2-a0aa-9bf3344076a9"
      },
      "source": [
        "type(by_num_fatal_attacks)"
      ],
      "execution_count": 18,
      "outputs": [
        {
          "output_type": "execute_result",
          "data": {
            "text/plain": [
              "pandas.core.series.Series"
            ]
          },
          "metadata": {
            "tags": []
          },
          "execution_count": 18
        }
      ]
    },
    {
      "cell_type": "markdown",
      "metadata": {
        "id": "qP75dMP3-1qI"
      },
      "source": [
        "If you would prefer to have this information as a Dataframe instead, do this:"
      ]
    },
    {
      "cell_type": "code",
      "metadata": {
        "colab": {
          "base_uri": "https://localhost:8080/",
          "height": 297
        },
        "id": "8gCKTRwz-hET",
        "outputId": "35993b1a-9d3c-4d4e-ff60-fd1d2f3ad0d5"
      },
      "source": [
        "by_num_fatal_attacks = data.groupby('fatal').size().to_frame(name='year_count').reset_index()\n",
        "by_num_fatal_attacks"
      ],
      "execution_count": 19,
      "outputs": [
        {
          "output_type": "execute_result",
          "data": {
            "text/html": [
              "<div>\n",
              "<style scoped>\n",
              "    .dataframe tbody tr th:only-of-type {\n",
              "        vertical-align: middle;\n",
              "    }\n",
              "\n",
              "    .dataframe tbody tr th {\n",
              "        vertical-align: top;\n",
              "    }\n",
              "\n",
              "    .dataframe thead th {\n",
              "        text-align: right;\n",
              "    }\n",
              "</style>\n",
              "<table border=\"1\" class=\"dataframe\">\n",
              "  <thead>\n",
              "    <tr style=\"text-align: right;\">\n",
              "      <th></th>\n",
              "      <th>fatal</th>\n",
              "      <th>year_count</th>\n",
              "    </tr>\n",
              "  </thead>\n",
              "  <tbody>\n",
              "    <tr>\n",
              "      <th>0</th>\n",
              "      <td>2</td>\n",
              "      <td>1</td>\n",
              "    </tr>\n",
              "    <tr>\n",
              "      <th>1</th>\n",
              "      <td>3</td>\n",
              "      <td>1</td>\n",
              "    </tr>\n",
              "    <tr>\n",
              "      <th>2</th>\n",
              "      <td>4</td>\n",
              "      <td>2</td>\n",
              "    </tr>\n",
              "    <tr>\n",
              "      <th>3</th>\n",
              "      <td>5</td>\n",
              "      <td>1</td>\n",
              "    </tr>\n",
              "    <tr>\n",
              "      <th>4</th>\n",
              "      <td>6</td>\n",
              "      <td>1</td>\n",
              "    </tr>\n",
              "    <tr>\n",
              "      <th>5</th>\n",
              "      <td>7</td>\n",
              "      <td>1</td>\n",
              "    </tr>\n",
              "    <tr>\n",
              "      <th>6</th>\n",
              "      <td>10</td>\n",
              "      <td>2</td>\n",
              "    </tr>\n",
              "    <tr>\n",
              "      <th>7</th>\n",
              "      <td>13</td>\n",
              "      <td>1</td>\n",
              "    </tr>\n",
              "  </tbody>\n",
              "</table>\n",
              "</div>"
            ],
            "text/plain": [
              "   fatal  year_count\n",
              "0      2           1\n",
              "1      3           1\n",
              "2      4           2\n",
              "3      5           1\n",
              "4      6           1\n",
              "5      7           1\n",
              "6     10           2\n",
              "7     13           1"
            ]
          },
          "metadata": {
            "tags": []
          },
          "execution_count": 19
        }
      ]
    },
    {
      "cell_type": "code",
      "metadata": {
        "colab": {
          "base_uri": "https://localhost:8080/"
        },
        "id": "uuYqE6bk_THD",
        "outputId": "8783f93c-9122-4e63-e5c8-ca6c4baa296a"
      },
      "source": [
        "type(by_num_fatal_attacks)"
      ],
      "execution_count": 20,
      "outputs": [
        {
          "output_type": "execute_result",
          "data": {
            "text/plain": [
              "pandas.core.frame.DataFrame"
            ]
          },
          "metadata": {
            "tags": []
          },
          "execution_count": 20
        }
      ]
    },
    {
      "cell_type": "markdown",
      "metadata": {
        "id": "PWXinCEJdmae"
      },
      "source": [
        "### **pandas Cheat Sheet**\n",
        "\n",
        "We have only scratched the surface of the amazing things you can do with pandas.  If you'd like to learn more, this cheat sheet is a great place to begin:  https://pandas.pydata.org/Pandas_Cheat_Sheet.pdf\n",
        "\n",
        "You can also find great resources and materials at the official pandas website as well:  https://pandas.pydata.org/"
      ]
    },
    {
      "cell_type": "markdown",
      "metadata": {
        "id": "imBqJaHhZCXi"
      },
      "source": [
        "## 2. **matplotlib**\n",
        "\n"
      ]
    },
    {
      "cell_type": "markdown",
      "metadata": {
        "id": "_Oc5a7I8EVi6"
      },
      "source": [
        "**matplotlib** is a Python library that will help you make interesting charts, graphs, and plots of your data.  We will be exploring how to use matplotlib throughout the semester.  Today, we will learn how to make bar plots by recreating the shark attack bar chart that Aatish Bhatia made for this blog post:  http://www.empiricalzeal.com/2012/12/21/what-does-randomness-look-like/#more-2450.  But beforehand, let's import the same dataset that he uses.  This shows the number of shark attacks in South Africa from 2000-2011:"
      ]
    },
    {
      "cell_type": "code",
      "metadata": {
        "colab": {
          "base_uri": "https://localhost:8080/",
          "height": 421
        },
        "id": "cVqEcpqBFb5d",
        "outputId": "5f105484-46ef-444f-e728-e2ba186515e2"
      },
      "source": [
        "import pandas as pd\n",
        "\n",
        "df = pd.read_csv(\"https://raw.githubusercontent.com/catabia/cs391_spring21/main/south_africa_sharks.csv\")\n",
        "df"
      ],
      "execution_count": 22,
      "outputs": [
        {
          "output_type": "execute_result",
          "data": {
            "text/html": [
              "<div>\n",
              "<style scoped>\n",
              "    .dataframe tbody tr th:only-of-type {\n",
              "        vertical-align: middle;\n",
              "    }\n",
              "\n",
              "    .dataframe tbody tr th {\n",
              "        vertical-align: top;\n",
              "    }\n",
              "\n",
              "    .dataframe thead th {\n",
              "        text-align: right;\n",
              "    }\n",
              "</style>\n",
              "<table border=\"1\" class=\"dataframe\">\n",
              "  <thead>\n",
              "    <tr style=\"text-align: right;\">\n",
              "      <th></th>\n",
              "      <th>year</th>\n",
              "      <th>num_attacks</th>\n",
              "    </tr>\n",
              "  </thead>\n",
              "  <tbody>\n",
              "    <tr>\n",
              "      <th>0</th>\n",
              "      <td>2000</td>\n",
              "      <td>4</td>\n",
              "    </tr>\n",
              "    <tr>\n",
              "      <th>1</th>\n",
              "      <td>2001</td>\n",
              "      <td>3</td>\n",
              "    </tr>\n",
              "    <tr>\n",
              "      <th>2</th>\n",
              "      <td>2002</td>\n",
              "      <td>3</td>\n",
              "    </tr>\n",
              "    <tr>\n",
              "      <th>3</th>\n",
              "      <td>2003</td>\n",
              "      <td>2</td>\n",
              "    </tr>\n",
              "    <tr>\n",
              "      <th>4</th>\n",
              "      <td>2004</td>\n",
              "      <td>5</td>\n",
              "    </tr>\n",
              "    <tr>\n",
              "      <th>5</th>\n",
              "      <td>2005</td>\n",
              "      <td>4</td>\n",
              "    </tr>\n",
              "    <tr>\n",
              "      <th>6</th>\n",
              "      <td>2006</td>\n",
              "      <td>4</td>\n",
              "    </tr>\n",
              "    <tr>\n",
              "      <th>7</th>\n",
              "      <td>2007</td>\n",
              "      <td>2</td>\n",
              "    </tr>\n",
              "    <tr>\n",
              "      <th>8</th>\n",
              "      <td>2008</td>\n",
              "      <td>0</td>\n",
              "    </tr>\n",
              "    <tr>\n",
              "      <th>9</th>\n",
              "      <td>2009</td>\n",
              "      <td>6</td>\n",
              "    </tr>\n",
              "    <tr>\n",
              "      <th>10</th>\n",
              "      <td>2010</td>\n",
              "      <td>7</td>\n",
              "    </tr>\n",
              "    <tr>\n",
              "      <th>11</th>\n",
              "      <td>2011</td>\n",
              "      <td>5</td>\n",
              "    </tr>\n",
              "  </tbody>\n",
              "</table>\n",
              "</div>"
            ],
            "text/plain": [
              "    year  num_attacks\n",
              "0   2000            4\n",
              "1   2001            3\n",
              "2   2002            3\n",
              "3   2003            2\n",
              "4   2004            5\n",
              "5   2005            4\n",
              "6   2006            4\n",
              "7   2007            2\n",
              "8   2008            0\n",
              "9   2009            6\n",
              "10  2010            7\n",
              "11  2011            5"
            ]
          },
          "metadata": {
            "tags": []
          },
          "execution_count": 22
        }
      ]
    },
    {
      "cell_type": "markdown",
      "metadata": {
        "id": "pp7gj9AbNVN6"
      },
      "source": [
        "Here's how to import matplotlib with ggplot:"
      ]
    },
    {
      "cell_type": "code",
      "metadata": {
        "id": "HTporULVNH4g"
      },
      "source": [
        "import matplotlib.pyplot as plt\n",
        "%matplotlib inline\n",
        "plt.style.use('ggplot') # this makes things pretty!"
      ],
      "execution_count": 24,
      "outputs": []
    },
    {
      "cell_type": "markdown",
      "metadata": {
        "id": "4_OZKj-vM6Dm"
      },
      "source": [
        "Let's start by creating a simple bar chart with the years on the x-axis and the number of attacks on the y-axis."
      ]
    },
    {
      "cell_type": "code",
      "metadata": {
        "colab": {
          "base_uri": "https://localhost:8080/",
          "height": 282
        },
        "id": "LsRTny9PNDH8",
        "outputId": "05cb024c-dd24-43ca-840d-79017fa95d70"
      },
      "source": [
        "plt.bar(df.year, df.num_attacks)"
      ],
      "execution_count": 25,
      "outputs": [
        {
          "output_type": "execute_result",
          "data": {
            "text/plain": [
              "<BarContainer object of 12 artists>"
            ]
          },
          "metadata": {
            "tags": []
          },
          "execution_count": 25
        },
        {
          "output_type": "display_data",
          "data": {
            "image/png": "[encoded data removed]",
            "text/plain": [
              "<Figure size 432x288 with 1 Axes>"
            ]
          },
          "metadata": {
            "tags": []
          }
        }
      ]
    },
    {
      "cell_type": "markdown",
      "metadata": {
        "id": "Bj-kClzeN1uU"
      },
      "source": [
        "We can also add a title and axis labels:"
      ]
    },
    {
      "cell_type": "code",
      "metadata": {
        "colab": {
          "base_uri": "https://localhost:8080/",
          "height": 316
        },
        "id": "dTpBGjkmN6OY",
        "outputId": "b878a6fd-5a93-482a-876b-385c60ecc93f"
      },
      "source": [
        "plt.bar(df.year, df.num_attacks)\n",
        "\n",
        "plt.xlabel(\"Year\")\n",
        "plt.ylabel(\"Number of Shark Attacks\")\n",
        "plt.title(\"Shark Attacks in South Africa from 2000-2011\")"
      ],
      "execution_count": 26,
      "outputs": [
        {
          "output_type": "execute_result",
          "data": {
            "text/plain": [
              "Text(0.5, 1.0, 'Shark Attacks in South Africa from 2000-2011')"
            ]
          },
          "metadata": {
            "tags": []
          },
          "execution_count": 26
        },
        {
          "output_type": "display_data",
          "data": {
            "image/png": "[encoded data removed]",
            "text/plain": [
              "<Figure size 432x288 with 1 Axes>"
            ]
          },
          "metadata": {
            "tags": []
          }
        }
      ]
    },
    {
      "cell_type": "markdown",
      "metadata": {
        "id": "pS5-2nVUPB1U"
      },
      "source": [
        "We can even add a horizontal line accross the bar chart showing the median number of shark attacks:\n"
      ]
    },
    {
      "cell_type": "code",
      "metadata": {
        "colab": {
          "base_uri": "https://localhost:8080/",
          "height": 316
        },
        "id": "r92qE6U_PLo7",
        "outputId": "6836ce2a-dd10-496b-ebc3-41d30d696540"
      },
      "source": [
        "plt.bar(df.year, df.num_attacks)\n",
        "\n",
        "plt.xlabel(\"Year\")\n",
        "plt.ylabel(\"Number of Shark Attacks\")\n",
        "plt.title(\"Shark Attacks in South Africa from 2000-2011\")\n",
        "\n",
        "plt.axhline(y=df.num_attacks.median(), color='black') # function draws a horizontal line"
      ],
      "execution_count": 27,
      "outputs": [
        {
          "output_type": "execute_result",
          "data": {
            "text/plain": [
              "<matplotlib.lines.Line2D at 0x7fd9445cda20>"
            ]
          },
          "metadata": {
            "tags": []
          },
          "execution_count": 27
        },
        {
          "output_type": "display_data",
          "data": {
            "image/png": "[encoded data removed]",
            "text/plain": [
              "<Figure size 432x288 with 1 Axes>"
            ]
          },
          "metadata": {
            "tags": []
          }
        }
      ]
    },
    {
      "cell_type": "markdown",
      "metadata": {
        "id": "6BDVt06NFiAM"
      },
      "source": [
        "Now we can try Aatish's bar chart.  Like we did with the previous data set, let's create a DataFrame that counts how many years 0 attacks occured, how many years 1 attack occured, etc:"
      ]
    },
    {
      "cell_type": "code",
      "metadata": {
        "colab": {
          "base_uri": "https://localhost:8080/",
          "height": 266
        },
        "id": "ihdYNtKdGBEc",
        "outputId": "1966ae22-515a-4626-85e1-d79126280aaf"
      },
      "source": [
        "attack_counts = df.groupby('num_attacks').size().to_frame(name='year_count').reset_index()\n",
        "attack_counts"
      ],
      "execution_count": 28,
      "outputs": [
        {
          "output_type": "execute_result",
          "data": {
            "text/html": [
              "<div>\n",
              "<style scoped>\n",
              "    .dataframe tbody tr th:only-of-type {\n",
              "        vertical-align: middle;\n",
              "    }\n",
              "\n",
              "    .dataframe tbody tr th {\n",
              "        vertical-align: top;\n",
              "    }\n",
              "\n",
              "    .dataframe thead th {\n",
              "        text-align: right;\n",
              "    }\n",
              "</style>\n",
              "<table border=\"1\" class=\"dataframe\">\n",
              "  <thead>\n",
              "    <tr style=\"text-align: right;\">\n",
              "      <th></th>\n",
              "      <th>num_attacks</th>\n",
              "      <th>year_count</th>\n",
              "    </tr>\n",
              "  </thead>\n",
              "  <tbody>\n",
              "    <tr>\n",
              "      <th>0</th>\n",
              "      <td>0</td>\n",
              "      <td>1</td>\n",
              "    </tr>\n",
              "    <tr>\n",
              "      <th>1</th>\n",
              "      <td>2</td>\n",
              "      <td>2</td>\n",
              "    </tr>\n",
              "    <tr>\n",
              "      <th>2</th>\n",
              "      <td>3</td>\n",
              "      <td>2</td>\n",
              "    </tr>\n",
              "    <tr>\n",
              "      <th>3</th>\n",
              "      <td>4</td>\n",
              "      <td>3</td>\n",
              "    </tr>\n",
              "    <tr>\n",
              "      <th>4</th>\n",
              "      <td>5</td>\n",
              "      <td>2</td>\n",
              "    </tr>\n",
              "    <tr>\n",
              "      <th>5</th>\n",
              "      <td>6</td>\n",
              "      <td>1</td>\n",
              "    </tr>\n",
              "    <tr>\n",
              "      <th>6</th>\n",
              "      <td>7</td>\n",
              "      <td>1</td>\n",
              "    </tr>\n",
              "  </tbody>\n",
              "</table>\n",
              "</div>"
            ],
            "text/plain": [
              "   num_attacks  year_count\n",
              "0            0           1\n",
              "1            2           2\n",
              "2            3           2\n",
              "3            4           3\n",
              "4            5           2\n",
              "5            6           1\n",
              "6            7           1"
            ]
          },
          "metadata": {
            "tags": []
          },
          "execution_count": 28
        }
      ]
    },
    {
      "cell_type": "markdown",
      "metadata": {
        "id": "5I0_ijvzHMLY"
      },
      "source": [
        "Here, we create a bar chart with the number of attacks on the x-axis, and the year count on the y axis, and a vertical line at the median number of shark attacks:"
      ]
    },
    {
      "cell_type": "code",
      "metadata": {
        "colab": {
          "base_uri": "https://localhost:8080/",
          "height": 316
        },
        "id": "seyO8Of0GiRL",
        "outputId": "51c13b2a-25ff-4180-e01a-95c5257b9fa1"
      },
      "source": [
        "plt.bar(attack_counts.num_attacks, attack_counts.year_count)\n",
        "\n",
        "plt.xlabel(\"Number of Shark Attacks in a Year\")\n",
        "plt.ylabel(\"Year Counts\")\n",
        "plt.title(\"Shark Attacks in South Africa from 2000-2011\")\n",
        "\n",
        "plt.axvline(x=df.num_attacks.median(), color = 'black') # function draws a vertical line"
      ],
      "execution_count": 29,
      "outputs": [
        {
          "output_type": "execute_result",
          "data": {
            "text/plain": [
              "<matplotlib.lines.Line2D at 0x7fd93bd67dd8>"
            ]
          },
          "metadata": {
            "tags": []
          },
          "execution_count": 29
        },
        {
          "output_type": "display_data",
          "data": {
            "image/png": "[encoded data removed]",
            "text/plain": [
              "<Figure size 432x288 with 1 Axes>"
            ]
          },
          "metadata": {
            "tags": []
          }
        }
      ]
    },
    {
      "cell_type": "markdown",
      "metadata": {
        "id": "8yPJqP8gSho0"
      },
      "source": [
        "### **matplotlib Cheat Sheet**\n",
        "\n",
        "For those who want to learn more:  https://github.com/rougier/matplotlib-cheatsheet"
      ]
    },
    {
      "cell_type": "markdown",
      "metadata": {
        "id": "qfDA78zLZCXj"
      },
      "source": [
        "## 3.  **SciPy**\n",
        "\n",
        "**SciPy** is \"a Python-based ecosystem of open-source software for mathematics, science, and engineering.\" (scipy.org)\n",
        "\n",
        "There's a lot you can do with SciPy!  Today, we'll go over how to use a few functions for distributions you've talked about in class this week.\n",
        "\n",
        "### **Binomial distribution**\n",
        "\n",
        "Calculates the probability of $k$ successes in $n$ trials, when the probability of success is $p$.  It's PMF (probability mass function) is:\n",
        "\n",
        "$$f(k) = {n \\choose k} p^k (1-p)^{n-k}$$\n"
      ]
    },
    {
      "cell_type": "code",
      "metadata": {
        "colab": {
          "base_uri": "https://localhost:8080/"
        },
        "id": "NPSQ0ts1VVBp",
        "outputId": "656fcfff-1fc4-402b-ddff-a3b077b7f459"
      },
      "source": [
        "from scipy.stats import binom\n",
        "\n",
        "# here we set number of trials and the probability of success\n",
        "n = 10\n",
        "p =.2\n",
        "print('n:', n)\n",
        "print('p:', p)\n",
        "\n",
        "# calculate the mean and variance\n",
        "mean = binom.mean(n, p)\n",
        "print('mean:', mean)\n",
        "var = binom.var(n, p)\n",
        "print('var:', var)\n",
        "\n",
        "# calculate the probability of k=3 successes\n",
        "k = 3\n",
        "print('prob of 3 successes:', binom.pmf(k, n, p))"
      ],
      "execution_count": 30,
      "outputs": [
        {
          "output_type": "stream",
          "text": [
            "n: 10\n",
            "p: 0.2\n",
            "mean: 2.0\n",
            "var: 1.6\n",
            "prob of 3 successes: 0.20132659200000022\n"
          ],
          "name": "stdout"
        }
      ]
    },
    {
      "cell_type": "markdown",
      "metadata": {
        "id": "_IOu-X7dYJre"
      },
      "source": [
        "## **Poisson distribution**\n",
        "\n",
        "Calculates the probability of $k$ events occuring in a given time frames, given that we know the events occur with a mean rate of $\\lambda$, and the events are independent.  Its PMF is:\n",
        "\n",
        "$$f(k, \\lambda) = \\frac{\\lambda^k e^{-\\lambda}}{k!}$$"
      ]
    },
    {
      "cell_type": "code",
      "metadata": {
        "colab": {
          "base_uri": "https://localhost:8080/"
        },
        "id": "q03nyVkdcMwF",
        "outputId": "7be7ac56-e2d9-4d3d-f6a4-ebb26156237d"
      },
      "source": [
        "from scipy.stats import poisson\n",
        "\n",
        "# here we set lambda\n",
        "l = 5\n",
        "print('lambda:', l)\n",
        "\n",
        "# calculate the mean and variance\n",
        "mean = poisson.mean(l)\n",
        "print('mean:', mean)\n",
        "var = poisson.var(l)\n",
        "print('var:', var)\n",
        "\n",
        "# calculate the probability of k=3 or k=4 occurences\n",
        "k = [3, 4]\n",
        "print('prob of 3 or 4 occurences:', poisson.pmf(k, l))"
      ],
      "execution_count": 31,
      "outputs": [
        {
          "output_type": "stream",
          "text": [
            "lambda: 5\n",
            "mean: 5.0\n",
            "var: 5.0\n",
            "prob of 3 or 4 occurences: [0.1403739  0.17546737]\n"
          ],
          "name": "stdout"
        }
      ]
    },
    {
      "cell_type": "markdown",
      "metadata": {
        "id": "_5i7wgptdb5K"
      },
      "source": [
        "### **Other distributions**\n",
        "Similar SciPy functions exist for other distributions:\n",
        "- Normal: https://docs.scipy.org/doc/scipy/reference/generated/scipy.stats.norm.html\n",
        "- Geometric: https://docs.scipy.org/doc/scipy/reference/generated/scipy.stats.geom.html\n",
        "- Exponential:  https://docs.scipy.org/doc/scipy/reference/generated/scipy.stats.expon.html\n",
        "- And many more! "
      ]
    }
  ]
}