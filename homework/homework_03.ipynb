{
 "cells": [
  {
   "cell_type": "markdown",
   "metadata": {
    "id": "kt1JHDsr4dHs"
   },
   "source": [
    "# <center> **CS 391, Spring 2021, Homework 3**\n",
    "### <center> Due **Tuesday, February 16, 11:59 pm ET (Boston time)**, via Gradescope\n",
    "\n",
    "\n"
   ]
  },
  {
   "cell_type": "markdown",
   "metadata": {
    "id": "6MSiDOUbDbuv"
   },
   "source": [
    "### **Submission guidelines** \n",
    "Please write your solutions inside of this .ipynb file, then convert it to a PDF before submitting on Gradescope:\n",
    "\n",
    "*   **In Jupyter:** File > Download as > PDF\n",
    "*   **In Google Colab:** File > Print > Destination > Save as PDF\n",
    "\n",
    "When you submit, please **be sure to match the answers on your PDF to the outline on Gradescope.** In other words, if the answer to problem 2.1 is on pages 2 and 3 of your PDF, please be sure to select those pages as the answer to problem 2.1 on Gradescope. Since it takes significantly longer to grade homework that is not properly matched, **we may deduct points** for noncompliant submissions.\n",
    "\n",
    "The lab on Wednesday 1/27 covers how to get started with the notebooks for writing problem solutions and running experiments. In case you haven't done so, please sign up to the course Gradescope, with the access code **ERV7B2**: https://www.gradescope.com/courses/232562.\n",
    "\n",
    "<div style=\"page-break-after: always;\"></div>"
   ]
  },
  {
   "cell_type": "markdown",
   "metadata": {
    "id": "dX6hIxhG53tC"
   },
   "source": [
    "## **1. Problem Solving** \n",
    "\n",
    "Let $G_1(V,E_1)$ and $G_2(V,E_2)$ be two graphs on the same set of nodes $V$ but (possible) different set of edges $E_1$ and $E_2$. The *edit distance* between $G_1$ and $G_2$ is the number of node pairs, such that there is an edge in one graph but not in the other. That is\n",
    "$\\mathrm{dist}(G_1,G_2) = | E_1\\setminus E_2| + |E_2 \\setminus E_1|.$ Here \"$\\setminus$\" is the set-minus operation.\n",
    "\n",
    "### **1.1**\n",
    "\n",
    "\n",
    "Prove that $\\mathrm{dist}(G_1,G_2)$ is a metric. \n"
   ]
  },
  {
   "cell_type": "markdown",
   "metadata": {
    "id": "aSBmL-SwGx1O"
   },
   "source": [
    "**Answer:**\n",
    "Recall the definition of a metric for a function $d: X \\times X \\longrightarrow \\mathbb{R}$ \n",
    "a function **d** is a metric if:\n",
    "1. $dist(x, y) \\geq 0$  (non negativity)\n",
    "2. $dist(x,y) = 0$ **if and only if** $x = y$ (isolation)\n",
    "3. $dist(x,y) = dist(y,x)$ (symmetry)\n",
    "4. $dist(x,y) \\leq dist(x,z) + dist(z,y)$ (triangle inequality)\n",
    "\n",
    "\n",
    "Next, therefore, we can prove as asked from us by proving all 4 cases as mentioned above.\n",
    "\n",
    "\n",
    "1. Since $dist(G_1, G_2) = |E_1 - E_2| + |E_2 - E_1|$, we can claim that it is always positive or 0, since the addition of two absolute value expressions is never negative. Therefore, $dist(G_1, G_2) \\geq 0\\quad \\blacksquare$\n",
    "2. If $G_1 = G_2$ (given as hypothetic condition), we can confidently claim that $dist(G_1,G_2) = dist(G_1,G_1) = dist(G_2,G_2)$, which since it represents the distant from one node into itslef (referring to the same initial node), it stands for a non existent distance, and hence we claim $dist(G_1,G_2) = dist(G_1,G_1) = dist(G_2,G_2) = 0 \\quad \\blacksquare$\n",
    "3. $dist(G_1, G_2) = |E_1 - E_2| + |E_2 - E_1| = |E_2 - E_1| + |E_1 - E_2| = dist(G_2, G_1) = dist(G_1, G_2) \\quad \\blacksquare$\n",
    "4. Let $G_3$ be another graph on the set of nodes as $G_1$ and $G_2$ but (possible) different set of edges $E_3$. Therefore, we can claim that since the distance from $G_1$ to $G_3$ is nonnegative unless $G_1 = G_3$, (see proofs 1 and 2), that adding any additional point $G_3$ to the distance path from $G_1$ to $G_2$ will either enlengthen the path and hence the distance ($dist(G_1,G_2) < dist(G_1,G_3) + dist(G_3,G_2)$), unless the point-graph $G_3$ is already on the shortest path from $G_1$ to $G_2$, in which case $dist(G_1,G_2) = dist(G_1,G_3) + dist(G_3,G_2)$. Therefore, we can confidently claim that $dist(G_1,G_2) \\leq dist(G_1,G_3) + dist(G_3,G_2)\\quad\\blacksquare$\n",
    "\n",
    "Now, since all 4 conditions have been proved, we can say that $dist(G_1, G_2)$ **is a metric**!!"
   ]
  },
  {
   "cell_type": "markdown",
   "metadata": {
    "id": "SQ4wLxuOwBlJ"
   },
   "source": [
    "### **1.2**\n",
    "Given  $3$ graphs $G_1, G_2, G_3$ on the same set of nodes but different set of edges (that is $G_3 = (V,E_3)$). Find a graph $G(V,E)$, such that the total distance \n",
    "$\\mathrm{dist}(G, G_1, G_2, G_3) = \\sum_{i=1}^3 \\mathrm{dist}(G,G_i)$\n",
    "is minimized. \n",
    "\n",
    "\n",
    "\n",
    "Describe the algorithm to find $G$. You may use English or pseudocode (or a combination of it). Your description should be clear enough for somebody familiar with implementing graph algorithms (everybody in CS330 should be able to ;) ) would be able to implement it."
   ]
  },
  {
   "cell_type": "markdown",
   "metadata": {
    "id": "Qz4tUOe0wkr-"
   },
   "source": [
    "**Answer:**\n",
    "Let's simplify the question: we are asked to find a graph $G(V,E)$ such that $dist(G, G_1, G_2, G_3)$ is minimized.\n",
    "\n",
    "The algorithm would begin by setting up a hash table, where the first column (the key) stands for a certain edge (representing the connection between two nodes) for every possible variation of two nodes (every possible edge on the graph), and the value corresponding to each key is the number of graphs (out of the three provided graphs $G_1$, $G_2$, and $G_3$ in which that edge appears (the two spoken nodes are connected).\n",
    "The time complexity for the first step (scanning the graphs and compiling a hash table) would be $O(3n) = O(n)$ where n is the number of all possible edge (number of connections in a graph where all nodes are connected to each other).\n",
    "\n",
    "In step two, after the hash map is established by scanning the graphs, each key in the hash map would have a value of either 0,1,2, or 3, representing the number of graphs with that specific edge (between those two specific nodes (x,y)). Each edge with the value of 3, will automatically appear in the final minimized graph G, since that edge is shared with every single one of three provided graphs. Every key with the value 0, will not be included in the final minimized graph, since not a single one of the three provided graphs includes that edge. For every key that holds the value 1, we know that exactly one graph has that edge in its structure, but since it is not the majority of the graphs, we can count every key with the value of 1 as another step necessary to create G from the graph that contains that edge (by removing that edge), which can be implemented by steps++ where steps in a variable tracking the value of $dist(G, G_1, G_2, G_3)$. Similarly, for every key (node connection = edge) that holds the value of 2 in the hash map, we know that exactly two graphs of the three provided share it, which should be included in the final minimized graph G. Every such key in the hash map can be considered to add another steps++ to our steps variable that tracks the value of $dist(G, G_1, G_2, G_3)$, since it stands for a connection (edge) that must be added to the 1 graph of the three that doesn't have it, in order to turn it to the G master final minimized graph. This step is also considered an O(n), since we are only traversing through the hashmap to scan for the value of each key, where the hash map has a length n, which stands for the number of edges."
   ]
  },
  {
   "cell_type": "markdown",
   "metadata": {
    "id": "xqDm4vFrwrs5"
   },
   "source": [
    "### **1.3**\n",
    " Prove that the $G$ found by your algorithm is indeed minimizing the distance."
   ]
  },
  {
   "cell_type": "markdown",
   "metadata": {
    "id": "soM-V729xJPQ"
   },
   "source": [
    "**Answer:**\n",
    "Let's begin by recalling that $dist(G, G_1, G_2, G_3) = \\sum_{i=1}^3 dist(G, G_i) = dist(G, G_1) + dist(G, G_2) + dist(G, G_3) = |E - E_1| + |E_1 - E| + |E - E_2| + |E_2 - E| + |E - E_3| + |E_3 - E| = 2\\cdot|E - E_1| + 2\\cdot|E - E_2| + 2\\cdot|E - E_3|$, where G contains the most shared edges between E and $E_i$ for $i \\in \\{1, 2, 3\\}$ such that the difference between E, $E_1$, $E_2$, $E_3$ is completely minimized since G shares all common (and majorly common) nodes among all (or the majority) of the three graphs $G_1$, $G_2$, $G_3$. Therefore, since all elements $|E - E_1|$, $|E - E_2|$, and $|E - E_3|$ are minimized, we can conclude that **the G found by the algorithms indeed minimized the distance** calculated as $dist(G, G_1, G_2, G_3)$."
   ]
  },
  {
   "cell_type": "markdown",
   "metadata": {
    "id": "wdsnTTxP6-XV"
   },
   "source": [
    "### **2. Data Analysis**\n",
    "\n",
    "For this question, you will look at a dataset containing information about three different species of penguins, compiled in the Palmer penguins dataset:  https://pypi.org/project/palmerpenguins/.\n",
    "\n",
    "You will use a Gaussian Mixture Model to categorize the individual penguins into the three different species based on four numerical features: culmen length, culmen depth, flipper length, and body mass.\n",
    "\n",
    "Here is the dataset:\n"
   ]
  },
  {
   "cell_type": "code",
   "execution_count": 1,
   "metadata": {
    "colab": {
     "base_uri": "https://localhost:8080/",
     "height": 419
    },
    "id": "yEQW-lTVBFnq",
    "outputId": "9816c15d-ba53-4d71-ad7b-90ea101e47aa"
   },
   "outputs": [
    {
     "data": {
      "text/html": [
       "<div>\n",
       "<style scoped>\n",
       "    .dataframe tbody tr th:only-of-type {\n",
       "        vertical-align: middle;\n",
       "    }\n",
       "\n",
       "    .dataframe tbody tr th {\n",
       "        vertical-align: top;\n",
       "    }\n",
       "\n",
       "    .dataframe thead th {\n",
       "        text-align: right;\n",
       "    }\n",
       "</style>\n",
       "<table border=\"1\" class=\"dataframe\">\n",
       "  <thead>\n",
       "    <tr style=\"text-align: right;\">\n",
       "      <th></th>\n",
       "      <th>species</th>\n",
       "      <th>island</th>\n",
       "      <th>culmen_length_mm</th>\n",
       "      <th>culmen_depth_mm</th>\n",
       "      <th>flipper_length_mm</th>\n",
       "      <th>body_mass_g</th>\n",
       "      <th>sex</th>\n",
       "    </tr>\n",
       "  </thead>\n",
       "  <tbody>\n",
       "    <tr>\n",
       "      <th>0</th>\n",
       "      <td>Adelie</td>\n",
       "      <td>Torgersen</td>\n",
       "      <td>39.1</td>\n",
       "      <td>18.7</td>\n",
       "      <td>181.0</td>\n",
       "      <td>3750.0</td>\n",
       "      <td>MALE</td>\n",
       "    </tr>\n",
       "    <tr>\n",
       "      <th>1</th>\n",
       "      <td>Adelie</td>\n",
       "      <td>Torgersen</td>\n",
       "      <td>39.5</td>\n",
       "      <td>17.4</td>\n",
       "      <td>186.0</td>\n",
       "      <td>3800.0</td>\n",
       "      <td>FEMALE</td>\n",
       "    </tr>\n",
       "    <tr>\n",
       "      <th>2</th>\n",
       "      <td>Adelie</td>\n",
       "      <td>Torgersen</td>\n",
       "      <td>40.3</td>\n",
       "      <td>18.0</td>\n",
       "      <td>195.0</td>\n",
       "      <td>3250.0</td>\n",
       "      <td>FEMALE</td>\n",
       "    </tr>\n",
       "    <tr>\n",
       "      <th>4</th>\n",
       "      <td>Adelie</td>\n",
       "      <td>Torgersen</td>\n",
       "      <td>36.7</td>\n",
       "      <td>19.3</td>\n",
       "      <td>193.0</td>\n",
       "      <td>3450.0</td>\n",
       "      <td>FEMALE</td>\n",
       "    </tr>\n",
       "    <tr>\n",
       "      <th>5</th>\n",
       "      <td>Adelie</td>\n",
       "      <td>Torgersen</td>\n",
       "      <td>39.3</td>\n",
       "      <td>20.6</td>\n",
       "      <td>190.0</td>\n",
       "      <td>3650.0</td>\n",
       "      <td>MALE</td>\n",
       "    </tr>\n",
       "    <tr>\n",
       "      <th>...</th>\n",
       "      <td>...</td>\n",
       "      <td>...</td>\n",
       "      <td>...</td>\n",
       "      <td>...</td>\n",
       "      <td>...</td>\n",
       "      <td>...</td>\n",
       "      <td>...</td>\n",
       "    </tr>\n",
       "    <tr>\n",
       "      <th>338</th>\n",
       "      <td>Gentoo</td>\n",
       "      <td>Biscoe</td>\n",
       "      <td>47.2</td>\n",
       "      <td>13.7</td>\n",
       "      <td>214.0</td>\n",
       "      <td>4925.0</td>\n",
       "      <td>FEMALE</td>\n",
       "    </tr>\n",
       "    <tr>\n",
       "      <th>340</th>\n",
       "      <td>Gentoo</td>\n",
       "      <td>Biscoe</td>\n",
       "      <td>46.8</td>\n",
       "      <td>14.3</td>\n",
       "      <td>215.0</td>\n",
       "      <td>4850.0</td>\n",
       "      <td>FEMALE</td>\n",
       "    </tr>\n",
       "    <tr>\n",
       "      <th>341</th>\n",
       "      <td>Gentoo</td>\n",
       "      <td>Biscoe</td>\n",
       "      <td>50.4</td>\n",
       "      <td>15.7</td>\n",
       "      <td>222.0</td>\n",
       "      <td>5750.0</td>\n",
       "      <td>MALE</td>\n",
       "    </tr>\n",
       "    <tr>\n",
       "      <th>342</th>\n",
       "      <td>Gentoo</td>\n",
       "      <td>Biscoe</td>\n",
       "      <td>45.2</td>\n",
       "      <td>14.8</td>\n",
       "      <td>212.0</td>\n",
       "      <td>5200.0</td>\n",
       "      <td>FEMALE</td>\n",
       "    </tr>\n",
       "    <tr>\n",
       "      <th>343</th>\n",
       "      <td>Gentoo</td>\n",
       "      <td>Biscoe</td>\n",
       "      <td>49.9</td>\n",
       "      <td>16.1</td>\n",
       "      <td>213.0</td>\n",
       "      <td>5400.0</td>\n",
       "      <td>MALE</td>\n",
       "    </tr>\n",
       "  </tbody>\n",
       "</table>\n",
       "<p>334 rows × 7 columns</p>\n",
       "</div>"
      ],
      "text/plain": [
       "    species     island  culmen_length_mm  culmen_depth_mm  flipper_length_mm  \\\n",
       "0    Adelie  Torgersen              39.1             18.7              181.0   \n",
       "1    Adelie  Torgersen              39.5             17.4              186.0   \n",
       "2    Adelie  Torgersen              40.3             18.0              195.0   \n",
       "4    Adelie  Torgersen              36.7             19.3              193.0   \n",
       "5    Adelie  Torgersen              39.3             20.6              190.0   \n",
       "..      ...        ...               ...              ...                ...   \n",
       "338  Gentoo     Biscoe              47.2             13.7              214.0   \n",
       "340  Gentoo     Biscoe              46.8             14.3              215.0   \n",
       "341  Gentoo     Biscoe              50.4             15.7              222.0   \n",
       "342  Gentoo     Biscoe              45.2             14.8              212.0   \n",
       "343  Gentoo     Biscoe              49.9             16.1              213.0   \n",
       "\n",
       "     body_mass_g     sex  \n",
       "0         3750.0    MALE  \n",
       "1         3800.0  FEMALE  \n",
       "2         3250.0  FEMALE  \n",
       "4         3450.0  FEMALE  \n",
       "5         3650.0    MALE  \n",
       "..           ...     ...  \n",
       "338       4925.0  FEMALE  \n",
       "340       4850.0  FEMALE  \n",
       "341       5750.0    MALE  \n",
       "342       5200.0  FEMALE  \n",
       "343       5400.0    MALE  \n",
       "\n",
       "[334 rows x 7 columns]"
      ]
     },
     "execution_count": 1,
     "metadata": {},
     "output_type": "execute_result"
    }
   ],
   "source": [
    "import matplotlib.pyplot as plt\n",
    "%matplotlib inline\n",
    "plt.style.use('ggplot')\n",
    "import seaborn as sns\n",
    "import pandas as pd\n",
    "\n",
    "df = pd.read_csv('https://raw.githubusercontent.com/catabia/cs391_spring21/main/penguins_size.csv')\n",
    "\n",
    "# this line eliminates all rows with NaN values:\n",
    "df = df.dropna()\n",
    "\n",
    "df"
   ]
  },
  {
   "cell_type": "markdown",
   "metadata": {
    "id": "w1SotE-JSLXs"
   },
   "source": [
    "### **2.1**\n",
    "\n",
    "Create a scatterplot showing body mass on one axis and flipper length on the other.  Represent each species using a different color.  By just looking at it, do you think that the different species cluster nicely into three separate groups, or do they overlap?"
   ]
  },
  {
   "cell_type": "code",
   "execution_count": 2,
   "metadata": {
    "id": "yT9BPJZKQP3_"
   },
   "outputs": [
    {
     "data": {
      "text/plain": [
       "<AxesSubplot:xlabel='body_mass_g', ylabel='flipper_length_mm'>"
      ]
     },
     "execution_count": 2,
     "metadata": {},
     "output_type": "execute_result"
    },
    {
     "data": {
      "image/png": "[encoded data removed]",
      "text/plain": [
       "<Figure size 432x288 with 1 Axes>"
      ]
     },
     "metadata": {},
     "output_type": "display_data"
    }
   ],
   "source": [
    "# Answer:\n",
    "sns.scatterplot(data = df, x ='body_mass_g', y = 'flipper_length_mm', hue = 'species')"
   ]
  },
  {
   "cell_type": "markdown",
   "metadata": {
    "id": "23xCeIa8UDDZ"
   },
   "source": [
    "**Answer:** \n",
    "\n",
    "They fit pretty well into specific groups. We can see that the Gentoo species has a much greater ratio of flipper length to body mass, while the other two species don't.\n",
    "By averaging out (approximately) the scattered points, however, between the last two species (Adelie and Chinstrap), we see that the Adelie specie appears with a slightly lower ratio, as it is scattered more towards the Origins Point of the graphs."
   ]
  },
  {
   "cell_type": "markdown",
   "metadata": {
    "id": "Pt0hLEFYULdS"
   },
   "source": [
    "## **2.2**\n",
    "Create a histogram of penguin culmen depth, again representing each species of penguin with a different color.  Looking at this plot, do you think a GMM would be a good model for this data?  Why or why not? In your argument you should say whether you think we can fit some number of Gaussians to it."
   ]
  },
  {
   "cell_type": "code",
   "execution_count": 6,
   "metadata": {
    "id": "jWoUtP_ksnuX"
   },
   "outputs": [
    {
     "data": {
      "text/plain": [
       "Text(0.5, 1.0, 'Penguin Culmen Depth By Species')"
      ]
     },
     "execution_count": 6,
     "metadata": {},
     "output_type": "execute_result"
    },
    {
     "data": {
      "image/png": "[encoded data removed]",
      "text/plain": [
       "<Figure size 432x288 with 1 Axes>"
      ]
     },
     "metadata": {},
     "output_type": "display_data"
    }
   ],
   "source": [
    "# Answer:\n",
    "sns.histplot(data=df, x='culmen_length_mm', hue='species', kde = True)\n",
    "\n",
    "plt.title(\"Penguin Culmen Depth By Species\")"
   ]
  },
  {
   "cell_type": "markdown",
   "metadata": {
    "id": "wzRJFu_9Wiw6"
   },
   "source": [
    "**Answer:** \n",
    "In my opnion, yes - a GMM would be helpful in this case. By using a GMM to represent the subpopulations on the penguins based on species and culmen lengths and taking the central column of the graph above the columns, we can approximate relatively accurately the group to which a certain penguin (based on their clumen length in milimeters) belongs. This could be implemened and applied to machine learning algorithms where based on used data, the algorithm will deteremine the group to which a certain penguin (based on its clumen length) will belong. All in all, I also think that we could fit some number of Gaussians in it, which will allows us to give the machine an ability (to a certain extent) to guess relatively precisely to which subpopulations an items of the greater population belongs."
   ]
  },
  {
   "cell_type": "markdown",
   "metadata": {
    "id": "U0-TQCjUQ6Oa"
   },
   "source": [
    "### **2.3**\n",
    "When we fit the Gaussian Mixture Model (GMM), how many components should we instruct it to identify and why?"
   ]
  },
  {
   "cell_type": "markdown",
   "metadata": {
    "id": "sHzSlDurRKwB"
   },
   "source": [
    "**Answer:** \n",
    "\n",
    "We should instruct the same amount of compnents as the amount of subpopulations, which will allow us to more strictly determine the group to which a certain items or object of the greater population belongs to."
   ]
  },
  {
   "cell_type": "markdown",
   "metadata": {
    "id": "YwWKFl_AW5ai"
   },
   "source": [
    "### **2.4**\n",
    "\n",
    "Use the GMM method from scikit learn to categorize the data based on only the following four features:  culmen length, culmen depth, flipper length, body mass."
   ]
  },
  {
   "cell_type": "code",
   "execution_count": 7,
   "metadata": {
    "id": "sETGV6ccSFbG"
   },
   "outputs": [
    {
     "name": "stdout",
     "output_type": "stream",
     "text": [
      "       species  label\n",
      "0       Adelie      2\n",
      "1       Adelie      2\n",
      "2       Adelie      2\n",
      "4       Adelie      2\n",
      "5       Adelie      2\n",
      "6       Adelie      2\n",
      "7       Adelie      2\n",
      "12      Adelie      2\n",
      "13      Adelie      2\n",
      "14      Adelie      2\n",
      "15      Adelie      2\n",
      "16      Adelie      2\n",
      "17      Adelie      2\n",
      "18      Adelie      2\n",
      "19      Adelie      2\n",
      "20      Adelie      2\n",
      "21      Adelie      2\n",
      "22      Adelie      2\n",
      "23      Adelie      2\n",
      "24      Adelie      2\n",
      "25      Adelie      2\n",
      "26      Adelie      2\n",
      "27      Adelie      2\n",
      "28      Adelie      2\n",
      "29      Adelie      2\n",
      "30      Adelie      2\n",
      "31      Adelie      2\n",
      "32      Adelie      2\n",
      "33      Adelie      2\n",
      "34      Adelie      2\n",
      "35      Adelie      2\n",
      "36      Adelie      2\n",
      "37      Adelie      2\n",
      "38      Adelie      2\n",
      "39      Adelie      2\n",
      "40      Adelie      2\n",
      "41      Adelie      2\n",
      "42      Adelie      2\n",
      "43      Adelie      2\n",
      "44      Adelie      2\n",
      "45      Adelie      2\n",
      "46      Adelie      2\n",
      "48      Adelie      2\n",
      "49      Adelie      2\n",
      "50      Adelie      2\n",
      "51      Adelie      2\n",
      "52      Adelie      2\n",
      "53      Adelie      2\n",
      "54      Adelie      2\n",
      "55      Adelie      2\n",
      "56      Adelie      2\n",
      "57      Adelie      2\n",
      "58      Adelie      2\n",
      "59      Adelie      2\n",
      "60      Adelie      2\n",
      "61      Adelie      2\n",
      "62      Adelie      2\n",
      "63      Adelie      2\n",
      "64      Adelie      2\n",
      "65      Adelie      2\n",
      "66      Adelie      2\n",
      "67      Adelie      2\n",
      "68      Adelie      2\n",
      "69      Adelie      2\n",
      "70      Adelie      2\n",
      "71      Adelie      2\n",
      "72      Adelie      2\n",
      "73      Adelie      0\n",
      "74      Adelie      2\n",
      "75      Adelie      2\n",
      "76      Adelie      2\n",
      "77      Adelie      2\n",
      "78      Adelie      2\n",
      "79      Adelie      2\n",
      "80      Adelie      2\n",
      "81      Adelie      2\n",
      "82      Adelie      2\n",
      "83      Adelie      2\n",
      "84      Adelie      2\n",
      "85      Adelie      2\n",
      "86      Adelie      2\n",
      "87      Adelie      2\n",
      "88      Adelie      2\n",
      "89      Adelie      2\n",
      "90      Adelie      2\n",
      "91      Adelie      2\n",
      "92      Adelie      2\n",
      "93      Adelie      2\n",
      "94      Adelie      2\n",
      "95      Adelie      2\n",
      "96      Adelie      2\n",
      "97      Adelie      2\n",
      "98      Adelie      2\n",
      "99      Adelie      2\n",
      "100     Adelie      2\n",
      "101     Adelie      2\n",
      "102     Adelie      2\n",
      "103     Adelie      2\n",
      "104     Adelie      2\n",
      "105     Adelie      2\n",
      "106     Adelie      2\n",
      "107     Adelie      2\n",
      "108     Adelie      2\n",
      "109     Adelie      2\n",
      "110     Adelie      2\n",
      "111     Adelie      2\n",
      "112     Adelie      2\n",
      "113     Adelie      2\n",
      "114     Adelie      2\n",
      "115     Adelie      2\n",
      "116     Adelie      2\n",
      "117     Adelie      2\n",
      "118     Adelie      2\n",
      "119     Adelie      2\n",
      "120     Adelie      2\n",
      "121     Adelie      2\n",
      "122     Adelie      2\n",
      "123     Adelie      2\n",
      "124     Adelie      2\n",
      "125     Adelie      2\n",
      "126     Adelie      2\n",
      "127     Adelie      2\n",
      "128     Adelie      2\n",
      "129     Adelie      0\n",
      "130     Adelie      2\n",
      "131     Adelie      2\n",
      "132     Adelie      2\n",
      "133     Adelie      2\n",
      "134     Adelie      2\n",
      "135     Adelie      2\n",
      "136     Adelie      2\n",
      "137     Adelie      2\n",
      "138     Adelie      2\n",
      "139     Adelie      2\n",
      "140     Adelie      2\n",
      "141     Adelie      2\n",
      "142     Adelie      2\n",
      "143     Adelie      2\n",
      "144     Adelie      2\n",
      "145     Adelie      2\n",
      "146     Adelie      2\n",
      "147     Adelie      2\n",
      "148     Adelie      2\n",
      "149     Adelie      2\n",
      "150     Adelie      2\n",
      "151     Adelie      2\n",
      "152  Chinstrap      0\n",
      "153  Chinstrap      0\n",
      "154  Chinstrap      0\n",
      "155  Chinstrap      0\n",
      "156  Chinstrap      0\n",
      "157  Chinstrap      0\n",
      "158  Chinstrap      0\n",
      "159  Chinstrap      0\n",
      "160  Chinstrap      0\n",
      "161  Chinstrap      0\n",
      "162  Chinstrap      0\n",
      "163  Chinstrap      0\n",
      "164  Chinstrap      0\n",
      "165  Chinstrap      0\n",
      "166  Chinstrap      0\n",
      "167  Chinstrap      0\n",
      "168  Chinstrap      0\n",
      "169  Chinstrap      0\n",
      "170  Chinstrap      0\n",
      "171  Chinstrap      0\n",
      "172  Chinstrap      2\n",
      "173  Chinstrap      0\n",
      "174  Chinstrap      0\n",
      "175  Chinstrap      0\n",
      "176  Chinstrap      0\n",
      "177  Chinstrap      0\n",
      "178  Chinstrap      0\n",
      "179  Chinstrap      0\n",
      "180  Chinstrap      0\n",
      "181  Chinstrap      0\n",
      "182  Chinstrap      2\n",
      "183  Chinstrap      0\n",
      "184  Chinstrap      0\n",
      "185  Chinstrap      0\n",
      "186  Chinstrap      0\n",
      "187  Chinstrap      0\n",
      "188  Chinstrap      0\n",
      "189  Chinstrap      0\n",
      "190  Chinstrap      0\n",
      "191  Chinstrap      0\n",
      "192  Chinstrap      0\n",
      "193  Chinstrap      0\n",
      "194  Chinstrap      0\n",
      "195  Chinstrap      0\n",
      "196  Chinstrap      0\n",
      "197  Chinstrap      0\n",
      "198  Chinstrap      0\n",
      "199  Chinstrap      0\n",
      "200  Chinstrap      0\n",
      "201  Chinstrap      0\n",
      "202  Chinstrap      0\n",
      "203  Chinstrap      0\n",
      "204  Chinstrap      0\n",
      "205  Chinstrap      0\n",
      "206  Chinstrap      2\n",
      "207  Chinstrap      0\n",
      "208  Chinstrap      0\n",
      "209  Chinstrap      0\n",
      "210  Chinstrap      0\n",
      "211  Chinstrap      0\n",
      "212  Chinstrap      0\n",
      "213  Chinstrap      0\n",
      "214  Chinstrap      0\n",
      "215  Chinstrap      0\n",
      "216  Chinstrap      0\n",
      "217  Chinstrap      0\n",
      "218  Chinstrap      0\n",
      "219  Chinstrap      0\n",
      "220     Gentoo      1\n",
      "221     Gentoo      1\n",
      "222     Gentoo      1\n",
      "223     Gentoo      1\n",
      "224     Gentoo      1\n",
      "225     Gentoo      1\n",
      "226     Gentoo      1\n",
      "227     Gentoo      1\n",
      "228     Gentoo      1\n",
      "229     Gentoo      1\n",
      "230     Gentoo      1\n",
      "231     Gentoo      1\n",
      "232     Gentoo      1\n",
      "233     Gentoo      1\n",
      "234     Gentoo      1\n",
      "235     Gentoo      1\n",
      "236     Gentoo      1\n",
      "237     Gentoo      1\n",
      "238     Gentoo      1\n",
      "239     Gentoo      1\n",
      "240     Gentoo      1\n",
      "241     Gentoo      1\n",
      "242     Gentoo      1\n",
      "243     Gentoo      1\n",
      "244     Gentoo      1\n",
      "245     Gentoo      1\n",
      "247     Gentoo      1\n",
      "248     Gentoo      1\n",
      "249     Gentoo      1\n",
      "250     Gentoo      1\n",
      "251     Gentoo      1\n",
      "252     Gentoo      1\n",
      "253     Gentoo      1\n",
      "254     Gentoo      1\n",
      "255     Gentoo      1\n",
      "256     Gentoo      1\n",
      "257     Gentoo      1\n",
      "258     Gentoo      1\n",
      "259     Gentoo      1\n",
      "260     Gentoo      1\n",
      "261     Gentoo      1\n",
      "262     Gentoo      1\n",
      "263     Gentoo      1\n",
      "264     Gentoo      1\n",
      "265     Gentoo      1\n",
      "266     Gentoo      1\n",
      "267     Gentoo      1\n",
      "268     Gentoo      1\n",
      "269     Gentoo      1\n",
      "270     Gentoo      1\n",
      "271     Gentoo      1\n",
      "272     Gentoo      1\n",
      "273     Gentoo      1\n",
      "274     Gentoo      1\n",
      "275     Gentoo      1\n",
      "276     Gentoo      1\n",
      "277     Gentoo      1\n",
      "278     Gentoo      1\n",
      "279     Gentoo      1\n",
      "280     Gentoo      1\n",
      "281     Gentoo      1\n",
      "282     Gentoo      1\n",
      "283     Gentoo      1\n",
      "284     Gentoo      1\n",
      "285     Gentoo      1\n",
      "287     Gentoo      1\n",
      "288     Gentoo      1\n",
      "289     Gentoo      1\n",
      "290     Gentoo      1\n",
      "291     Gentoo      1\n",
      "292     Gentoo      1\n",
      "293     Gentoo      1\n",
      "294     Gentoo      1\n",
      "295     Gentoo      1\n",
      "296     Gentoo      1\n",
      "297     Gentoo      1\n",
      "298     Gentoo      1\n",
      "299     Gentoo      1\n",
      "300     Gentoo      1\n",
      "301     Gentoo      1\n",
      "302     Gentoo      1\n",
      "303     Gentoo      1\n",
      "304     Gentoo      1\n",
      "305     Gentoo      1\n",
      "306     Gentoo      1\n",
      "307     Gentoo      1\n",
      "308     Gentoo      1\n",
      "309     Gentoo      1\n",
      "310     Gentoo      1\n",
      "311     Gentoo      1\n",
      "312     Gentoo      1\n",
      "313     Gentoo      1\n",
      "314     Gentoo      1\n",
      "315     Gentoo      1\n",
      "316     Gentoo      1\n",
      "317     Gentoo      1\n",
      "318     Gentoo      1\n",
      "319     Gentoo      1\n",
      "320     Gentoo      1\n",
      "321     Gentoo      1\n",
      "322     Gentoo      1\n",
      "323     Gentoo      1\n",
      "325     Gentoo      1\n",
      "326     Gentoo      1\n",
      "327     Gentoo      1\n",
      "328     Gentoo      1\n",
      "329     Gentoo      1\n",
      "330     Gentoo      1\n",
      "331     Gentoo      1\n",
      "332     Gentoo      1\n",
      "333     Gentoo      1\n",
      "334     Gentoo      1\n",
      "335     Gentoo      1\n",
      "336     Gentoo      1\n",
      "337     Gentoo      1\n",
      "338     Gentoo      1\n",
      "340     Gentoo      1\n",
      "341     Gentoo      1\n",
      "342     Gentoo      1\n",
      "343     Gentoo      1\n"
     ]
    }
   ],
   "source": [
    "# Answer:\n",
    "\n",
    "from sklearn.mixture import GaussianMixture\n",
    "\n",
    "gmm = GaussianMixture(n_components = 3)\n",
    "\n",
    "X = df[['culmen_length_mm', 'culmen_depth_mm', 'flipper_length_mm', 'body_mass_g']]\n",
    "\n",
    "gmm.fit(X)\n",
    "\n",
    "labels = gmm.predict(X)\n",
    "\n",
    "df['label'] = labels\n",
    "\n",
    "# the following line makes Jupyter display the entire DataFrame, without any ...s\n",
    "pd.set_option(\"display.max_rows\", None, \"display.max_columns\", None)\n",
    "\n",
    "print(df[['species', 'label']])"
   ]
  },
  {
   "cell_type": "markdown",
   "metadata": {
    "id": "Hn7AagPWXoHO"
   },
   "source": [
    "### **2.5**\n",
    "Evaluate the GMM you created in **2.4**. How well did it perform?  Base your argument on whether it made any  misclassifications and how many?  Did it do better on some species than others?  How does this relate to the figures you produced in **2.1** and **2.2**?"
   ]
  },
  {
   "cell_type": "markdown",
   "metadata": {
    "id": "94Vsadr4YiA6"
   },
   "source": [
    "**Answer:**\n",
    "The figure produced in **2.1** and **2.2** present us with distributions of the different subpopulations according to different factors (different categories, or filters if you wish). The GMM from **2.4** presents us with with the prediction of all elements of the whole set (penguins within the entire population) into their subpopulations based on the various data ditrbutions taken into account (the 4 factors registered into the GMM algorithm). Or in other words, it would take 4 different graphs and present them in one table in which all elements (penguins) are polarized and divided into subpopulations."
   ]
  },
  {
   "cell_type": "code",
   "execution_count": null,
   "metadata": {},
   "outputs": [],
   "source": []
  }
 ],
 "metadata": {
  "colab": {
   "collapsed_sections": [],
   "name": "homework3.ipynb",
   "provenance": [],
   "toc_visible": true
  },
  "kernelspec": {
   "display_name": "Python 3",
   "language": "python",
   "name": "python3"
  },
  "language_info": {
   "codemirror_mode": {
    "name": "ipython",
    "version": 3
   },
   "file_extension": ".py",
   "mimetype": "text/x-python",
   "name": "python",
   "nbconvert_exporter": "python",
   "pygments_lexer": "ipython3",
   "version": "3.8.3"
  }
 },
 "nbformat": 4,
 "nbformat_minor": 1
}
