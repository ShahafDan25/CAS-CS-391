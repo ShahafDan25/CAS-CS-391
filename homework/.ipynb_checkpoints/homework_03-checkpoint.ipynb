{
 "cells": [
  {
   "cell_type": "markdown",
   "metadata": {
    "id": "kt1JHDsr4dHs"
   },
   "source": [
    "# <center> **CS 391, Spring 2021, Homework 3**\n",
    "### <center> Due **Tuesday, February 16, 11:59 pm ET (Boston time)**, via Gradescope\n",
    "\n",
    "\n"
   ]
  },
  {
   "cell_type": "markdown",
   "metadata": {
    "id": "6MSiDOUbDbuv"
   },
   "source": [
    "### **Submission guidelines** \n",
    "Please write your solutions inside of this .ipynb file, then convert it to a PDF before submitting on Gradescope:\n",
    "\n",
    "*   **In Jupyter:** File > Download as > PDF\n",
    "*   **In Google Colab:** File > Print > Destination > Save as PDF\n",
    "\n",
    "When you submit, please **be sure to match the answers on your PDF to the outline on Gradescope.** In other words, if the answer to problem 2.1 is on pages 2 and 3 of your PDF, please be sure to select those pages as the answer to problem 2.1 on Gradescope. Since it takes significantly longer to grade homework that is not properly matched, **we may deduct points** for noncompliant submissions.\n",
    "\n",
    "The lab on Wednesday 1/27 covers how to get started with the notebooks for writing problem solutions and running experiments. In case you haven't done so, please sign up to the course Gradescope, with the access code **ERV7B2**: https://www.gradescope.com/courses/232562.\n",
    "\n",
    "<div style=\"page-break-after: always;\"></div>"
   ]
  },
  {
   "cell_type": "markdown",
   "metadata": {
    "id": "dX6hIxhG53tC"
   },
   "source": [
    "## **1. Problem Solving** \n",
    "\n",
    "Let $G_1(V,E_1)$ and $G_2(V,E_2)$ be two graphs on the same set of nodes $V$ but (possible) different set of edges $E_1$ and $E_2$. The *edit distance* between $G_1$ and $G_2$ is the number of node pairs, such that there is an edge in one graph but not in the other. That is\n",
    "$\\mathrm{dist}(G_1,G_2) = | E_1\\setminus E_2| + |E_2 \\setminus E_1|.$ Here \"$\\setminus$\" is the set-minus operation.\n",
    "\n",
    "### **1.1**\n",
    "\n",
    "\n",
    "Prove that $\\mathrm{dist}(G_1,G_2)$ is a metric. \n"
   ]
  },
  {
   "cell_type": "markdown",
   "metadata": {
    "id": "aSBmL-SwGx1O"
   },
   "source": [
    "**Answer:**"
   ]
  },
  {
   "cell_type": "markdown",
   "metadata": {
    "id": "SQ4wLxuOwBlJ"
   },
   "source": [
    "### **1.2**\n",
    "Given  $3$ graphs $G_1, G_2, G_3$ on the same set of nodes but different set of edges (that is $G_3 = (V,E_3)$). Find a graph $G(V,E)$, such that the total distance \n",
    "$\\mathrm{dist}(G, G_1, G_2, G_3) = \\sum_{i=1}^3 \\mathrm{dist}(G,G_i)$\n",
    "is minimized. \n",
    "\n",
    "\n",
    "\n",
    "Describe the algorithm to find $G$. You may use English or pseudocode (or a combination of it). Your description should be clear enough for somebody familiar with implementing graph algorithms (everybody in CS330 should be able to ;) ) would be able to implement it."
   ]
  },
  {
   "cell_type": "markdown",
   "metadata": {
    "id": "Qz4tUOe0wkr-"
   },
   "source": [
    "**Answer:**\n"
   ]
  },
  {
   "cell_type": "markdown",
   "metadata": {
    "id": "xqDm4vFrwrs5"
   },
   "source": [
    "### **1.3**\n",
    " Prove that the $G$ found by your algorithm is indeed minimizing the distance."
   ]
  },
  {
   "cell_type": "markdown",
   "metadata": {
    "id": "soM-V729xJPQ"
   },
   "source": [
    "**Answer:**\n"
   ]
  },
  {
   "cell_type": "markdown",
   "metadata": {
    "id": "wdsnTTxP6-XV"
   },
   "source": [
    "### **2. Data Analysis**\n",
    "\n",
    "For this question, you will look at a dataset containing information about three different species of penguins, compiled in the Palmer penguins dataset:  https://pypi.org/project/palmerpenguins/.\n",
    "\n",
    "You will use a Gaussian Mixture Model to categorize the individual penguins into the three different species based on four numerical features: culmen length, culmen depth, flipper length, and body mass.\n",
    "\n",
    "Here is the dataset:\n"
   ]
  },
  {
   "cell_type": "code",
   "execution_count": 4,
   "metadata": {
    "colab": {
     "base_uri": "https://localhost:8080/",
     "height": 419
    },
    "id": "yEQW-lTVBFnq",
    "outputId": "9816c15d-ba53-4d71-ad7b-90ea101e47aa"
   },
   "outputs": [
    {
     "data": {
      "text/html": [
       "<div>\n",
       "<style scoped>\n",
       "    .dataframe tbody tr th:only-of-type {\n",
       "        vertical-align: middle;\n",
       "    }\n",
       "\n",
       "    .dataframe tbody tr th {\n",
       "        vertical-align: top;\n",
       "    }\n",
       "\n",
       "    .dataframe thead th {\n",
       "        text-align: right;\n",
       "    }\n",
       "</style>\n",
       "<table border=\"1\" class=\"dataframe\">\n",
       "  <thead>\n",
       "    <tr style=\"text-align: right;\">\n",
       "      <th></th>\n",
       "      <th>species</th>\n",
       "      <th>island</th>\n",
       "      <th>culmen_length_mm</th>\n",
       "      <th>culmen_depth_mm</th>\n",
       "      <th>flipper_length_mm</th>\n",
       "      <th>body_mass_g</th>\n",
       "      <th>sex</th>\n",
       "    </tr>\n",
       "  </thead>\n",
       "  <tbody>\n",
       "    <tr>\n",
       "      <th>0</th>\n",
       "      <td>Adelie</td>\n",
       "      <td>Torgersen</td>\n",
       "      <td>39.1</td>\n",
       "      <td>18.7</td>\n",
       "      <td>181.0</td>\n",
       "      <td>3750.0</td>\n",
       "      <td>MALE</td>\n",
       "    </tr>\n",
       "    <tr>\n",
       "      <th>1</th>\n",
       "      <td>Adelie</td>\n",
       "      <td>Torgersen</td>\n",
       "      <td>39.5</td>\n",
       "      <td>17.4</td>\n",
       "      <td>186.0</td>\n",
       "      <td>3800.0</td>\n",
       "      <td>FEMALE</td>\n",
       "    </tr>\n",
       "    <tr>\n",
       "      <th>2</th>\n",
       "      <td>Adelie</td>\n",
       "      <td>Torgersen</td>\n",
       "      <td>40.3</td>\n",
       "      <td>18.0</td>\n",
       "      <td>195.0</td>\n",
       "      <td>3250.0</td>\n",
       "      <td>FEMALE</td>\n",
       "    </tr>\n",
       "    <tr>\n",
       "      <th>4</th>\n",
       "      <td>Adelie</td>\n",
       "      <td>Torgersen</td>\n",
       "      <td>36.7</td>\n",
       "      <td>19.3</td>\n",
       "      <td>193.0</td>\n",
       "      <td>3450.0</td>\n",
       "      <td>FEMALE</td>\n",
       "    </tr>\n",
       "    <tr>\n",
       "      <th>5</th>\n",
       "      <td>Adelie</td>\n",
       "      <td>Torgersen</td>\n",
       "      <td>39.3</td>\n",
       "      <td>20.6</td>\n",
       "      <td>190.0</td>\n",
       "      <td>3650.0</td>\n",
       "      <td>MALE</td>\n",
       "    </tr>\n",
       "    <tr>\n",
       "      <th>...</th>\n",
       "      <td>...</td>\n",
       "      <td>...</td>\n",
       "      <td>...</td>\n",
       "      <td>...</td>\n",
       "      <td>...</td>\n",
       "      <td>...</td>\n",
       "      <td>...</td>\n",
       "    </tr>\n",
       "    <tr>\n",
       "      <th>338</th>\n",
       "      <td>Gentoo</td>\n",
       "      <td>Biscoe</td>\n",
       "      <td>47.2</td>\n",
       "      <td>13.7</td>\n",
       "      <td>214.0</td>\n",
       "      <td>4925.0</td>\n",
       "      <td>FEMALE</td>\n",
       "    </tr>\n",
       "    <tr>\n",
       "      <th>340</th>\n",
       "      <td>Gentoo</td>\n",
       "      <td>Biscoe</td>\n",
       "      <td>46.8</td>\n",
       "      <td>14.3</td>\n",
       "      <td>215.0</td>\n",
       "      <td>4850.0</td>\n",
       "      <td>FEMALE</td>\n",
       "    </tr>\n",
       "    <tr>\n",
       "      <th>341</th>\n",
       "      <td>Gentoo</td>\n",
       "      <td>Biscoe</td>\n",
       "      <td>50.4</td>\n",
       "      <td>15.7</td>\n",
       "      <td>222.0</td>\n",
       "      <td>5750.0</td>\n",
       "      <td>MALE</td>\n",
       "    </tr>\n",
       "    <tr>\n",
       "      <th>342</th>\n",
       "      <td>Gentoo</td>\n",
       "      <td>Biscoe</td>\n",
       "      <td>45.2</td>\n",
       "      <td>14.8</td>\n",
       "      <td>212.0</td>\n",
       "      <td>5200.0</td>\n",
       "      <td>FEMALE</td>\n",
       "    </tr>\n",
       "    <tr>\n",
       "      <th>343</th>\n",
       "      <td>Gentoo</td>\n",
       "      <td>Biscoe</td>\n",
       "      <td>49.9</td>\n",
       "      <td>16.1</td>\n",
       "      <td>213.0</td>\n",
       "      <td>5400.0</td>\n",
       "      <td>MALE</td>\n",
       "    </tr>\n",
       "  </tbody>\n",
       "</table>\n",
       "<p>334 rows × 7 columns</p>\n",
       "</div>"
      ],
      "text/plain": [
       "    species     island  ...  body_mass_g     sex\n",
       "0    Adelie  Torgersen  ...       3750.0    MALE\n",
       "1    Adelie  Torgersen  ...       3800.0  FEMALE\n",
       "2    Adelie  Torgersen  ...       3250.0  FEMALE\n",
       "4    Adelie  Torgersen  ...       3450.0  FEMALE\n",
       "5    Adelie  Torgersen  ...       3650.0    MALE\n",
       "..      ...        ...  ...          ...     ...\n",
       "338  Gentoo     Biscoe  ...       4925.0  FEMALE\n",
       "340  Gentoo     Biscoe  ...       4850.0  FEMALE\n",
       "341  Gentoo     Biscoe  ...       5750.0    MALE\n",
       "342  Gentoo     Biscoe  ...       5200.0  FEMALE\n",
       "343  Gentoo     Biscoe  ...       5400.0    MALE\n",
       "\n",
       "[334 rows x 7 columns]"
      ]
     },
     "execution_count": 4,
     "metadata": {
      "tags": []
     },
     "output_type": "execute_result"
    }
   ],
   "source": [
    "import matplotlib.pyplot as plt\n",
    "%matplotlib inline\n",
    "plt.style.use('ggplot')\n",
    "import seaborn as sns\n",
    "import pandas as pd\n",
    "\n",
    "df = pd.read_csv('https://raw.githubusercontent.com/catabia/cs391_spring21/main/penguins_size.csv')\n",
    "\n",
    "# this line eliminates all rows with NaN values:\n",
    "df = df.dropna()\n",
    "\n",
    "df"
   ]
  },
  {
   "cell_type": "markdown",
   "metadata": {
    "id": "w1SotE-JSLXs"
   },
   "source": [
    "### **2.1**\n",
    "\n",
    "Create a scatterplot showing body mass on one axis and flipper length on the other.  Represent each species using a different color.  By just looking at it, do you think that the different species cluster nicely into three separate groups, or do they overlap?"
   ]
  },
  {
   "cell_type": "code",
   "execution_count": 1,
   "metadata": {
    "id": "yT9BPJZKQP3_"
   },
   "outputs": [],
   "source": [
    "# Answer:"
   ]
  },
  {
   "cell_type": "markdown",
   "metadata": {
    "id": "23xCeIa8UDDZ"
   },
   "source": [
    "**Answer:** "
   ]
  },
  {
   "cell_type": "markdown",
   "metadata": {
    "id": "Pt0hLEFYULdS"
   },
   "source": [
    "## **2.2**\n",
    "Create a histogram of penguin culmen depth, again representing each species of penguin with a different color.  Looking at this plot, do you think a GMM would be a good model for this data?  Why or why not? In your argument you should say whether you think we can fit some number of Gaussians to it."
   ]
  },
  {
   "cell_type": "code",
   "execution_count": 2,
   "metadata": {
    "id": "jWoUtP_ksnuX"
   },
   "outputs": [],
   "source": [
    "# Answer:"
   ]
  },
  {
   "cell_type": "markdown",
   "metadata": {
    "id": "wzRJFu_9Wiw6"
   },
   "source": [
    "**Answer:** "
   ]
  },
  {
   "cell_type": "markdown",
   "metadata": {
    "id": "U0-TQCjUQ6Oa"
   },
   "source": [
    "### **2.3**\n",
    "When we fit the Gaussian Mixture Model (GMM), how many components should we instruct it to identify and why?"
   ]
  },
  {
   "cell_type": "markdown",
   "metadata": {
    "id": "sHzSlDurRKwB"
   },
   "source": [
    "**Answer:** "
   ]
  },
  {
   "cell_type": "markdown",
   "metadata": {
    "id": "YwWKFl_AW5ai"
   },
   "source": [
    "### **2.4**\n",
    "\n",
    "Use the GMM method from scikit learn to categorize the data based on only the following four features:  culmen length, culmen depth, flipper length, body mass."
   ]
  },
  {
   "cell_type": "code",
   "execution_count": 3,
   "metadata": {
    "id": "sETGV6ccSFbG"
   },
   "outputs": [],
   "source": [
    "# Answer:\n",
    "\n",
    "from sklearn.mixture import GaussianMixture\n"
   ]
  },
  {
   "cell_type": "markdown",
   "metadata": {
    "id": "Hn7AagPWXoHO"
   },
   "source": [
    "### **2.5**\n",
    "Evaluate the GMM you created in **2.4**. How well did it perform?  Base your argument on whether it made any  misclassifications and how many?  Did it do better on some species than others?  How does this relate to the figures you produced in **2.1** and **2.2**?"
   ]
  },
  {
   "cell_type": "markdown",
   "metadata": {
    "id": "94Vsadr4YiA6"
   },
   "source": [
    "**Answer:**"
   ]
  }
 ],
 "metadata": {
  "colab": {
   "collapsed_sections": [],
   "name": "homework3.ipynb",
   "provenance": [],
   "toc_visible": true
  },
  "kernelspec": {
   "display_name": "Python 3",
   "language": "python",
   "name": "python3"
  },
  "language_info": {
   "codemirror_mode": {
    "name": "ipython",
    "version": 3
   },
   "file_extension": ".py",
   "mimetype": "text/x-python",
   "name": "python",
   "nbconvert_exporter": "python",
   "pygments_lexer": "ipython3",
   "version": "3.8.3"
  }
 },
 "nbformat": 4,
 "nbformat_minor": 1
}
