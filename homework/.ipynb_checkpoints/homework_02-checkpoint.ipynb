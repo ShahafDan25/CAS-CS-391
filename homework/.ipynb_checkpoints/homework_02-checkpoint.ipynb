{
 "cells": [
  {
   "cell_type": "markdown",
   "metadata": {
    "id": "kt1JHDsr4dHs"
   },
   "source": [
    "# <center> **CS 391, Spring 2021, Homework 2**\n",
    "### <center> Due **Tuesday February 9, 11:59 pm ET (Boston time)**, via Gradescope\n",
    "\n",
    "\n"
   ]
  },
  {
   "cell_type": "markdown",
   "metadata": {
    "id": "6MSiDOUbDbuv"
   },
   "source": [
    "### **Submission guidelines** \n",
    "Please write your solutions inside of this .ipynb file, then convert it to a PDF before submitting on Gradescope:\n",
    "\n",
    "*   **In Jupyter:** File > Download as > PDF\n",
    "*   **In Google Colab:** File > Print > Destination > Save as PDF\n",
    "\n",
    "When you submit, please **be sure to match the answers on your PDF to the outline on Gradescope.** In other words, if the answer to problem 2.1 is on pages 2 and 3 of your PDF, please be sure to select those pages as the answer to problem 2.1 on Gradescope. Since it takes significantly longer to grade homework that is not properly matched, **we may deduct points** for noncompliant submissions.\n",
    "\n",
    "The lab on Wednesday 1/27 covers how to get started with the notebooks for writing problem solutions and running experiments. In case you haven't done so, please sign up to the course Gradescope, with the access code **ERV7B2**: https://www.gradescope.com/courses/232562.\n",
    "\n",
    "<div style=\"page-break-after: always;\"></div>"
   ]
  },
  {
   "cell_type": "markdown",
   "metadata": {
    "id": "dX6hIxhG53tC"
   },
   "source": [
    "## **1. Problem Solving** \n",
    "\n",
    "A book consisting of  500 pages contains 1,250 typos. We are interested in  the probability of finding  typos on a random page. \n",
    "\n",
    "### **1.1**\n",
    "Which probability distribution that we studied do you think best describes this scenario? Explain in your own words why you think that is. \n",
    "\n"
   ]
  },
  {
   "cell_type": "markdown",
   "metadata": {
    "id": "aSBmL-SwGx1O"
   },
   "source": [
    "**Answer:**"
   ]
  },
  {
   "cell_type": "markdown",
   "metadata": {
    "id": "SQ4wLxuOwBlJ"
   },
   "source": [
    "### **1.2**\n",
    "What is the probability that a randomly selected page contains exactly 3 typos? Show the formula you use, explain how you set the value of the parameters and compute the result (up to 3 digits)."
   ]
  },
  {
   "cell_type": "markdown",
   "metadata": {
    "id": "Qz4tUOe0wkr-"
   },
   "source": [
    "**Answer:**"
   ]
  },
  {
   "cell_type": "markdown",
   "metadata": {
    "id": "xqDm4vFrwrs5"
   },
   "source": [
    "### **1.3**\n",
    "Compute the probability that there are more than 2 typos on a randomly selected page. Show your computation the same way as in **1.2**."
   ]
  },
  {
   "cell_type": "markdown",
   "metadata": {
    "id": "soM-V729xJPQ"
   },
   "source": [
    "**Answer:**"
   ]
  },
  {
   "cell_type": "markdown",
   "metadata": {
    "id": "YCJ195aTx4_-"
   },
   "source": [
    "### **1.4**\n",
    "In a different book that you are reading you notice that on average there is one typo in every three pages. You are interested in how many pages you can read without encountering another typo. What probability distribution that we studied do you think best describes this scenario? Explain in your own words why you think that is. "
   ]
  },
  {
   "cell_type": "markdown",
   "metadata": {
    "id": "WmP4-8SPzEDw"
   },
   "source": [
    "**Answer:**"
   ]
  },
  {
   "cell_type": "markdown",
   "metadata": {
    "id": "2fhCHHYeypRB"
   },
   "source": [
    "### **1.5**\n",
    "You just found a typo in the book. What is the probability that the next typo you see is five pages ahead? Show the formula you use, the parameter values and compute the result. "
   ]
  },
  {
   "cell_type": "markdown",
   "metadata": {
    "id": "JZb7LFiGzGZ1"
   },
   "source": [
    "**Answer:**"
   ]
  },
  {
   "cell_type": "markdown",
   "metadata": {
    "id": "wdsnTTxP6-XV"
   },
   "source": [
    "### **2. Data Analysis**\n"
   ]
  },
  {
   "cell_type": "markdown",
   "metadata": {
    "id": "qjjwaJ04Lavd"
   },
   "source": [
    "*HINT: If you have not already done so, please review Lab 2 and read this blog post before attempting this problem:  http://www.empiricalzeal.com/2012/12/21/what-does-randomness-look-like/#more-2450*\n",
    "\n",
    "During the 2015-2016 NBA season, Steph Curry made NBA history by scoring an astronomical 402 successful three-point shots (breaking the previous record of 286 successful three-pointers, which Curry had set the year before.) Below, we import a game-by-game record of Curry for that season.  Each row represents a single game.  Pay particular attention to the column \"3P,\" which is the number of successful three-pointers Curry scored each game."
   ]
  },
  {
   "cell_type": "code",
   "execution_count": null,
   "metadata": {
    "id": "5R-hOk8PIvCR"
   },
   "outputs": [],
   "source": [
    "import pandas as pd\n",
    "\n",
    "data = pd.read_csv(\"https://raw.githubusercontent.com/catabia/cs391_spring21/main/curry16.csv\")\n",
    "data"
   ]
  },
  {
   "cell_type": "markdown",
   "metadata": {
    "id": "JmuMuHo0mTt-"
   },
   "source": [
    "### **2.1**\n",
    "Create a new pandas DataFrame with two columns, containing:\n",
    "1. The number of successful three-pointers (should range from 1-12, as Curry scored anywhere between 1-12 three-pointers per game)\n",
    "2. The number of games in which Curry scored that many three-pointers"
   ]
  },
  {
   "cell_type": "code",
   "execution_count": null,
   "metadata": {
    "id": "8VZQ0x-lI7mV"
   },
   "outputs": [],
   "source": [
    "# Answer:\n"
   ]
  },
  {
   "cell_type": "markdown",
   "metadata": {
    "id": "CqKakI2Vm9Mo"
   },
   "source": [
    "### **2.2**\n",
    "\n",
    "Use matplotlib to create a bar plot from the DataFrame you created in **2.1**, with the number of three-pointers on the $x$-axis and the number of games on the $y$-axis. Draw a line on the bar plot that represents the mean number of successful three-pointers per game. Remember to also label your $x$ and $y$ axes, and to give your plot an appropriate title."
   ]
  },
  {
   "cell_type": "code",
   "execution_count": null,
   "metadata": {
    "id": "gZGiOf6QfbAb"
   },
   "outputs": [],
   "source": [
    "# Answer:\n",
    "\n",
    "import matplotlib.pyplot as plt\n",
    "%matplotlib inline\n",
    "plt.style.use('ggplot')\n"
   ]
  },
  {
   "cell_type": "markdown",
   "metadata": {
    "id": "wpsl74Dun18M"
   },
   "source": [
    "### **2.3**\n",
    "\n",
    "Looking at the bar graph you produced in **2.2**, do you think that the number of three-pointers Steph Curry scores in a game is random?  Why or why not?"
   ]
  },
  {
   "cell_type": "markdown",
   "metadata": {
    "id": "bhiinWL4ojb1"
   },
   "source": [
    "**Answer:**"
   ]
  },
  {
   "cell_type": "markdown",
   "metadata": {
    "id": "b1XaUd70oqMD"
   },
   "source": [
    "### **2.4**\n",
    "\n",
    "Calculate Curry's average number of successful three-pointers per game.  Then, use the Poisson distribution to predict how many games Curry should score no three-pointer, 1 three-pointer, 2 three-pointers, etc.  (Calculate this for the range from 0 to 12.)"
   ]
  },
  {
   "cell_type": "code",
   "execution_count": null,
   "metadata": {
    "id": "cDlwOtJohk1J"
   },
   "outputs": [],
   "source": [
    "# Answer:\n",
    "\n",
    "from scipy.stats import poisson\n"
   ]
  },
  {
   "cell_type": "markdown",
   "metadata": {
    "id": "UPLmmvbopCJg"
   },
   "source": [
    "### **2.5**\n",
    "\n",
    "Compare the predictions of the Poisson distribution in **2.4** with the actual outcomes that you examined in **2.2**.  How well do they match?  Why do you think this is the case?"
   ]
  }
 ],
 "metadata": {
  "colab": {
   "collapsed_sections": [],
   "name": "homework2.ipynb",
   "provenance": []
  },
  "kernelspec": {
   "display_name": "Python 3",
   "language": "python",
   "name": "python3"
  },
  "language_info": {
   "codemirror_mode": {
    "name": "ipython",
    "version": 3
   },
   "file_extension": ".py",
   "mimetype": "text/x-python",
   "name": "python",
   "nbconvert_exporter": "python",
   "pygments_lexer": "ipython3",
   "version": "3.8.3"
  }
 },
 "nbformat": 4,
 "nbformat_minor": 1
}
