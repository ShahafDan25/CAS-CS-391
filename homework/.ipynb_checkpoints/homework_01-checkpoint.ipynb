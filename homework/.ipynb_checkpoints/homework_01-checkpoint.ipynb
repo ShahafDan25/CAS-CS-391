{
 "cells": [
  {
   "cell_type": "markdown",
   "metadata": {
    "id": "kt1JHDsr4dHs"
   },
   "source": [
    "# <center> **CS 391, Spring 2021, Homework 1**\n",
    "### <center> Due **Tuesday February 2, 11:59 pm ET (Boston time)**, viaGradescope\n",
    "\n",
    "\n"
   ]
  },
  {
   "cell_type": "markdown",
   "metadata": {
    "id": "6MSiDOUbDbuv"
   },
   "source": [
    "###**Submission guidelines** \n",
    "Please write your solutions inside of this .ipynb file, then convert it to a PDF before submitting on Gradescope:\n",
    "\n",
    "*   **In Jupyter:** File > Download as > PDF\n",
    "*   **In Google Colab:** File > Print > Destination > Save as PDF\n",
    "\n",
    "When you submit, please **be sure to match the answers on your PDF to the outline on Gradescope.** In other words, if the answer to problem 2.1 is on pages 2 and 3 of your PDF, please be sure to select those pages as the answer to problem 2.1 on Gradescope. Since it takes significantly longer to grade homework that is not properly matched, **we may deduct points** for noncompliant submissions.\n",
    "\n",
    "The lab on Wednesday 1/27 covers how to get started with the notebooks for writing problem solutions and running experiments. In case you haven't done so, please sign up to the course Gradescope, with the access code **ERV7B2**: https://www.gradescope.com/courses/232562.\n",
    "\n",
    "<div style=\"page-break-after: always;\"></div>"
   ]
  },
  {
   "cell_type": "markdown",
   "metadata": {
    "id": "dX6hIxhG53tC"
   },
   "source": [
    "## **1. Problem Solving**\n",
    "\n",
    "Akhil is a youth activist, who is going door-to-door in his neighborhood to hand out material on upcoming events around town. He only hands out flyers to households where the door is answered *and* a teenager lives there. He finds that the probability of each door being answered is $p_1$, and the probability of a teenager living at an address is $p_2$. You may assume that residents answer doors independently of the presence of teenagers. Work out the probability of the folloing events. (We may assume that the number of calls is always sufficiently large to hand out the desired number of flyers.)\n",
    "\n",
    "### **1.1**\n",
    "What is the probability that Akhil hands out his $k^{th}$ flyer at the $l^{th}$ door?\n"
   ]
  },
  {
   "cell_type": "markdown",
   "metadata": {
    "id": "aSBmL-SwGx1O"
   },
   "source": [
    "**Answer:**"
   ]
  },
  {
   "cell_type": "markdown",
   "metadata": {
    "id": "3lDM9_3pH1hx"
   },
   "source": [
    "### **1.2**\n",
    "\n",
    "How many doors does it take to hand out $k$ flyers?  Calculate the expectation.\n"
   ]
  },
  {
   "cell_type": "markdown",
   "metadata": {
    "id": "ODFFBv84IOe5"
   },
   "source": [
    "**Answer:**"
   ]
  },
  {
   "cell_type": "markdown",
   "metadata": {
    "id": "hdtcowkTIRlI"
   },
   "source": [
    "### **1.3**\n",
    "\n",
    "If Akhil hands out $k$ flyers at the first $t$ doors, what is the probability that he hands out an additional $l$ during the second $t$ calls? "
   ]
  },
  {
   "cell_type": "markdown",
   "metadata": {
    "id": "O7pUbRXyIfVS"
   },
   "source": [
    "**Answer:**"
   ]
  },
  {
   "cell_type": "markdown",
   "metadata": {
    "id": "9TyTabehIhiU"
   },
   "source": [
    "### **1.4**\n",
    "\n",
    "Given that he has *not* given away $k$ flyers after $t$ calls, what is the probability of handing out $k+ d$ by the $k+2d^{th}$ call? "
   ]
  },
  {
   "cell_type": "markdown",
   "metadata": {
    "id": "U7AqI-S1I3_g"
   },
   "source": [
    "**Answer:**"
   ]
  },
  {
   "cell_type": "markdown",
   "metadata": {
    "id": "wdsnTTxP6-XV"
   },
   "source": [
    "## **2. Experiments**\n",
    "\n",
    "Here is a Python program that rolls a fair die:"
   ]
  },
  {
   "cell_type": "code",
   "execution_count": null,
   "metadata": {
    "colab": {
     "base_uri": "https://localhost:8080/"
    },
    "id": "LXXFyPuH8eDu",
    "outputId": "88ec6778-1091-46b8-a5c6-e692172c5f8f"
   },
   "outputs": [
    {
     "data": {
      "text/plain": [
       "2"
      ]
     },
     "execution_count": 34,
     "metadata": {
      "tags": []
     },
     "output_type": "execute_result"
    }
   ],
   "source": [
    "import random\n",
    "die = [1, 2, 3, 4, 5, 6]\n",
    "\n",
    "def roll():\n",
    "  val = random.sample(die, 1)[0]\n",
    "  return val\n",
    "\n",
    "roll()\n"
   ]
  },
  {
   "cell_type": "markdown",
   "metadata": {
    "id": "cdS4L-qgADFT"
   },
   "source": [
    "###**2.1**\n",
    "\n",
    "What is the expected value of rolling a single die?  (Please show your calculation.)\n",
    "\n"
   ]
  },
  {
   "cell_type": "markdown",
   "metadata": {
    "id": "Ta0ua5WhAibu"
   },
   "source": [
    "**Answer:**"
   ]
  },
  {
   "cell_type": "markdown",
   "metadata": {
    "id": "sxt3p7xYBCOI"
   },
   "source": [
    "### **2.2**\n",
    "Perform an experiment.  What is the average of value of 10 die rolls?  How about 100, 1,000, and 10,000?  What do you notice happening as you increase the number of rolls?"
   ]
  },
  {
   "cell_type": "code",
   "execution_count": null,
   "metadata": {
    "id": "GCU49N8mCMaP"
   },
   "outputs": [],
   "source": [
    "# Answer:\n"
   ]
  },
  {
   "cell_type": "markdown",
   "metadata": {
    "id": "T9n2txrKCf1i"
   },
   "source": [
    "###**2.3**\n",
    "\n",
    "What is the expected value of rolling *two* dice?  (Please show your calculation.)\n",
    "\n"
   ]
  },
  {
   "cell_type": "markdown",
   "metadata": {
    "id": "XEyxjjtTCrpw"
   },
   "source": [
    "**Answer:**\n",
    "\n"
   ]
  },
  {
   "cell_type": "code",
   "execution_count": null,
   "metadata": {
    "id": "8xnEtOPcJw69"
   },
   "outputs": [],
   "source": []
  },
  {
   "cell_type": "markdown",
   "metadata": {
    "id": "lIMlJjDMC4kw"
   },
   "source": [
    "### **2.4**\n",
    "Now perform the same experiment, this time rolling two dice.  What is the average of value of 10, 100, 1,000, and 10,000 dice rolls?  Again, what do you notice happening as you increase the number of rolls?"
   ]
  },
  {
   "cell_type": "code",
   "execution_count": null,
   "metadata": {
    "id": "BIkmrFrADEZS"
   },
   "outputs": [],
   "source": [
    "# Answer:"
   ]
  }
 ],
 "metadata": {
  "colab": {
   "collapsed_sections": [],
   "name": "homework1.ipynb",
   "provenance": []
  },
  "kernelspec": {
   "display_name": "Python 3",
   "language": "python",
   "name": "python3"
  },
  "language_info": {
   "codemirror_mode": {
    "name": "ipython",
    "version": 3
   },
   "file_extension": ".py",
   "mimetype": "text/x-python",
   "name": "python",
   "nbconvert_exporter": "python",
   "pygments_lexer": "ipython3",
   "version": "3.8.3"
  }
 },
 "nbformat": 4,
 "nbformat_minor": 1
}
