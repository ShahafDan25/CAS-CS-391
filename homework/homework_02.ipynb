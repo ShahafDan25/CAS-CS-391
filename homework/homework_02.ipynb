{
 "cells": [
  {
   "cell_type": "markdown",
   "metadata": {
    "id": "kt1JHDsr4dHs"
   },
   "source": [
    "# <center> **CS 391, Spring 2021, Homework 2**\n",
    "### <center> Due **Tuesday February 9, 11:59 pm ET (Boston time)**, via Gradescope\n",
    "\n",
    "\n"
   ]
  },
  {
   "cell_type": "markdown",
   "metadata": {
    "id": "6MSiDOUbDbuv"
   },
   "source": [
    "### **Submission guidelines** \n",
    "Please write your solutions inside of this .ipynb file, then convert it to a PDF before submitting on Gradescope:\n",
    "\n",
    "*   **In Jupyter:** File > Download as > PDF\n",
    "*   **In Google Colab:** File > Print > Destination > Save as PDF\n",
    "\n",
    "When you submit, please **be sure to match the answers on your PDF to the outline on Gradescope.** In other words, if the answer to problem 2.1 is on pages 2 and 3 of your PDF, please be sure to select those pages as the answer to problem 2.1 on Gradescope. Since it takes significantly longer to grade homework that is not properly matched, **we may deduct points** for noncompliant submissions.\n",
    "\n",
    "The lab on Wednesday 1/27 covers how to get started with the notebooks for writing problem solutions and running experiments. In case you haven't done so, please sign up to the course Gradescope, with the access code **ERV7B2**: https://www.gradescope.com/courses/232562.\n",
    "\n",
    "<div style=\"page-break-after: always;\"></div>"
   ]
  },
  {
   "cell_type": "markdown",
   "metadata": {
    "id": "dX6hIxhG53tC"
   },
   "source": [
    "## **1. Problem Solving** \n",
    "\n",
    "A book consisting of  500 pages contains 1,250 typos. We are interested in  the probability of finding  typos on a random page. \n",
    "\n",
    "### **1.1**\n",
    "Which probability distribution that we studied do you think best describes this scenario? Explain in your own words why you think that is. \n",
    "\n"
   ]
  },
  {
   "cell_type": "markdown",
   "metadata": {
    "id": "aSBmL-SwGx1O"
   },
   "source": [
    "**Answer:**\n",
    "\n",
    "In my opinion, the probability distribution that best describes the scenario is **poisson distirbution**.  \n",
    "Poisson distribution describes the average number of events that happen in a unit of time, which could also be applied to the fine the average number of typos in a range of pages (1 book of 500 pages)."
   ]
  },
  {
   "cell_type": "markdown",
   "metadata": {
    "id": "SQ4wLxuOwBlJ"
   },
   "source": [
    "### **1.2**\n",
    "What is the probability that a randomly selected page contains exactly 3 typos? Show the formula you use, explain how you set the value of the parameters and compute the result (up to 3 digits)."
   ]
  },
  {
   "cell_type": "markdown",
   "metadata": {
    "id": "Qz4tUOe0wkr-"
   },
   "source": [
    "**Answer:**\n",
    "\n",
    "We will use the same model as the previous question and determine the asked probability with the **Poisson Distribution** which follows the formula:\n",
    "\n",
    "$$  Pr(X = k) = \\frac{\\lambda^k e^{-\\lambda}}{k!} $$\n",
    "\n",
    "Where we recall that $\\lambda = \\textrm{mean}$ for the Poisson's distribution.\n",
    "\n",
    "We can calculate the average typos per page (which is the $\\lambda$ in this equation), as $\\frac{\\textrm{total typos}}{\\textrm{total pages}} = \\frac{1250}{500} = 2.5$\n",
    "\n",
    "Hence:\n",
    "$Pr(X = k = 3) = \\frac{2.5^3 \\cdot e^{-2.5}}{3!} = \\boxed{0.214}$"
   ]
  },
  {
   "cell_type": "markdown",
   "metadata": {
    "id": "xqDm4vFrwrs5"
   },
   "source": [
    "### **1.3**\n",
    "Compute the probability that there are more than 2 typos on a randomly selected page. Show your computation the same way as in **1.2**."
   ]
  },
  {
   "cell_type": "markdown",
   "metadata": {
    "id": "soM-V729xJPQ"
   },
   "source": [
    "**Answer:**\n",
    "Let Event E = More than 2 typos in a random page\n",
    "Let Event A = Exactly 2 typos in a random page\n",
    "Let Event B = Exactly 1 typos in a random page\n",
    "Let Event C = Exactly 0 typos in a random page\n",
    "$$ Pr(E) = 1 - Pr(A) - Pr(B) - Pr(C) = 1 - \\frac{2.5^2 \\cdot e^{-2.5}}{2!} - \\frac{2.5^1 \\cdot e^{-2.5}}{1!} - \\frac{2.5^0 \\cdot e^{-2.5}}{0!} \\\\ \n",
    "$$\n",
    "$$ Pr(E) = 1 - 0.257 - 0.205 - 0.082 = \\boxed{0.456}$$"
   ]
  },
  {
   "cell_type": "markdown",
   "metadata": {
    "id": "YCJ195aTx4_-"
   },
   "source": [
    "### **1.4**\n",
    "In a different book that you are reading you notice that on average there is one typo in every three pages. You are interested in how many pages you can read without encountering another typo. What probability distribution that we studied do you think best describes this scenario? Explain in your own words why you think that is. "
   ]
  },
  {
   "cell_type": "markdown",
   "metadata": {
    "id": "WmP4-8SPzEDw"
   },
   "source": [
    "**Answer:**\n",
    "\n",
    "Let's recall a distribution that presents us with a model of x amount of trials until a success with probability p. Or, when applied to our provided scenario, it models the amount of pages (trials) until a success (finding a typo) with probability $p = 1/3$.\n",
    "Therefore, we can conclide that the probability distribution model to be used here is **Geometric Distribution**"
   ]
  },
  {
   "cell_type": "markdown",
   "metadata": {
    "id": "2fhCHHYeypRB"
   },
   "source": [
    "### **1.5**\n",
    "You just found a typo in the book. What is the probability that the next typo you see is five pages ahead? Show the formula you use, the parameter values and compute the result. "
   ]
  },
  {
   "cell_type": "markdown",
   "metadata": {
    "id": "JZb7LFiGzGZ1"
   },
   "source": [
    "**Answer:**\n",
    "\n",
    "We can consider the following probability dirtibution formula for a geometric ditribution model:\n",
    "$$ Pr(X = k) = (1 - p)^{(k - 1)}\\cdot p $$\n",
    "Where, since we average 1 typo for every page, we have $p = \\frac{1}{3}$ as our success probability, for a discrete random variable X symbolizing the amount of pages past before encountering a typo, such that $X$ ~ Geometric$(\\frac{1}{3})$\n",
    "\n",
    "Therefore, we conclude and solve that \n",
    "$$ Pr(X = 5) = (1 - \\frac{1}{3})^{(5 - 1)}\\cdot \\frac{1}{3} =  (\\frac{2}{3})^{(4)}\\cdot \\frac{1}{3} = \\frac{2^4}{3^5} = \\boxed{\\frac{16}{243}}$$"
   ]
  },
  {
   "cell_type": "markdown",
   "metadata": {
    "id": "wdsnTTxP6-XV"
   },
   "source": [
    "### **2. Data Analysis**\n"
   ]
  },
  {
   "cell_type": "markdown",
   "metadata": {
    "id": "qjjwaJ04Lavd"
   },
   "source": [
    "*HINT: If you have not already done so, please review Lab 2 and read this blog post before attempting this problem:  http://www.empiricalzeal.com/2012/12/21/what-does-randomness-look-like/#more-2450*\n",
    "\n",
    "During the 2015-2016 NBA season, Steph Curry made NBA history by scoring an astronomical 402 successful three-point shots (breaking the previous record of 286 successful three-pointers, which Curry had set the year before.) Below, we import a game-by-game record of Curry for that season.  Each row represents a single game.  Pay particular attention to the column \"3P,\" which is the number of successful three-pointers Curry scored each game."
   ]
  },
  {
   "cell_type": "code",
   "execution_count": 3,
   "metadata": {
    "id": "5R-hOk8PIvCR"
   },
   "outputs": [
    {
     "data": {
      "text/html": [
       "<div>\n",
       "<style scoped>\n",
       "    .dataframe tbody tr th:only-of-type {\n",
       "        vertical-align: middle;\n",
       "    }\n",
       "\n",
       "    .dataframe tbody tr th {\n",
       "        vertical-align: top;\n",
       "    }\n",
       "\n",
       "    .dataframe thead th {\n",
       "        text-align: right;\n",
       "    }\n",
       "</style>\n",
       "<table border=\"1\" class=\"dataframe\">\n",
       "  <thead>\n",
       "    <tr style=\"text-align: right;\">\n",
       "      <th></th>\n",
       "      <th>Rk</th>\n",
       "      <th>G</th>\n",
       "      <th>Date</th>\n",
       "      <th>Age</th>\n",
       "      <th>Tm</th>\n",
       "      <th>Unnamed: 5</th>\n",
       "      <th>Opp</th>\n",
       "      <th>Unnamed: 7</th>\n",
       "      <th>GS</th>\n",
       "      <th>MP</th>\n",
       "      <th>...</th>\n",
       "      <th>DRB</th>\n",
       "      <th>TRB</th>\n",
       "      <th>AST</th>\n",
       "      <th>STL</th>\n",
       "      <th>BLK</th>\n",
       "      <th>TOV</th>\n",
       "      <th>PF</th>\n",
       "      <th>PTS</th>\n",
       "      <th>GmSc</th>\n",
       "      <th>+/-</th>\n",
       "    </tr>\n",
       "  </thead>\n",
       "  <tbody>\n",
       "    <tr>\n",
       "      <th>0</th>\n",
       "      <td>1</td>\n",
       "      <td>1</td>\n",
       "      <td>2015-10-27</td>\n",
       "      <td>27-227</td>\n",
       "      <td>GSW</td>\n",
       "      <td>NaN</td>\n",
       "      <td>NOP</td>\n",
       "      <td>W (+16)</td>\n",
       "      <td>1</td>\n",
       "      <td>35:37</td>\n",
       "      <td>...</td>\n",
       "      <td>3</td>\n",
       "      <td>6</td>\n",
       "      <td>7</td>\n",
       "      <td>2</td>\n",
       "      <td>0</td>\n",
       "      <td>2</td>\n",
       "      <td>1</td>\n",
       "      <td>40</td>\n",
       "      <td>34.9</td>\n",
       "      <td>12</td>\n",
       "    </tr>\n",
       "    <tr>\n",
       "      <th>1</th>\n",
       "      <td>2</td>\n",
       "      <td>2</td>\n",
       "      <td>2015-10-30</td>\n",
       "      <td>27-230</td>\n",
       "      <td>GSW</td>\n",
       "      <td>@</td>\n",
       "      <td>HOU</td>\n",
       "      <td>W (+20)</td>\n",
       "      <td>1</td>\n",
       "      <td>27:24</td>\n",
       "      <td>...</td>\n",
       "      <td>7</td>\n",
       "      <td>7</td>\n",
       "      <td>6</td>\n",
       "      <td>1</td>\n",
       "      <td>0</td>\n",
       "      <td>1</td>\n",
       "      <td>4</td>\n",
       "      <td>25</td>\n",
       "      <td>22.4</td>\n",
       "      <td>12</td>\n",
       "    </tr>\n",
       "    <tr>\n",
       "      <th>2</th>\n",
       "      <td>3</td>\n",
       "      <td>3</td>\n",
       "      <td>2015-10-31</td>\n",
       "      <td>27-231</td>\n",
       "      <td>GSW</td>\n",
       "      <td>@</td>\n",
       "      <td>NOP</td>\n",
       "      <td>W (+14)</td>\n",
       "      <td>1</td>\n",
       "      <td>35:38</td>\n",
       "      <td>...</td>\n",
       "      <td>4</td>\n",
       "      <td>4</td>\n",
       "      <td>9</td>\n",
       "      <td>4</td>\n",
       "      <td>0</td>\n",
       "      <td>2</td>\n",
       "      <td>3</td>\n",
       "      <td>53</td>\n",
       "      <td>49.2</td>\n",
       "      <td>16</td>\n",
       "    </tr>\n",
       "    <tr>\n",
       "      <th>3</th>\n",
       "      <td>4</td>\n",
       "      <td>4</td>\n",
       "      <td>2015-11-02</td>\n",
       "      <td>27-233</td>\n",
       "      <td>GSW</td>\n",
       "      <td>NaN</td>\n",
       "      <td>MEM</td>\n",
       "      <td>W (+50)</td>\n",
       "      <td>1</td>\n",
       "      <td>28:24</td>\n",
       "      <td>...</td>\n",
       "      <td>2</td>\n",
       "      <td>3</td>\n",
       "      <td>3</td>\n",
       "      <td>3</td>\n",
       "      <td>1</td>\n",
       "      <td>3</td>\n",
       "      <td>2</td>\n",
       "      <td>30</td>\n",
       "      <td>26.1</td>\n",
       "      <td>37</td>\n",
       "    </tr>\n",
       "    <tr>\n",
       "      <th>4</th>\n",
       "      <td>5</td>\n",
       "      <td>5</td>\n",
       "      <td>2015-11-04</td>\n",
       "      <td>27-235</td>\n",
       "      <td>GSW</td>\n",
       "      <td>NaN</td>\n",
       "      <td>LAC</td>\n",
       "      <td>W (+4)</td>\n",
       "      <td>1</td>\n",
       "      <td>32:38</td>\n",
       "      <td>...</td>\n",
       "      <td>5</td>\n",
       "      <td>5</td>\n",
       "      <td>4</td>\n",
       "      <td>1</td>\n",
       "      <td>0</td>\n",
       "      <td>0</td>\n",
       "      <td>3</td>\n",
       "      <td>31</td>\n",
       "      <td>26.0</td>\n",
       "      <td>7</td>\n",
       "    </tr>\n",
       "    <tr>\n",
       "      <th>...</th>\n",
       "      <td>...</td>\n",
       "      <td>...</td>\n",
       "      <td>...</td>\n",
       "      <td>...</td>\n",
       "      <td>...</td>\n",
       "      <td>...</td>\n",
       "      <td>...</td>\n",
       "      <td>...</td>\n",
       "      <td>...</td>\n",
       "      <td>...</td>\n",
       "      <td>...</td>\n",
       "      <td>...</td>\n",
       "      <td>...</td>\n",
       "      <td>...</td>\n",
       "      <td>...</td>\n",
       "      <td>...</td>\n",
       "      <td>...</td>\n",
       "      <td>...</td>\n",
       "      <td>...</td>\n",
       "      <td>...</td>\n",
       "      <td>...</td>\n",
       "    </tr>\n",
       "    <tr>\n",
       "      <th>74</th>\n",
       "      <td>78</td>\n",
       "      <td>75</td>\n",
       "      <td>2016-04-05</td>\n",
       "      <td>28-022</td>\n",
       "      <td>GSW</td>\n",
       "      <td>NaN</td>\n",
       "      <td>MIN</td>\n",
       "      <td>L (-7)</td>\n",
       "      <td>1</td>\n",
       "      <td>42:35</td>\n",
       "      <td>...</td>\n",
       "      <td>4</td>\n",
       "      <td>6</td>\n",
       "      <td>15</td>\n",
       "      <td>3</td>\n",
       "      <td>0</td>\n",
       "      <td>3</td>\n",
       "      <td>4</td>\n",
       "      <td>21</td>\n",
       "      <td>17.8</td>\n",
       "      <td>3</td>\n",
       "    </tr>\n",
       "    <tr>\n",
       "      <th>75</th>\n",
       "      <td>79</td>\n",
       "      <td>76</td>\n",
       "      <td>2016-04-07</td>\n",
       "      <td>28-024</td>\n",
       "      <td>GSW</td>\n",
       "      <td>NaN</td>\n",
       "      <td>SAS</td>\n",
       "      <td>W (+11)</td>\n",
       "      <td>1</td>\n",
       "      <td>36:17</td>\n",
       "      <td>...</td>\n",
       "      <td>5</td>\n",
       "      <td>5</td>\n",
       "      <td>9</td>\n",
       "      <td>2</td>\n",
       "      <td>0</td>\n",
       "      <td>3</td>\n",
       "      <td>2</td>\n",
       "      <td>27</td>\n",
       "      <td>24.1</td>\n",
       "      <td>14</td>\n",
       "    </tr>\n",
       "    <tr>\n",
       "      <th>76</th>\n",
       "      <td>80</td>\n",
       "      <td>77</td>\n",
       "      <td>2016-04-09</td>\n",
       "      <td>28-026</td>\n",
       "      <td>GSW</td>\n",
       "      <td>@</td>\n",
       "      <td>MEM</td>\n",
       "      <td>W (+1)</td>\n",
       "      <td>1</td>\n",
       "      <td>33:59</td>\n",
       "      <td>...</td>\n",
       "      <td>9</td>\n",
       "      <td>9</td>\n",
       "      <td>8</td>\n",
       "      <td>1</td>\n",
       "      <td>0</td>\n",
       "      <td>2</td>\n",
       "      <td>1</td>\n",
       "      <td>17</td>\n",
       "      <td>11.3</td>\n",
       "      <td>10</td>\n",
       "    </tr>\n",
       "    <tr>\n",
       "      <th>77</th>\n",
       "      <td>81</td>\n",
       "      <td>78</td>\n",
       "      <td>2016-04-10</td>\n",
       "      <td>28-027</td>\n",
       "      <td>GSW</td>\n",
       "      <td>@</td>\n",
       "      <td>SAS</td>\n",
       "      <td>W (+6)</td>\n",
       "      <td>1</td>\n",
       "      <td>35:22</td>\n",
       "      <td>...</td>\n",
       "      <td>5</td>\n",
       "      <td>5</td>\n",
       "      <td>5</td>\n",
       "      <td>2</td>\n",
       "      <td>0</td>\n",
       "      <td>4</td>\n",
       "      <td>4</td>\n",
       "      <td>37</td>\n",
       "      <td>28.2</td>\n",
       "      <td>7</td>\n",
       "    </tr>\n",
       "    <tr>\n",
       "      <th>78</th>\n",
       "      <td>82</td>\n",
       "      <td>79</td>\n",
       "      <td>2016-04-13</td>\n",
       "      <td>28-030</td>\n",
       "      <td>GSW</td>\n",
       "      <td>NaN</td>\n",
       "      <td>MEM</td>\n",
       "      <td>W (+21)</td>\n",
       "      <td>1</td>\n",
       "      <td>29:46</td>\n",
       "      <td>...</td>\n",
       "      <td>3</td>\n",
       "      <td>4</td>\n",
       "      <td>6</td>\n",
       "      <td>2</td>\n",
       "      <td>0</td>\n",
       "      <td>2</td>\n",
       "      <td>2</td>\n",
       "      <td>46</td>\n",
       "      <td>40.2</td>\n",
       "      <td>19</td>\n",
       "    </tr>\n",
       "  </tbody>\n",
       "</table>\n",
       "<p>79 rows × 30 columns</p>\n",
       "</div>"
      ],
      "text/plain": [
       "    Rk   G        Date     Age   Tm Unnamed: 5  Opp Unnamed: 7  GS     MP  \\\n",
       "0    1   1  2015-10-27  27-227  GSW        NaN  NOP    W (+16)   1  35:37   \n",
       "1    2   2  2015-10-30  27-230  GSW          @  HOU    W (+20)   1  27:24   \n",
       "2    3   3  2015-10-31  27-231  GSW          @  NOP    W (+14)   1  35:38   \n",
       "3    4   4  2015-11-02  27-233  GSW        NaN  MEM    W (+50)   1  28:24   \n",
       "4    5   5  2015-11-04  27-235  GSW        NaN  LAC     W (+4)   1  32:38   \n",
       "..  ..  ..         ...     ...  ...        ...  ...        ...  ..    ...   \n",
       "74  78  75  2016-04-05  28-022  GSW        NaN  MIN     L (-7)   1  42:35   \n",
       "75  79  76  2016-04-07  28-024  GSW        NaN  SAS    W (+11)   1  36:17   \n",
       "76  80  77  2016-04-09  28-026  GSW          @  MEM     W (+1)   1  33:59   \n",
       "77  81  78  2016-04-10  28-027  GSW          @  SAS     W (+6)   1  35:22   \n",
       "78  82  79  2016-04-13  28-030  GSW        NaN  MEM    W (+21)   1  29:46   \n",
       "\n",
       "    ...  DRB  TRB  AST  STL  BLK  TOV  PF  PTS  GmSc  +/-  \n",
       "0   ...    3    6    7    2    0    2   1   40  34.9   12  \n",
       "1   ...    7    7    6    1    0    1   4   25  22.4   12  \n",
       "2   ...    4    4    9    4    0    2   3   53  49.2   16  \n",
       "3   ...    2    3    3    3    1    3   2   30  26.1   37  \n",
       "4   ...    5    5    4    1    0    0   3   31  26.0    7  \n",
       "..  ...  ...  ...  ...  ...  ...  ...  ..  ...   ...  ...  \n",
       "74  ...    4    6   15    3    0    3   4   21  17.8    3  \n",
       "75  ...    5    5    9    2    0    3   2   27  24.1   14  \n",
       "76  ...    9    9    8    1    0    2   1   17  11.3   10  \n",
       "77  ...    5    5    5    2    0    4   4   37  28.2    7  \n",
       "78  ...    3    4    6    2    0    2   2   46  40.2   19  \n",
       "\n",
       "[79 rows x 30 columns]"
      ]
     },
     "execution_count": 3,
     "metadata": {},
     "output_type": "execute_result"
    }
   ],
   "source": [
    "import pandas as pd\n",
    "\n",
    "data = pd.read_csv(\"https://raw.githubusercontent.com/catabia/cs391_spring21/main/curry16.csv\")\n",
    "data"
   ]
  },
  {
   "cell_type": "markdown",
   "metadata": {
    "id": "JmuMuHo0mTt-"
   },
   "source": [
    "### **2.1**\n",
    "Create a new pandas DataFrame with two columns, containing:\n",
    "1. The number of successful three-pointers (should range from 1-12, as Curry scored anywhere between 1-12 three-pointers per game)\n",
    "2. The number of games in which Curry scored that many three-pointers"
   ]
  },
  {
   "cell_type": "code",
   "execution_count": 4,
   "metadata": {
    "id": "8VZQ0x-lI7mV"
   },
   "outputs": [
    {
     "data": {
      "text/html": [
       "<div>\n",
       "<style scoped>\n",
       "    .dataframe tbody tr th:only-of-type {\n",
       "        vertical-align: middle;\n",
       "    }\n",
       "\n",
       "    .dataframe tbody tr th {\n",
       "        vertical-align: top;\n",
       "    }\n",
       "\n",
       "    .dataframe thead th {\n",
       "        text-align: right;\n",
       "    }\n",
       "</style>\n",
       "<table border=\"1\" class=\"dataframe\">\n",
       "  <thead>\n",
       "    <tr style=\"text-align: right;\">\n",
       "      <th></th>\n",
       "      <th>3P</th>\n",
       "      <th>Game_Count</th>\n",
       "    </tr>\n",
       "  </thead>\n",
       "  <tbody>\n",
       "    <tr>\n",
       "      <th>0</th>\n",
       "      <td>1</td>\n",
       "      <td>5</td>\n",
       "    </tr>\n",
       "    <tr>\n",
       "      <th>1</th>\n",
       "      <td>2</td>\n",
       "      <td>7</td>\n",
       "    </tr>\n",
       "    <tr>\n",
       "      <th>2</th>\n",
       "      <td>3</td>\n",
       "      <td>13</td>\n",
       "    </tr>\n",
       "    <tr>\n",
       "      <th>3</th>\n",
       "      <td>4</td>\n",
       "      <td>11</td>\n",
       "    </tr>\n",
       "    <tr>\n",
       "      <th>4</th>\n",
       "      <td>5</td>\n",
       "      <td>12</td>\n",
       "    </tr>\n",
       "    <tr>\n",
       "      <th>5</th>\n",
       "      <td>6</td>\n",
       "      <td>7</td>\n",
       "    </tr>\n",
       "    <tr>\n",
       "      <th>6</th>\n",
       "      <td>7</td>\n",
       "      <td>8</td>\n",
       "    </tr>\n",
       "    <tr>\n",
       "      <th>7</th>\n",
       "      <td>8</td>\n",
       "      <td>9</td>\n",
       "    </tr>\n",
       "    <tr>\n",
       "      <th>8</th>\n",
       "      <td>9</td>\n",
       "      <td>3</td>\n",
       "    </tr>\n",
       "    <tr>\n",
       "      <th>9</th>\n",
       "      <td>10</td>\n",
       "      <td>2</td>\n",
       "    </tr>\n",
       "    <tr>\n",
       "      <th>10</th>\n",
       "      <td>11</td>\n",
       "      <td>1</td>\n",
       "    </tr>\n",
       "    <tr>\n",
       "      <th>11</th>\n",
       "      <td>12</td>\n",
       "      <td>1</td>\n",
       "    </tr>\n",
       "  </tbody>\n",
       "</table>\n",
       "</div>"
      ],
      "text/plain": [
       "    3P  Game_Count\n",
       "0    1           5\n",
       "1    2           7\n",
       "2    3          13\n",
       "3    4          11\n",
       "4    5          12\n",
       "5    6           7\n",
       "6    7           8\n",
       "7    8           9\n",
       "8    9           3\n",
       "9   10           2\n",
       "10  11           1\n",
       "11  12           1"
      ]
     },
     "execution_count": 4,
     "metadata": {},
     "output_type": "execute_result"
    }
   ],
   "source": [
    "# Answer:\n",
    "tpCount = data.groupby('3P').size().to_frame(name='Game_Count').reset_index()\n",
    "tpCount"
   ]
  },
  {
   "cell_type": "markdown",
   "metadata": {
    "id": "CqKakI2Vm9Mo"
   },
   "source": [
    "### **2.2**\n",
    "\n",
    "Use matplotlib to create a bar plot from the DataFrame you created in **2.1**, with the number of three-pointers on the $x$-axis and the number of games on the $y$-axis. Draw a line on the bar plot that represents the mean number of successful three-pointers per game. Remember to also label your $x$ and $y$ axes, and to give your plot an appropriate title."
   ]
  },
  {
   "cell_type": "code",
   "execution_count": 6,
   "metadata": {
    "id": "gZGiOf6QfbAb"
   },
   "outputs": [
    {
     "data": {
      "text/plain": [
       "<matplotlib.lines.Line2D at 0x12285a6a0>"
      ]
     },
     "execution_count": 6,
     "metadata": {},
     "output_type": "execute_result"
    },
    {
     "data": {
      "image/png": "[encoded data removed]",
      "text/plain": [
       "<Figure size 432x288 with 1 Axes>"
      ]
     },
     "metadata": {},
     "output_type": "display_data"
    }
   ],
   "source": [
    "# Answer:\n",
    "\n",
    "import matplotlib.pyplot as plt\n",
    "%matplotlib inline\n",
    "plt.style.use('ggplot')\n",
    "\n",
    "\n",
    "plt.bar([1, 2, 3, 4, 5, 6, 7, 8, 9, 10, 11, 12], tpCount.Game_Count)\n",
    "\n",
    "plt.xlabel(\"Number of 3 pointers\")\n",
    "plt.ylabel(\"Amount of Games\")\n",
    "plt.title(\"Game count of three pointers made per game\")\n",
    "\n",
    "plt.axvline(x=data['3P'].median(), color = 'black') # function draws a vertical line"
   ]
  },
  {
   "cell_type": "markdown",
   "metadata": {
    "id": "wpsl74Dun18M"
   },
   "source": [
    "### **2.3**\n",
    "\n",
    "Looking at the bar graph you produced in **2.2**, do you think that the number of three-pointers Steph Curry scores in a game is random?  Why or why not?"
   ]
  },
  {
   "cell_type": "markdown",
   "metadata": {
    "id": "bhiinWL4ojb1"
   },
   "source": [
    "**Answer:**\n",
    "\n",
    "After learning more about the various statistical distribution as well as looking at the graph generated in the previous question, I start to believe that Curry's three pointer count per game is not random at all, rather a ditrbutionary model of his $\\lambda$ three point rate (which varies form player to player)."
   ]
  },
  {
   "cell_type": "markdown",
   "metadata": {
    "id": "b1XaUd70oqMD"
   },
   "source": [
    "### **2.4**\n",
    "\n",
    "Calculate Curry's average number of successful three-pointers per game.  Then, use the Poisson distribution to predict how many games Curry should score no three-pointer, 1 three-pointer, 2 three-pointers, etc.  (Calculate this for the range from 0 to 12.)"
   ]
  },
  {
   "cell_type": "code",
   "execution_count": 7,
   "metadata": {
    "id": "cDlwOtJohk1J"
   },
   "outputs": [
    {
     "name": "stdout",
     "output_type": "stream",
     "text": [
      "Curry's Successfull 3P Average is: 5.0886075949367084\n",
      "\n",
      "-----------------------------------\n",
      "\n",
      "0 threes \t\t0.4871614250880855\n",
      "1 threes \t\t2.478973327663423\n",
      "2 threes \t\t6.307261251396806\n",
      "3 threes \t\t10.698392502369265\n",
      "4 threes \t\t13.609980335292542\n",
      "5 threes \t\t13.851169860221784\n",
      "6 threes \t\t11.747194691580486\n",
      "7 threes \t\t8.539552018110957\n",
      "8 threes \t\t5.431803657089557\n",
      "9 threes \t\t3.0711463715189917\n",
      "10 threes \t\t1.5627858751273853\n",
      "11 threes \t\t0.7229458248575483\n",
      "12 threes \t\t0.3065656345914919\n"
     ]
    }
   ],
   "source": [
    "# Answer:\n",
    "import math\n",
    "from scipy.stats import poisson\n",
    "total = data['3P'].sum()\n",
    "games = tpCount.Game_Count.sum()\n",
    "avg = total / games\n",
    "\n",
    "print(\"Curry's Successfull 3P Average is: \" + str(avg) + \"\\n\")\n",
    "print(\"-----------------------------------\" + \"\\n\")\n",
    "\n",
    "# REMEMBER: in Poisson's ditribution, the average is \\lambda (the rate)\n",
    "i = 0\n",
    "for i in range(13):\n",
    "#     term1 = avg ** i\n",
    "#     term2 = math.e ** (-1*avg)\n",
    "#     term3 = math.factorial(math.floor(avg))\n",
    "#     print(str(i) + \" threes \\t\\t\" + str(((term1 * term2) / term3)))\n",
    "    print(str(i) + \" threes \\t\\t\" + str(poisson.pmf(i, avg) * games)) #QUESTION: Should I round (up,down, or neutral) the result?"
   ]
  },
  {
   "cell_type": "markdown",
   "metadata": {
    "id": "UPLmmvbopCJg"
   },
   "source": [
    "### **2.5**\n",
    "\n",
    "Compare the predictions of the Poisson distribution in **2.4** with the actual outcomes that you examined in **2.2**.  How well do they match?  Why do you think this is the case?"
   ]
  },
  {
   "cell_type": "markdown",
   "metadata": {},
   "source": [
    "**ANSWER**\n",
    "\n",
    "We notice that the results of the Poisson distribution's predictions are similar (to a certain extent) to the actual record's of Stephen Curry's three pointer count per game count. They match pretty well, though not completely; however, they would have the same approximate rounded curve.\n",
    "\n",
    "I think they match because the Poisson Distribution is made to model such scenarios for the average number of events that happen in a unit of time, which could be applied to this situation as the avergae number of three made per game (by Stephen Curry)"
   ]
  },
  {
   "cell_type": "code",
   "execution_count": null,
   "metadata": {},
   "outputs": [],
   "source": []
  },
  {
   "cell_type": "code",
   "execution_count": null,
   "metadata": {},
   "outputs": [],
   "source": []
  },
  {
   "cell_type": "code",
   "execution_count": null,
   "metadata": {},
   "outputs": [],
   "source": []
  }
 ],
 "metadata": {
  "colab": {
   "collapsed_sections": [],
   "name": "homework2.ipynb",
   "provenance": []
  },
  "kernelspec": {
   "display_name": "Python 3",
   "language": "python",
   "name": "python3"
  },
  "language_info": {
   "codemirror_mode": {
    "name": "ipython",
    "version": 3
   },
   "file_extension": ".py",
   "mimetype": "text/x-python",
   "name": "python",
   "nbconvert_exporter": "python",
   "pygments_lexer": "ipython3",
   "version": "3.8.3"
  }
 },
 "nbformat": 4,
 "nbformat_minor": 1
}
